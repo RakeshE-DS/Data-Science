{
  "cells": [
    {
      "cell_type": "markdown",
      "metadata": {
        "id": "naWvqMEMHglO"
      },
      "source": [
        "<p style=\"font-size:32px;text-align:center\"> <b>Social network Graph Link Prediction - Facebook Challenge</b> </p>"
      ]
    },
    {
      "cell_type": "code",
      "execution_count": null,
      "metadata": {
        "id": "9wb9N5RzHglP"
      },
      "outputs": [],
      "source": [
        "#Importing Libraries\n",
        "# please do go through this python notebook:\n",
        "import warnings\n",
        "warnings.filterwarnings(\"ignore\")\n",
        "\n",
        "import csv\n",
        "import pandas as pd#pandas to create small dataframes\n",
        "import datetime #Convert to unix time\n",
        "import time #Convert to unix time\n",
        "# if numpy is not installed already : pip3 install numpy\n",
        "import numpy as np#Do aritmetic operations on arrays\n",
        "# matplotlib: used to plot graphs\n",
        "import matplotlib\n",
        "import matplotlib.pylab as plt\n",
        "import seaborn as sns#Plots\n",
        "from matplotlib import rcParams#Size of plots\n",
        "from sklearn.cluster import MiniBatchKMeans, KMeans#Clustering\n",
        "import math\n",
        "import pickle\n",
        "import os\n",
        "# to install xgboost: pip3 install xgboost\n",
        "import xgboost as xgb\n",
        "\n",
        "import warnings\n",
        "import networkx as nx\n",
        "import pdb\n",
        "import pickle\n",
        "from pandas import HDFStore,DataFrame\n",
        "from pandas import read_hdf\n",
        "from scipy.sparse.linalg import svds, eigs\n",
        "import gc\n",
        "from tqdm import tqdm\n",
        "from sklearn.ensemble import RandomForestClassifier\n",
        "from sklearn.metrics import f1_score"
      ]
    },
    {
      "cell_type": "code",
      "execution_count": null,
      "metadata": {
        "id": "XC4OJFKkHglU"
      },
      "outputs": [],
      "source": [
        "from pandas import read_hdf\n",
        "df_final_train = read_hdf('storage_sample_stage4.h5', 'train_df',mode='r')\n",
        "df_final_test = read_hdf('storage_sample_stage4.h5', 'test_df',mode='r')"
      ]
    },
    {
      "cell_type": "code",
      "execution_count": null,
      "metadata": {
        "id": "5Gm-BHRkHglW",
        "outputId": "d2c2294c-113e-4fdb-d3e5-dc167dcf5fbc"
      },
      "outputs": [
        {
          "data": {
            "text/plain": [
              "Index(['source_node', 'destination_node', 'indicator_link',\n",
              "       'jaccard_followers', 'jaccard_followees', 'cosine_followers',\n",
              "       'cosine_followees', 'num_followers_s', 'num_followees_s',\n",
              "       'num_followees_d', 'inter_followers', 'inter_followees', 'adar_index',\n",
              "       'follows_back', 'same_comp', 'shortest_path', 'weight_in', 'weight_out',\n",
              "       'weight_f1', 'weight_f2', 'weight_f3', 'weight_f4', 'page_rank_s',\n",
              "       'page_rank_d', 'katz_s', 'katz_d', 'hubs_s', 'hubs_d', 'authorities_s',\n",
              "       'authorities_d', 'svd_u_s_1', 'svd_u_s_2', 'svd_u_s_3', 'svd_u_s_4',\n",
              "       'svd_u_s_5', 'svd_u_s_6', 'svd_u_d_1', 'svd_u_d_2', 'svd_u_d_3',\n",
              "       'svd_u_d_4', 'svd_u_d_5', 'svd_u_d_6', 'svd_v_s_1', 'svd_v_s_2',\n",
              "       'svd_v_s_3', 'svd_v_s_4', 'svd_v_s_5', 'svd_v_s_6', 'svd_v_d_1',\n",
              "       'svd_v_d_2', 'svd_v_d_3', 'svd_v_d_4', 'svd_v_d_5', 'svd_v_d_6'],\n",
              "      dtype='object')"
            ]
          },
          "execution_count": 64,
          "metadata": {},
          "output_type": "execute_result"
        }
      ],
      "source": [
        "df_final_train.columns"
      ]
    },
    {
      "cell_type": "code",
      "execution_count": null,
      "metadata": {
        "id": "XRW7VZ4AHglc"
      },
      "outputs": [],
      "source": [
        "y_train = df_final_train.indicator_link\n",
        "y_test = df_final_test.indicator_link"
      ]
    },
    {
      "cell_type": "code",
      "execution_count": null,
      "metadata": {
        "id": "B57nCO4E_-DZ"
      },
      "outputs": [],
      "source": [
        "df_train=df_final_train[['source_node', 'destination_node','indicator_link']]\n",
        "df_test=df_final_test[['source_node', 'destination_node','indicator_link']]"
      ]
    },
    {
      "cell_type": "code",
      "execution_count": null,
      "metadata": {
        "id": "4lj9M_qtHglf"
      },
      "outputs": [],
      "source": [
        "df_final_train.drop(['source_node', 'destination_node','indicator_link'],axis=1,inplace=True)\n",
        "df_final_test.drop(['source_node', 'destination_node','indicator_link'],axis=1,inplace=True)"
      ]
    },
    {
      "cell_type": "code",
      "execution_count": null,
      "metadata": {
        "id": "HujuN8mZ_-Da"
      },
      "outputs": [],
      "source": [
        "g_train=nx.from_pandas_edgelist(df_train, 'source_node', 'destination_node', ['indicator_link'])\n",
        "g_test=nx.from_pandas_edgelist(df_test, 'source_node', 'destination_node', ['indicator_link'])"
      ]
    },
    {
      "cell_type": "code",
      "execution_count": null,
      "metadata": {
        "id": "P5TBeSAJ_-Da"
      },
      "outputs": [],
      "source": [
        "G_train= nx.DiGraph(g_train)\n",
        "G_test=nx.DiGraph(g_test)"
      ]
    },
    {
      "cell_type": "code",
      "execution_count": null,
      "metadata": {
        "id": "SVfvQufD_-Da"
      },
      "outputs": [],
      "source": [
        "def preferential_for_followee(a,b):\n",
        "    return G_train.in_degree(a)*G_train.in_degree(b)\n",
        "def preferential_for_follower(a,b):\n",
        "    return G_train.out_degree(a)*G_train.out_degree(b)"
      ]
    },
    {
      "cell_type": "code",
      "execution_count": null,
      "metadata": {
        "id": "5pz6wJe__-Db",
        "outputId": "a5b67938-f61c-465c-89c3-4e75bd4a3830"
      },
      "outputs": [
        {
          "name": "stderr",
          "output_type": "stream",
          "text": [
            "100%|██████████| 100002/100002 [01:20<00:00, 1238.75it/s]\n"
          ]
        }
      ],
      "source": [
        "list1=[]\n",
        "list2=[]\n",
        "for i in tqdm(range(df_train.shape[0])):\n",
        "    list1.append(preferential_for_followee(df_train.iloc[i]['source_node'],df_train.iloc[i]['destination_node']))\n",
        "    list2.append(preferential_for_follower(df_train.iloc[i]['source_node'],df_train.iloc[i]['destination_node']))"
      ]
    },
    {
      "cell_type": "code",
      "execution_count": null,
      "metadata": {
        "id": "P7D6WVrZ_-Db"
      },
      "outputs": [],
      "source": [
        "from sklearn.preprocessing import normalize\n",
        "list1=np.array(list1)\n",
        "list2=np.array(list2)\n",
        "list1=list1.reshape(1,-1)\n",
        "list2=list2.reshape(1,-1)\n",
        "list1=normalize(list1)\n",
        "list2=normalize(list2)"
      ]
    },
    {
      "cell_type": "code",
      "execution_count": null,
      "metadata": {
        "id": "A2YK-dau_-Db"
      },
      "outputs": [],
      "source": [
        "l=df_final_train.columns"
      ]
    },
    {
      "cell_type": "code",
      "execution_count": null,
      "metadata": {
        "id": "GPBIu3vo_-Db"
      },
      "outputs": [],
      "source": [
        "l=l[-24:]"
      ]
    },
    {
      "cell_type": "code",
      "execution_count": null,
      "metadata": {
        "id": "ZQ_KBkMs_-Db",
        "outputId": "c0e09046-ddff-4b6b-c1d3-ba7352189600"
      },
      "outputs": [
        {
          "name": "stderr",
          "output_type": "stream",
          "text": [
            "100%|██████████| 100002/100002 [05:47<00:00, 282.36it/s]\n"
          ]
        }
      ],
      "source": [
        "lis=[]\n",
        "lis1=[]\n",
        "for i in tqdm(range(df_train.shape[0])):\n",
        "    a=df_final_train.iloc[i][l[:6]]\n",
        "    b=df_final_train.iloc[i][l[6:12]]\n",
        "    c=df_final_train.iloc[i][l[12:18]]\n",
        "    d=df_final_train.iloc[i][l[18:]]\n",
        "    lis.append(np.dot(a,b))\n",
        "    lis1.append(np.dot(c,d))\n",
        ""
      ]
    },
    {
      "cell_type": "code",
      "execution_count": null,
      "metadata": {
        "id": "h5h_DvIG_-Db"
      },
      "outputs": [],
      "source": [
        "lis=np.array(lis)\n",
        "lis1=np.array(lis1)\n",
        "lis=lis.reshape(1,-1)\n",
        "lis1=lis1.reshape(1,-1)\n",
        "lis=normalize(lis)\n",
        "lis1=normalize(lis1)"
      ]
    },
    {
      "cell_type": "code",
      "execution_count": null,
      "metadata": {
        "id": "DAKUqzcb_-Db"
      },
      "outputs": [],
      "source": [
        "list1=list(list1[0])\n",
        "list2=list(list2[0])\n",
        "lis=list(lis[0])\n",
        "lis1=list(lis1[0])"
      ]
    },
    {
      "cell_type": "code",
      "execution_count": null,
      "metadata": {
        "id": "ZHXVYCa8_-Db"
      },
      "outputs": [],
      "source": [
        "p=pd.DataFrame({'preferential_followee':list1,'preferential_follower' : list2,'svd_dot_u':lis,'svd_dot_v' : lis1})"
      ]
    },
    {
      "cell_type": "code",
      "execution_count": null,
      "metadata": {
        "id": "yVNMfw7m_-Dc",
        "outputId": "0a33a6b9-cc89-407d-9616-cda193d5126f"
      },
      "outputs": [
        {
          "data": {
            "text/html": [
              "<div>\n",
              "<style scoped>\n",
              "    .dataframe tbody tr th:only-of-type {\n",
              "        vertical-align: middle;\n",
              "    }\n",
              "\n",
              "    .dataframe tbody tr th {\n",
              "        vertical-align: top;\n",
              "    }\n",
              "\n",
              "    .dataframe thead th {\n",
              "        text-align: right;\n",
              "    }\n",
              "</style>\n",
              "<table border=\"1\" class=\"dataframe\">\n",
              "  <thead>\n",
              "    <tr style=\"text-align: right;\">\n",
              "      <th></th>\n",
              "      <th>preferential_followee</th>\n",
              "      <th>preferential_follower</th>\n",
              "      <th>svd_dot_u</th>\n",
              "      <th>svd_dot_v</th>\n",
              "    </tr>\n",
              "  </thead>\n",
              "  <tbody>\n",
              "    <tr>\n",
              "      <th>0</th>\n",
              "      <td>0.001709</td>\n",
              "      <td>0.001709</td>\n",
              "      <td>8.569434e-11</td>\n",
              "      <td>1.743321e-11</td>\n",
              "    </tr>\n",
              "    <tr>\n",
              "      <th>1</th>\n",
              "      <td>0.003419</td>\n",
              "      <td>0.003419</td>\n",
              "      <td>2.453958e-02</td>\n",
              "      <td>7.061761e-03</td>\n",
              "    </tr>\n",
              "    <tr>\n",
              "      <th>2</th>\n",
              "      <td>0.001709</td>\n",
              "      <td>0.001709</td>\n",
              "      <td>1.373853e-34</td>\n",
              "      <td>1.921719e-35</td>\n",
              "    </tr>\n",
              "    <tr>\n",
              "      <th>3</th>\n",
              "      <td>0.001709</td>\n",
              "      <td>0.001709</td>\n",
              "      <td>3.620339e-19</td>\n",
              "      <td>2.460196e-17</td>\n",
              "    </tr>\n",
              "    <tr>\n",
              "      <th>4</th>\n",
              "      <td>0.001709</td>\n",
              "      <td>0.001709</td>\n",
              "      <td>5.974968e-13</td>\n",
              "      <td>0.000000e+00</td>\n",
              "    </tr>\n",
              "  </tbody>\n",
              "</table>\n",
              "</div>"
            ],
            "text/plain": [
              "   preferential_followee  preferential_follower     svd_dot_u     svd_dot_v\n",
              "0               0.001709               0.001709  8.569434e-11  1.743321e-11\n",
              "1               0.003419               0.003419  2.453958e-02  7.061761e-03\n",
              "2               0.001709               0.001709  1.373853e-34  1.921719e-35\n",
              "3               0.001709               0.001709  3.620339e-19  2.460196e-17\n",
              "4               0.001709               0.001709  5.974968e-13  0.000000e+00"
            ]
          },
          "execution_count": 91,
          "metadata": {},
          "output_type": "execute_result"
        }
      ],
      "source": [
        "p.head()"
      ]
    },
    {
      "cell_type": "code",
      "execution_count": null,
      "metadata": {
        "id": "WfR95NBl_-Dc"
      },
      "outputs": [],
      "source": [
        "x_train=pd.concat([df_final_train,p],axis=1)"
      ]
    },
    {
      "cell_type": "code",
      "execution_count": null,
      "metadata": {
        "id": "VsaP0F5z_-Dc",
        "outputId": "f7d86119-6469-40a9-8e5d-c84ecb4e6131"
      },
      "outputs": [
        {
          "data": {
            "text/html": [
              "<div>\n",
              "<style scoped>\n",
              "    .dataframe tbody tr th:only-of-type {\n",
              "        vertical-align: middle;\n",
              "    }\n",
              "\n",
              "    .dataframe tbody tr th {\n",
              "        vertical-align: top;\n",
              "    }\n",
              "\n",
              "    .dataframe thead th {\n",
              "        text-align: right;\n",
              "    }\n",
              "</style>\n",
              "<table border=\"1\" class=\"dataframe\">\n",
              "  <thead>\n",
              "    <tr style=\"text-align: right;\">\n",
              "      <th></th>\n",
              "      <th>jaccard_followers</th>\n",
              "      <th>jaccard_followees</th>\n",
              "      <th>cosine_followers</th>\n",
              "      <th>cosine_followees</th>\n",
              "      <th>num_followers_s</th>\n",
              "      <th>num_followees_s</th>\n",
              "      <th>num_followees_d</th>\n",
              "      <th>inter_followers</th>\n",
              "      <th>inter_followees</th>\n",
              "      <th>adar_index</th>\n",
              "      <th>...</th>\n",
              "      <th>svd_v_d_1</th>\n",
              "      <th>svd_v_d_2</th>\n",
              "      <th>svd_v_d_3</th>\n",
              "      <th>svd_v_d_4</th>\n",
              "      <th>svd_v_d_5</th>\n",
              "      <th>svd_v_d_6</th>\n",
              "      <th>preferential_followee</th>\n",
              "      <th>preferential_follower</th>\n",
              "      <th>svd_dot_u</th>\n",
              "      <th>svd_dot_v</th>\n",
              "    </tr>\n",
              "  </thead>\n",
              "  <tbody>\n",
              "    <tr>\n",
              "      <th>0</th>\n",
              "      <td>0</td>\n",
              "      <td>0.000000</td>\n",
              "      <td>0.000000</td>\n",
              "      <td>0.000000</td>\n",
              "      <td>6</td>\n",
              "      <td>15</td>\n",
              "      <td>8</td>\n",
              "      <td>0</td>\n",
              "      <td>0</td>\n",
              "      <td>0.000000</td>\n",
              "      <td>...</td>\n",
              "      <td>-1.355368e-12</td>\n",
              "      <td>4.675307e-13</td>\n",
              "      <td>1.128591e-06</td>\n",
              "      <td>6.616550e-14</td>\n",
              "      <td>9.771077e-13</td>\n",
              "      <td>4.159752e-14</td>\n",
              "      <td>0.001709</td>\n",
              "      <td>0.001709</td>\n",
              "      <td>8.569434e-11</td>\n",
              "      <td>1.743321e-11</td>\n",
              "    </tr>\n",
              "    <tr>\n",
              "      <th>1</th>\n",
              "      <td>0</td>\n",
              "      <td>0.187135</td>\n",
              "      <td>0.028382</td>\n",
              "      <td>0.343828</td>\n",
              "      <td>94</td>\n",
              "      <td>61</td>\n",
              "      <td>142</td>\n",
              "      <td>11</td>\n",
              "      <td>32</td>\n",
              "      <td>16.362912</td>\n",
              "      <td>...</td>\n",
              "      <td>1.245101e-12</td>\n",
              "      <td>-1.636948e-10</td>\n",
              "      <td>-3.112650e-10</td>\n",
              "      <td>6.738902e-02</td>\n",
              "      <td>2.607801e-11</td>\n",
              "      <td>2.372904e-09</td>\n",
              "      <td>0.003419</td>\n",
              "      <td>0.003419</td>\n",
              "      <td>2.453958e-02</td>\n",
              "      <td>7.061761e-03</td>\n",
              "    </tr>\n",
              "    <tr>\n",
              "      <th>2</th>\n",
              "      <td>0</td>\n",
              "      <td>0.369565</td>\n",
              "      <td>0.156957</td>\n",
              "      <td>0.566038</td>\n",
              "      <td>28</td>\n",
              "      <td>41</td>\n",
              "      <td>22</td>\n",
              "      <td>26</td>\n",
              "      <td>17</td>\n",
              "      <td>10.991826</td>\n",
              "      <td>...</td>\n",
              "      <td>-1.238370e-18</td>\n",
              "      <td>1.438175e-19</td>\n",
              "      <td>-1.852863e-19</td>\n",
              "      <td>-5.901864e-19</td>\n",
              "      <td>1.629341e-19</td>\n",
              "      <td>-2.572452e-19</td>\n",
              "      <td>0.001709</td>\n",
              "      <td>0.001709</td>\n",
              "      <td>1.373853e-34</td>\n",
              "      <td>1.921719e-35</td>\n",
              "    </tr>\n",
              "    <tr>\n",
              "      <th>3</th>\n",
              "      <td>0</td>\n",
              "      <td>0.000000</td>\n",
              "      <td>0.000000</td>\n",
              "      <td>0.000000</td>\n",
              "      <td>11</td>\n",
              "      <td>5</td>\n",
              "      <td>7</td>\n",
              "      <td>0</td>\n",
              "      <td>0</td>\n",
              "      <td>0.000000</td>\n",
              "      <td>...</td>\n",
              "      <td>-9.818087e-10</td>\n",
              "      <td>3.454672e-11</td>\n",
              "      <td>5.213635e-08</td>\n",
              "      <td>9.595823e-13</td>\n",
              "      <td>3.047045e-10</td>\n",
              "      <td>1.246592e-13</td>\n",
              "      <td>0.001709</td>\n",
              "      <td>0.001709</td>\n",
              "      <td>3.620339e-19</td>\n",
              "      <td>2.460196e-17</td>\n",
              "    </tr>\n",
              "    <tr>\n",
              "      <th>4</th>\n",
              "      <td>0</td>\n",
              "      <td>0.000000</td>\n",
              "      <td>0.000000</td>\n",
              "      <td>0.000000</td>\n",
              "      <td>1</td>\n",
              "      <td>11</td>\n",
              "      <td>3</td>\n",
              "      <td>0</td>\n",
              "      <td>0</td>\n",
              "      <td>0.000000</td>\n",
              "      <td>...</td>\n",
              "      <td>0.000000e+00</td>\n",
              "      <td>0.000000e+00</td>\n",
              "      <td>0.000000e+00</td>\n",
              "      <td>0.000000e+00</td>\n",
              "      <td>0.000000e+00</td>\n",
              "      <td>0.000000e+00</td>\n",
              "      <td>0.001709</td>\n",
              "      <td>0.001709</td>\n",
              "      <td>5.974968e-13</td>\n",
              "      <td>0.000000e+00</td>\n",
              "    </tr>\n",
              "  </tbody>\n",
              "</table>\n",
              "<p>5 rows × 55 columns</p>\n",
              "</div>"
            ],
            "text/plain": [
              "   jaccard_followers  jaccard_followees  cosine_followers  cosine_followees  \\\n",
              "0                  0           0.000000          0.000000          0.000000   \n",
              "1                  0           0.187135          0.028382          0.343828   \n",
              "2                  0           0.369565          0.156957          0.566038   \n",
              "3                  0           0.000000          0.000000          0.000000   \n",
              "4                  0           0.000000          0.000000          0.000000   \n",
              "\n",
              "   num_followers_s  num_followees_s  num_followees_d  inter_followers  \\\n",
              "0                6               15                8                0   \n",
              "1               94               61              142               11   \n",
              "2               28               41               22               26   \n",
              "3               11                5                7                0   \n",
              "4                1               11                3                0   \n",
              "\n",
              "   inter_followees  adar_index  ...     svd_v_d_1     svd_v_d_2     svd_v_d_3  \\\n",
              "0                0    0.000000  ... -1.355368e-12  4.675307e-13  1.128591e-06   \n",
              "1               32   16.362912  ...  1.245101e-12 -1.636948e-10 -3.112650e-10   \n",
              "2               17   10.991826  ... -1.238370e-18  1.438175e-19 -1.852863e-19   \n",
              "3                0    0.000000  ... -9.818087e-10  3.454672e-11  5.213635e-08   \n",
              "4                0    0.000000  ...  0.000000e+00  0.000000e+00  0.000000e+00   \n",
              "\n",
              "      svd_v_d_4     svd_v_d_5     svd_v_d_6  preferential_followee  \\\n",
              "0  6.616550e-14  9.771077e-13  4.159752e-14               0.001709   \n",
              "1  6.738902e-02  2.607801e-11  2.372904e-09               0.003419   \n",
              "2 -5.901864e-19  1.629341e-19 -2.572452e-19               0.001709   \n",
              "3  9.595823e-13  3.047045e-10  1.246592e-13               0.001709   \n",
              "4  0.000000e+00  0.000000e+00  0.000000e+00               0.001709   \n",
              "\n",
              "   preferential_follower     svd_dot_u     svd_dot_v  \n",
              "0               0.001709  8.569434e-11  1.743321e-11  \n",
              "1               0.003419  2.453958e-02  7.061761e-03  \n",
              "2               0.001709  1.373853e-34  1.921719e-35  \n",
              "3               0.001709  3.620339e-19  2.460196e-17  \n",
              "4               0.001709  5.974968e-13  0.000000e+00  \n",
              "\n",
              "[5 rows x 55 columns]"
            ]
          },
          "execution_count": 93,
          "metadata": {},
          "output_type": "execute_result"
        }
      ],
      "source": [
        "x_train.head()"
      ]
    },
    {
      "cell_type": "code",
      "execution_count": null,
      "metadata": {
        "id": "QBinLs7L_-Dc"
      },
      "outputs": [],
      "source": [
        "def preferential_for_followee(a,b):\n",
        "    return G_test.in_degree(a)*G_test.in_degree(b)\n",
        "def preferential_for_follower(a,b):\n",
        "    return G_test.out_degree(a)*G_test.out_degree(b)"
      ]
    },
    {
      "cell_type": "code",
      "execution_count": null,
      "metadata": {
        "id": "DsQHVJ4P_-Dc",
        "outputId": "eca4b6e8-bf2c-42d5-aadd-71f9cd2fb71a"
      },
      "outputs": [
        {
          "name": "stderr",
          "output_type": "stream",
          "text": [
            "100%|██████████| 50002/50002 [00:40<00:00, 1237.14it/s]\n"
          ]
        }
      ],
      "source": [
        "list1=[]\n",
        "list2=[]\n",
        "for i in tqdm(range(df_test.shape[0])):\n",
        "    list1.append(preferential_for_followee(df_test.iloc[i]['source_node'],df_test.iloc[i]['destination_node']))\n",
        "    list2.append(preferential_for_follower(df_test.iloc[i]['source_node'],df_test.iloc[i]['destination_node']))"
      ]
    },
    {
      "cell_type": "code",
      "execution_count": null,
      "metadata": {
        "id": "rgNu6OUp_-Dc",
        "outputId": "ec441bfc-9acc-4cca-98b0-5d44b539263e"
      },
      "outputs": [
        {
          "name": "stderr",
          "output_type": "stream",
          "text": [
            "100%|██████████| 50002/50002 [02:52<00:00, 289.34it/s]\n"
          ]
        }
      ],
      "source": [
        "lis=[]\n",
        "lis1=[]\n",
        "for i in tqdm(range(df_test.shape[0])):\n",
        "    a=df_final_test.iloc[i][l[:6]]\n",
        "    b=df_final_test.iloc[i][l[6:12]]\n",
        "    c=df_final_test.iloc[i][l[12:18]]\n",
        "    d=df_final_test.iloc[i][l[18:]]\n",
        "    lis.append(np.dot(a,b))\n",
        "    lis1.append(np.dot(c,d))"
      ]
    },
    {
      "cell_type": "code",
      "execution_count": null,
      "metadata": {
        "id": "ULP5kfui_-Dc"
      },
      "outputs": [],
      "source": [
        "list1=np.array(list1)\n",
        "list2=np.array(list2)\n",
        "list1=list1.reshape(1,-1)\n",
        "list2=list2.reshape(1,-1)\n",
        "lis=normalize(lis)\n",
        "list1=normalize(list1)"
      ]
    },
    {
      "cell_type": "code",
      "execution_count": null,
      "metadata": {
        "id": "7s6SCLnp_-Dc"
      },
      "outputs": [],
      "source": [
        "list1=list(list1)\n",
        "list2=list(list2)\n",
        "lis=list(lis)\n",
        "lis1=list(lis1)"
      ]
    },
    {
      "cell_type": "code",
      "execution_count": null,
      "metadata": {
        "id": "9rUUVett_-Dc"
      },
      "outputs": [],
      "source": [
        "p=pd.DataFrame({'preferential_followee':list1,'preferential_follower' : list2,'svd_dot_u':lis,'svd_dot_v' : lis1})"
      ]
    },
    {
      "cell_type": "code",
      "execution_count": null,
      "metadata": {
        "id": "ushFoPZ9_-Dd",
        "outputId": "0cc31685-4d5c-410f-f7e3-ee57cbe19b39"
      },
      "outputs": [
        {
          "data": {
            "text/html": [
              "<div>\n",
              "<style scoped>\n",
              "    .dataframe tbody tr th:only-of-type {\n",
              "        vertical-align: middle;\n",
              "    }\n",
              "\n",
              "    .dataframe tbody tr th {\n",
              "        vertical-align: top;\n",
              "    }\n",
              "\n",
              "    .dataframe thead th {\n",
              "        text-align: right;\n",
              "    }\n",
              "</style>\n",
              "<table border=\"1\" class=\"dataframe\">\n",
              "  <thead>\n",
              "    <tr style=\"text-align: right;\">\n",
              "      <th></th>\n",
              "      <th>preferential_followee</th>\n",
              "      <th>preferential_follower</th>\n",
              "      <th>svd_dot_u</th>\n",
              "      <th>svd_dot_v</th>\n",
              "    </tr>\n",
              "  </thead>\n",
              "  <tbody>\n",
              "    <tr>\n",
              "      <th>0</th>\n",
              "      <td>0.006621</td>\n",
              "      <td>0.006621</td>\n",
              "      <td>8.425267e-20</td>\n",
              "      <td>2.074808e-17</td>\n",
              "    </tr>\n",
              "    <tr>\n",
              "      <th>1</th>\n",
              "      <td>0.003311</td>\n",
              "      <td>0.003311</td>\n",
              "      <td>1.352160e-17</td>\n",
              "      <td>1.188376e-17</td>\n",
              "    </tr>\n",
              "    <tr>\n",
              "      <th>2</th>\n",
              "      <td>0.003311</td>\n",
              "      <td>0.003311</td>\n",
              "      <td>3.671980e-13</td>\n",
              "      <td>3.904885e-12</td>\n",
              "    </tr>\n",
              "    <tr>\n",
              "      <th>3</th>\n",
              "      <td>0.003311</td>\n",
              "      <td>0.003311</td>\n",
              "      <td>1.634044e-10</td>\n",
              "      <td>9.819784e-11</td>\n",
              "    </tr>\n",
              "    <tr>\n",
              "      <th>4</th>\n",
              "      <td>0.003311</td>\n",
              "      <td>0.003311</td>\n",
              "      <td>1.246700e-11</td>\n",
              "      <td>1.300892e-11</td>\n",
              "    </tr>\n",
              "  </tbody>\n",
              "</table>\n",
              "</div>"
            ],
            "text/plain": [
              "   preferential_followee  preferential_follower     svd_dot_u     svd_dot_v\n",
              "0               0.006621               0.006621  8.425267e-20  2.074808e-17\n",
              "1               0.003311               0.003311  1.352160e-17  1.188376e-17\n",
              "2               0.003311               0.003311  3.671980e-13  3.904885e-12\n",
              "3               0.003311               0.003311  1.634044e-10  9.819784e-11\n",
              "4               0.003311               0.003311  1.246700e-11  1.300892e-11"
            ]
          },
          "execution_count": 105,
          "metadata": {},
          "output_type": "execute_result"
        }
      ],
      "source": [
        "p.head()"
      ]
    },
    {
      "cell_type": "code",
      "execution_count": null,
      "metadata": {
        "id": "Zldgx91-_-Dd"
      },
      "outputs": [],
      "source": [
        "x_test=pd.concat([df_final_test,p],axis=1)"
      ]
    },
    {
      "cell_type": "code",
      "execution_count": null,
      "metadata": {
        "id": "5XfUkZYQHgl7"
      },
      "outputs": [],
      "source": [
        "from sklearn.metrics import confusion_matrix\n",
        "def plot_confusion_matrix(test_y, predict_y):\n",
        "    C = confusion_matrix(test_y, predict_y)\n",
        "\n",
        "    A =(((C.T)/(C.sum(axis=1))).T)\n",
        "\n",
        "    B =(C/C.sum(axis=0))\n",
        "    plt.figure(figsize=(20,4))\n",
        "\n",
        "    labels = [0,1]\n",
        "    # representing A in heatmap format\n",
        "    cmap=sns.light_palette(\"blue\")\n",
        "    plt.subplot(1, 3, 1)\n",
        "    sns.heatmap(C, annot=True, cmap=cmap, fmt=\".3f\", xticklabels=labels, yticklabels=labels)\n",
        "    plt.xlabel('Predicted Class')\n",
        "    plt.ylabel('Original Class')\n",
        "    plt.title(\"Confusion matrix\")\n",
        "\n",
        "    plt.subplot(1, 3, 2)\n",
        "    sns.heatmap(B, annot=True, cmap=cmap, fmt=\".3f\", xticklabels=labels, yticklabels=labels)\n",
        "    plt.xlabel('Predicted Class')\n",
        "    plt.ylabel('Original Class')\n",
        "    plt.title(\"Precision matrix\")\n",
        "\n",
        "    plt.subplot(1, 3, 3)\n",
        "    # representing B in heatmap format\n",
        "    sns.heatmap(A, annot=True, cmap=cmap, fmt=\".3f\", xticklabels=labels, yticklabels=labels)\n",
        "    plt.xlabel('Predicted Class')\n",
        "    plt.ylabel('Original Class')\n",
        "    plt.title(\"Recall matrix\")\n",
        "\n",
        "    plt.show()"
      ]
    },
    {
      "cell_type": "markdown",
      "metadata": {
        "id": "xdHW32hcHgmN"
      },
      "source": [
        "# Assignments:\n",
        "\n",
        "1. Add another feature called  Preferential Attachment  with followers and followees data of vertex. you can check about Preferential Attachment in below link\n",
        "http://be.amazd.com/link-prediction/ <br>\n",
        "2. Add  feature called svd_dot. you can calculate svd_dot as Dot product between sourse node svd and destination node svd features.  you can read about this in below pdf\n",
        "https://storage.googleapis.com/kaggle-forum-message-attachments/2594/supervised_link_prediction.pdf<br>\n",
        "3. Tune hyperparameters for XG boost with all these features and check the error metric."
      ]
    },
    {
      "cell_type": "code",
      "execution_count": null,
      "metadata": {
        "id": "lg0FEInT_-Dd"
      },
      "outputs": [],
      "source": [
        "from sklearn.metrics import log_loss"
      ]
    },
    {
      "cell_type": "code",
      "execution_count": null,
      "metadata": {
        "id": "N_RXMUEh_-Dd",
        "outputId": "2a6c876f-60b8-432d-d1fa-ad5688662cfa"
      },
      "outputs": [
        {
          "data": {
            "text/plain": [
              "GridSearchCV(cv=3, error_score='raise-deprecating',\n",
              "             estimator=XGBClassifier(base_score=0.5, booster='gbtree',\n",
              "                                     class_weight='balanced',\n",
              "                                     colsample_bylevel=1, colsample_bynode=1,\n",
              "                                     colsample_bytree=1, gamma=0,\n",
              "                                     learning_rate=0.1, max_delta_step=0,\n",
              "                                     max_depth=3, min_child_weight=1,\n",
              "                                     missing=None, n_estimators=100, n_jobs=-1,\n",
              "                                     nthread=None, objective='binary:logistic',\n",
              "                                     random_state=0, reg_alpha=0, reg_lambda=1,\n",
              "                                     scale_pos_weight=1, seed=None, silent=None,\n",
              "                                     subsample=1, verbosity=1),\n",
              "             iid='warn', n_jobs=-1,\n",
              "             param_grid={'max_depth': [2, 3, 4, 5, 6, 7, 8, 9, 10],\n",
              "                         'n_estimators': [5, 10, 50, 100, 200, 500]},\n",
              "             pre_dispatch='2*n_jobs', refit=True, return_train_score=False,\n",
              "             scoring='neg_log_loss', verbose=0)"
            ]
          },
          "execution_count": 108,
          "metadata": {},
          "output_type": "execute_result"
        }
      ],
      "source": [
        "import xgboost as xgb\n",
        "from sklearn.model_selection import GridSearchCV\n",
        "clf=xgb.XGBClassifier(class_weight='balanced',n_jobs=-1)\n",
        "\n",
        "from sklearn.model_selection import GridSearchCV\n",
        "params_grid = {'n_estimators':  [5,10,50,100,200,500],\n",
        "              'max_depth':[2,3,4,5,6,7,8,9,10]\n",
        "               }\n",
        "model=GridSearchCV(clf,params_grid,cv=3,scoring='neg_log_loss',n_jobs=-1)\n",
        "model.fit(x_train,y_train)"
      ]
    },
    {
      "cell_type": "code",
      "execution_count": null,
      "metadata": {
        "id": "RMjRoYOC_-Dd",
        "outputId": "39c5ebd9-d30d-4c75-be23-9f9a9cbb0a52"
      },
      "outputs": [
        {
          "data": {
            "text/plain": [
              "XGBClassifier(base_score=0.5, booster='gbtree', class_weight='balanced',\n",
              "              colsample_bylevel=1, colsample_bynode=1, colsample_bytree=1,\n",
              "              gamma=0, learning_rate=0.1, max_delta_step=0, max_depth=9,\n",
              "              min_child_weight=1, missing=None, n_estimators=200, n_jobs=-1,\n",
              "              nthread=None, objective='binary:logistic', random_state=0,\n",
              "              reg_alpha=0, reg_lambda=1, scale_pos_weight=1, seed=None,\n",
              "              silent=None, subsample=1, verbosity=1)"
            ]
          },
          "execution_count": 109,
          "metadata": {},
          "output_type": "execute_result"
        }
      ],
      "source": [
        "model.best_estimator_"
      ]
    },
    {
      "cell_type": "code",
      "execution_count": null,
      "metadata": {
        "id": "RIw0erRj_-Dd",
        "outputId": "a000ee21-6170-4d92-96e0-c4448d7192ee"
      },
      "outputs": [
        {
          "name": "stdout",
          "output_type": "stream",
          "text": [
            "[0]\ttrain-logloss:0.460169\tvalid-logloss:0.48144\n",
            "Multiple eval metrics have been passed: 'valid-logloss' will be used for early stopping.\n",
            "\n",
            "Will train until valid-logloss hasn't improved in 20 rounds.\n",
            "[10]\ttrain-logloss:0.069386\tvalid-logloss:0.23549\n",
            "[20]\ttrain-logloss:0.049054\tvalid-logloss:0.345695\n",
            "Stopping. Best iteration:\n",
            "[7]\ttrain-logloss:0.094157\tvalid-logloss:0.219041\n",
            "\n",
            "The test log loss is: 0.39436775226287674\n"
          ]
        }
      ],
      "source": [
        "import xgboost as xgb\n",
        "params = {}\n",
        "params['objective'] = 'binary:logistic'\n",
        "params['eval_metric'] = 'logloss'\n",
        "params['n_estimators'] = 200\n",
        "params['max_depth'] = 9\n",
        "\n",
        "d_train = xgb.DMatrix(x_train, label=y_train)\n",
        "d_test = xgb.DMatrix(x_test, label=y_test)\n",
        "\n",
        "watchlist = [(d_train, 'train'), (d_test, 'valid')]\n",
        "\n",
        "bst = xgb.train(params, d_train, 400, watchlist, early_stopping_rounds=20, verbose_eval=10)\n",
        "\n",
        "xgdmat = xgb.DMatrix(x_train,y_train)\n",
        "predict_y = bst.predict(d_test)\n",
        "print(\"The test log loss is:\",log_loss(y_test, predict_y, labels=[0,1], eps=1e-15))"
      ]
    },
    {
      "cell_type": "code",
      "execution_count": null,
      "metadata": {
        "id": "Oy9EuZq-_-De",
        "outputId": "5c1093a9-f1f0-4cbf-cc9b-fdb731b5335c"
      },
      "outputs": [
        {
          "name": "stdout",
          "output_type": "stream",
          "text": [
            "test confusion matrix\n"
          ]
        },
        {
          "data": {
            "image/png": "[encoded data removed]",
            "text/plain": [
              "<Figure size 1440x288 with 6 Axes>"
            ]
          },
          "metadata": {
            "needs_background": "light"
          },
          "output_type": "display_data"
        }
      ],
      "source": [
        "predicted_y =np.array(predict_y>0.5,dtype=int)\n",
        "print('test confusion matrix')\n",
        "plot_confusion_matrix(y_test, predicted_y)"
      ]
    },
    {
      "cell_type": "code",
      "execution_count": null,
      "metadata": {
        "id": "79SxjoTb_-De",
        "outputId": "61eeacab-a587-4d28-c187-7559a81bdcb9"
      },
      "outputs": [
        {
          "name": "stdout",
          "output_type": "stream",
          "text": [
            "train confusion matrix\n"
          ]
        },
        {
          "data": {
            "image/png": "[encoded data removed]",
            "text/plain": [
              "<Figure size 1440x288 with 6 Axes>"
            ]
          },
          "metadata": {
            "needs_background": "light"
          },
          "output_type": "display_data"
        }
      ],
      "source": [
        "predict_y = bst.predict(d_train)\n",
        "predicted_y =np.array(predict_y>0.5,dtype=int)\n",
        "print('train confusion matrix')\n",
        "plot_confusion_matrix(y_train, predicted_y)"
      ]
    },
    {
      "cell_type": "code",
      "execution_count": null,
      "metadata": {
        "id": "t1qG4I0k_-De",
        "outputId": "47d7a687-af98-455a-cce7-3b2dae27cfa4"
      },
      "outputs": [
        {
          "data": {
            "text/plain": [
              "XGBClassifier(base_score=0.5, booster='gbtree', class_weight='balanced',\n",
              "              colsample_bylevel=1, colsample_bynode=1, colsample_bytree=1,\n",
              "              gamma=0, learning_rate=0.1, max_delta_step=0, max_depth=9,\n",
              "              min_child_weight=1, missing=None, n_estimator=200,\n",
              "              n_estimators=100, n_jobs=-1, nthread=None,\n",
              "              objective='binary:logistic', random_state=0, reg_alpha=0,\n",
              "              reg_lambda=1, scale_pos_weight=1, seed=None, silent=None,\n",
              "              subsample=1, verbosity=1)"
            ]
          },
          "execution_count": 113,
          "metadata": {},
          "output_type": "execute_result"
        }
      ],
      "source": [
        "clf=xgb.XGBClassifier(class_weight='balanced',n_estimator=200,max_depth=9,n_jobs=-1)\n",
        "clf.fit(x_train,y_train)"
      ]
    },
    {
      "cell_type": "code",
      "execution_count": null,
      "metadata": {
        "id": "CA0jJ3pW_-De",
        "outputId": "94d4a8fd-5714-4a75-e294-77f5fa2bd756"
      },
      "outputs": [
        {
          "data": {
            "image/png": "[encoded data removed]",
            "text/plain": [
              "<Figure size 720x864 with 1 Axes>"
            ]
          },
          "metadata": {
            "needs_background": "light"
          },
          "output_type": "display_data"
        }
      ],
      "source": [
        "features = x_train.columns\n",
        "importances = clf.feature_importances_\n",
        "indices = (np.argsort(importances))[-28:]\n",
        "plt.figure(figsize=(10,12))\n",
        "plt.title('Feature Importances')\n",
        "plt.barh(range(len(indices)), importances[indices], color='r', align='center')\n",
        "plt.yticks(range(len(indices)), [features[i] for i in indices])\n",
        "plt.xlabel('Relative Importance')\n",
        "plt.show()"
      ]
    },
    {
      "cell_type": "markdown",
      "metadata": {
        "id": "Nucjj_P2_-Dh"
      },
      "source": [
        "# CONCLUSIONS:"
      ]
    },
    {
      "cell_type": "markdown",
      "metadata": {
        "id": "3-LXninT_-Dh"
      },
      "source": [
        "1.load the data into train and test datasets."
      ]
    },
    {
      "cell_type": "markdown",
      "metadata": {
        "id": "L5WCA6J6_-Dh"
      },
      "source": [
        "2.Preferential attachment:"
      ]
    },
    {
      "cell_type": "markdown",
      "metadata": {
        "id": "xDym9ng-_-Dh"
      },
      "source": [
        "  2.  1 write function to compute preferential attachment feature for two vertices,compute both in_degree or out degree,called two function as preferential_followee() and preferential_follower()."
      ]
    },
    {
      "cell_type": "markdown",
      "metadata": {
        "id": "59wF4z6z_-Dh"
      },
      "source": [
        "2. 2.to compute preferential feature,multiply both in_degrees or out_degress for two features."
      ]
    },
    {
      "cell_type": "markdown",
      "metadata": {
        "id": "qsWhLhdk_-Dh"
      },
      "source": [
        "2. 3 By passing two vertices at each time,find preferntial attachment features for both followee and followers."
      ]
    },
    {
      "cell_type": "markdown",
      "metadata": {
        "id": "I6_vcQOw_-Dh"
      },
      "source": [
        "2. 4 then normalise that features."
      ]
    },
    {
      "cell_type": "markdown",
      "metadata": {
        "id": "6l-4Chgm_-Dh"
      },
      "source": [
        "3.svd_dot Feature"
      ]
    },
    {
      "cell_type": "markdown",
      "metadata": {
        "id": "e4lgwLL9_-Dh"
      },
      "source": [
        "3. 1.write function to  compute svd_dot feature,take 6_dimension vector of u and for both two vertices"
      ]
    },
    {
      "cell_type": "markdown",
      "metadata": {
        "id": "WK18IJoA_-Dh"
      },
      "source": [
        "3. 2 dot product both svd_v and svd_u of two vertces."
      ]
    },
    {
      "cell_type": "markdown",
      "metadata": {
        "id": "gs8VnOrk_-Dh"
      },
      "source": [
        "3. 3 normalise that feature."
      ]
    },
    {
      "cell_type": "markdown",
      "metadata": {
        "id": "9MheH05k_-Dh"
      },
      "source": [
        "4.append to test and train datasets that feature."
      ]
    },
    {
      "cell_type": "markdown",
      "metadata": {
        "id": "ylcoE5v1_-Di"
      },
      "source": [
        "5.hyper tune xgboost ,get the best parameters."
      ]
    },
    {
      "cell_type": "code",
      "execution_count": null,
      "metadata": {
        "id": "HudVXcYJ_-Di",
        "outputId": "b74df2ca-2fc1-4ef6-d89d-a541b01b593a"
      },
      "outputs": [
        {
          "name": "stdout",
          "output_type": "stream",
          "text": [
            "+----------+--------------+-----------+---------------------+\n",
            "|  model   | n_estimators | max_depth |       log_loss      |\n",
            "+----------+--------------+-----------+---------------------+\n",
            "| Xg boost |     200      |     9     | 0.39436775226287674 |\n",
            "+----------+--------------+-----------+---------------------+\n"
          ]
        }
      ],
      "source": [
        "from prettytable import PrettyTable\n",
        "m_table = PrettyTable()\n",
        "m_table.field_names = ['model','n_estimators','max_depth','log_loss']\n",
        "m_table.add_row(['Xg boost',200,9,0.39436775226287674])\n",
        "print(m_table)"
      ]
    }
  ],
  "metadata": {
    "colab": {
      "provenance": []
    },
    "kernelspec": {
      "display_name": "Python 3",
      "language": "python",
      "name": "python3"
    },
    "language_info": {
      "codemirror_mode": {
        "name": "ipython",
        "version": 3
      },
      "file_extension": ".py",
      "mimetype": "text/x-python",
      "name": "python",
      "nbconvert_exporter": "python",
      "pygments_lexer": "ipython3",
      "version": "3.5.3"
    }
  },
  "nbformat": 4,
  "nbformat_minor": 0
}