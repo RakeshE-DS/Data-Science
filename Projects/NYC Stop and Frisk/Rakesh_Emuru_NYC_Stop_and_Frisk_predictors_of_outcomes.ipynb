{
  "cells": [
    {
      "cell_type": "markdown",
      "metadata": {
        "id": "gdimg1zpzbzB"
      },
      "source": [
        "## NYC Stop and Frisk: predictors of outcomes\n",
        "\n",
        "<img src=\"https://i1.wp.com/www.nationalreview.com/wp-content/uploads/2018/01/new-york-city-stop-and-frisk-crime-decline-conservatives-wrong-1.jpg?fit=789%2C460&ssl=1\" width=500x>\n",
        "\n",
        "---"
      ]
    },
    {
      "cell_type": "markdown",
      "metadata": {
        "id": "mgdZJmYA0Frh"
      },
      "source": [
        "NYC's *Stop, Question, and Frisk* is a program/practice by the New York Police Department in which officers approach, temporarily detain, and (in some cases) frisk civilians on the street for weapons or contraband.  The program's implementation has been highly controversial with accusations of racial profiling and bias, and in 2013 a US federal judge found that the program had been carried out in a way that violated the US Constitution.  Using publicly available Stop and Frisk [data](https://www1.nyc.gov/site/nypd/stats/reports-analysis/stopfrisk.page), in this assignment you will expore the ability of Random Forest models to predict whether, for those stops in which a suspect was suspected of having a weapon, a weapon is likely to have been found (an analysis related to the one carried out in [Goel, Rao, & Shroff, 2016](https://projecteuclid.org/journals/annals-of-applied-statistics/volume-10/issue-1/Precinct-or-prejudice-Understanding-racial-disparities-in-New-York-Citys/10.1214/15-AOAS897.full))."
      ]
    },
    {
      "cell_type": "markdown",
      "metadata": {
        "id": "H_GEyPg6LA3c"
      },
      "source": [
        "---"
      ]
    },
    {
      "cell_type": "markdown",
      "metadata": {
        "id": "OC4twGz1guYM"
      },
      "source": [
        "#New York Stop and Frisk Program and dataset:"
      ]
    },
    {
      "cell_type": "markdown",
      "metadata": {
        "id": "euHWsRVHg6x9"
      },
      "source": [
        "The stop-and-frisk program was implemented by the New York City Police Department in 2002 in response to a rise in crime. The program allowed officers to stop and frisk people on the street randomly without any need for search warrant or any cause, which led to millions of stops over the years. While the program was intended to reduce crime, it was criticized of race discrimination.\n",
        "\n",
        "Many people argued that the program mainly targeted black and Hispanic individuals, leading to a reduce in trust between law enforcement and these communities. Studies also suggested that the program did not significantly reduce crime and may have even contributed to an increase in crime rates.\n",
        "\n",
        "In 2013, a federal judge ruled that the program was unconstitutional, because of its race discrimination. Since then, the NYPD has made changes to the program, but it remains a source of tension between law enforcement and the communities they serve.\n",
        "\n",
        "The stop-and-frisk program generated a vast amount of data on the individuals who were stopped and frisked.\n",
        "\n",
        "The goal of this part of the assignment is to build a model that uses several features of the stops in which the subject was suspected of carrying a weapon to predict whether a weapon was actually found.\n",
        "\n"
      ]
    },
    {
      "cell_type": "markdown",
      "metadata": {
        "id": "p6VBIzMl0rUX"
      },
      "source": [
        "### **Part 1 - Loading and Cleaning data**"
      ]
    },
    {
      "cell_type": "code",
      "execution_count": null,
      "metadata": {
        "id": "ddBgCbfh_OnB"
      },
      "outputs": [],
      "source": [
        "# all imports required for this Assignment\n",
        "\n",
        "import pandas as pd\n",
        "from sklearn.model_selection import train_test_split\n",
        "from sklearn.ensemble import RandomForestRegressor\n",
        "from sklearn.ensemble import RandomForestClassifier\n",
        "from sklearn.model_selection import GridSearchCV\n",
        "from sklearn.metrics import accuracy_score\n",
        "from sklearn.metrics import mean_absolute_error, mean_squared_error, r2_score\n",
        "import numpy as np"
      ]
    },
    {
      "cell_type": "code",
      "execution_count": null,
      "metadata": {
        "id": "IWE7uVKh--WR"
      },
      "outputs": [],
      "source": [
        "from google.colab import drive\n",
        "drive.mount('/content/drive')"
      ]
    },
    {
      "cell_type": "markdown",
      "metadata": {
        "id": "nw67TR2-4i-Y"
      },
      "source": [
        "**Read in the 2010 stop and frisk data from  `mlpp23/data/stop_and_frisk/` into a DataFrame called `sqf` setting `low_memory=False` in `pd.read_csv`.**"
      ]
    },
    {
      "cell_type": "code",
      "execution_count": null,
      "metadata": {
        "id": "tqrmPlmH_KRG"
      },
      "outputs": [],
      "source": [
        "# import the dataset\n",
        "sqf = pd.read_csv('/content/drive/MyDrive/2010.csv', low_memory=False)"
      ]
    },
    {
      "cell_type": "code",
      "execution_count": null,
      "metadata": {
        "id": "R9rJ9ABy2k2O",
        "outputId": "02d07c64-19c9-403d-a878-647c239bcebc"
      },
      "outputs": [
        {
          "data": {
            "text/plain": [
              "['year',\n",
              " 'pct',\n",
              " 'ser_num',\n",
              " 'datestop',\n",
              " 'timestop',\n",
              " 'recstat',\n",
              " 'inout',\n",
              " 'trhsloc',\n",
              " 'perobs',\n",
              " 'crimsusp',\n",
              " 'perstop',\n",
              " 'typeofid',\n",
              " 'explnstp',\n",
              " 'othpers',\n",
              " 'arstmade',\n",
              " 'arstoffn',\n",
              " 'sumissue',\n",
              " 'sumoffen',\n",
              " 'compyear',\n",
              " 'comppct',\n",
              " 'offunif',\n",
              " 'officrid',\n",
              " 'frisked',\n",
              " 'searched',\n",
              " 'contrabn',\n",
              " 'adtlrept',\n",
              " 'pistol',\n",
              " 'riflshot',\n",
              " 'asltweap',\n",
              " 'knifcuti',\n",
              " 'machgun',\n",
              " 'othrweap',\n",
              " 'pf_hands',\n",
              " 'pf_wall',\n",
              " 'pf_grnd',\n",
              " 'pf_drwep',\n",
              " 'pf_ptwep',\n",
              " 'pf_baton',\n",
              " 'pf_hcuff',\n",
              " 'pf_pepsp',\n",
              " 'pf_other',\n",
              " 'radio',\n",
              " 'ac_rept',\n",
              " 'ac_inves',\n",
              " 'rf_vcrim',\n",
              " 'rf_othsw',\n",
              " 'ac_proxm',\n",
              " 'rf_attir',\n",
              " 'cs_objcs',\n",
              " 'cs_descr',\n",
              " 'cs_casng',\n",
              " 'cs_lkout',\n",
              " 'rf_vcact',\n",
              " 'cs_cloth',\n",
              " 'cs_drgtr',\n",
              " 'ac_evasv',\n",
              " 'ac_assoc',\n",
              " 'cs_furtv',\n",
              " 'rf_rfcmp',\n",
              " 'ac_cgdir',\n",
              " 'rf_verbl',\n",
              " 'cs_vcrim',\n",
              " 'cs_bulge',\n",
              " 'cs_other',\n",
              " 'ac_incid',\n",
              " 'ac_time',\n",
              " 'rf_knowl',\n",
              " 'ac_stsnd',\n",
              " 'ac_other',\n",
              " 'sb_hdobj',\n",
              " 'sb_outln',\n",
              " 'sb_admis',\n",
              " 'sb_other',\n",
              " 'repcmd',\n",
              " 'revcmd',\n",
              " 'rf_furt',\n",
              " 'rf_bulg',\n",
              " 'offverb',\n",
              " 'offshld',\n",
              " 'sex',\n",
              " 'race',\n",
              " 'dob',\n",
              " 'age',\n",
              " 'ht_feet',\n",
              " 'ht_inch',\n",
              " 'weight',\n",
              " 'haircolr',\n",
              " 'eyecolor',\n",
              " 'build',\n",
              " 'othfeatr',\n",
              " 'addrtyp',\n",
              " 'rescode',\n",
              " 'premtype',\n",
              " 'premname',\n",
              " 'addrnum',\n",
              " 'stname',\n",
              " 'stinter',\n",
              " 'crossst',\n",
              " 'aptnum',\n",
              " 'city',\n",
              " 'state',\n",
              " 'zip',\n",
              " 'addrpct',\n",
              " 'sector',\n",
              " 'beat',\n",
              " 'post',\n",
              " 'xcoord',\n",
              " 'ycoord',\n",
              " 'dettypcm',\n",
              " 'linecm',\n",
              " 'detailcm']"
            ]
          },
          "execution_count": 250,
          "metadata": {},
          "output_type": "execute_result"
        }
      ],
      "source": [
        "# list of all variables present in the dataframe\n",
        "list(sqf.columns)"
      ]
    },
    {
      "cell_type": "markdown",
      "metadata": {
        "id": "ndSdJIDWp_BZ"
      },
      "source": [
        "In the Columns, Period of Observation signifies the month, of the stop and frisk incident happened. But not Year and date.\n",
        "\n",
        " But as we will be doing onehot encoding, I have just taken the period of observation, which has the number of the month."
      ]
    },
    {
      "cell_type": "code",
      "execution_count": null,
      "metadata": {
        "id": "j2TbUTbX_83I"
      },
      "outputs": [],
      "source": [
        "req_columns = [\n",
        "                'perobs', # the period of the observation(month number),\n",
        "                'inout', # stop was made inside or outside(O = outside, I = inside)\n",
        "                'sex',       # subject's sex ('M', 'F', 'z')\n",
        "                'age',       # subject's age (in years)\n",
        "\n",
        "                'race',       # subject's race B-Black, W-White, Q - Asian,\n",
        "                              #  P - Pacific Islander, A - American Indian or Alaska Native,\n",
        "                              #  Z - Two or more races, U - Unknown, I - Not reported\n",
        "\n",
        "                # columns indicating that a weapon was found on the subject, N -> No, Y -> Yes\n",
        "                'contrabn', # was contraband found on the subject, contraband also includes guns\n",
        "                'pistol', # pistol was found\n",
        "                'riflshot',  # rifle found on subject\n",
        "                'asltweap',  # assault weapon found on subject\n",
        "                'knifcuti',  #  knife or cutting instrument was found\n",
        "                'machgun',   # machine gun was found\n",
        "                'othrweap',  # other weapon was found\n",
        "\n",
        "                # columns related to wether the subject was suspected of carrying a weapon\n",
        "                'rf_othsw',  # other suspicion of weapons\n",
        "                'cs_objcs',  # carrying suspicious objects\n",
        "                'cs_bulge',  # suspicious bulge\n",
        "                'sb_hdobj',  # suspected for hard object\n",
        "                'sb_outln',  # suspected for outline of weapon\n",
        "                'rf_bulg',  # reason for frisk - suspicious bulge\n",
        "              ]"
      ]
    },
    {
      "cell_type": "code",
      "execution_count": null,
      "metadata": {
        "id": "6TCrtgvOB2I_"
      },
      "outputs": [],
      "source": [
        "# taking only columns required for our task\n",
        "sqf = sqf[req_columns]"
      ]
    },
    {
      "cell_type": "code",
      "execution_count": null,
      "metadata": {
        "colab": {
          "base_uri": "https://localhost:8080/",
          "height": 423
        },
        "id": "7anIaWnjF41A",
        "outputId": "040d3a0f-4383-43a4-ee05-05fd144c83af"
      },
      "outputs": [
        {
          "data": {
            "text/html": [
              "<div>\n",
              "<style scoped>\n",
              "    .dataframe tbody tr th:only-of-type {\n",
              "        vertical-align: middle;\n",
              "    }\n",
              "\n",
              "    .dataframe tbody tr th {\n",
              "        vertical-align: top;\n",
              "    }\n",
              "\n",
              "    .dataframe thead th {\n",
              "        text-align: right;\n",
              "    }\n",
              "</style>\n",
              "<table border=\"1\" class=\"dataframe\">\n",
              "  <thead>\n",
              "    <tr style=\"text-align: right;\">\n",
              "      <th></th>\n",
              "      <th>perobs</th>\n",
              "      <th>inout</th>\n",
              "      <th>sex</th>\n",
              "      <th>age</th>\n",
              "      <th>race</th>\n",
              "      <th>contrabn</th>\n",
              "      <th>pistol</th>\n",
              "      <th>riflshot</th>\n",
              "      <th>asltweap</th>\n",
              "      <th>knifcuti</th>\n",
              "      <th>machgun</th>\n",
              "      <th>othrweap</th>\n",
              "      <th>rf_othsw</th>\n",
              "      <th>cs_objcs</th>\n",
              "      <th>cs_bulge</th>\n",
              "      <th>sb_hdobj</th>\n",
              "      <th>sb_outln</th>\n",
              "      <th>rf_bulg</th>\n",
              "    </tr>\n",
              "  </thead>\n",
              "  <tbody>\n",
              "    <tr>\n",
              "      <th>0</th>\n",
              "      <td>1</td>\n",
              "      <td>O</td>\n",
              "      <td>M</td>\n",
              "      <td>17</td>\n",
              "      <td>B</td>\n",
              "      <td>N</td>\n",
              "      <td>N</td>\n",
              "      <td>N</td>\n",
              "      <td>N</td>\n",
              "      <td>N</td>\n",
              "      <td>N</td>\n",
              "      <td>N</td>\n",
              "      <td>N</td>\n",
              "      <td>N</td>\n",
              "      <td>N</td>\n",
              "      <td>N</td>\n",
              "      <td>N</td>\n",
              "      <td>N</td>\n",
              "    </tr>\n",
              "    <tr>\n",
              "      <th>1</th>\n",
              "      <td>2</td>\n",
              "      <td>O</td>\n",
              "      <td>M</td>\n",
              "      <td>20</td>\n",
              "      <td>P</td>\n",
              "      <td>N</td>\n",
              "      <td>N</td>\n",
              "      <td>N</td>\n",
              "      <td>N</td>\n",
              "      <td>N</td>\n",
              "      <td>N</td>\n",
              "      <td>N</td>\n",
              "      <td>N</td>\n",
              "      <td>N</td>\n",
              "      <td>N</td>\n",
              "      <td>N</td>\n",
              "      <td>N</td>\n",
              "      <td>N</td>\n",
              "    </tr>\n",
              "    <tr>\n",
              "      <th>2</th>\n",
              "      <td>1</td>\n",
              "      <td>I</td>\n",
              "      <td>M</td>\n",
              "      <td>55</td>\n",
              "      <td>Q</td>\n",
              "      <td>N</td>\n",
              "      <td>N</td>\n",
              "      <td>N</td>\n",
              "      <td>N</td>\n",
              "      <td>N</td>\n",
              "      <td>N</td>\n",
              "      <td>N</td>\n",
              "      <td>Y</td>\n",
              "      <td>N</td>\n",
              "      <td>N</td>\n",
              "      <td>Y</td>\n",
              "      <td>N</td>\n",
              "      <td>N</td>\n",
              "    </tr>\n",
              "    <tr>\n",
              "      <th>3</th>\n",
              "      <td>5</td>\n",
              "      <td>O</td>\n",
              "      <td>M</td>\n",
              "      <td>17</td>\n",
              "      <td>Q</td>\n",
              "      <td>N</td>\n",
              "      <td>N</td>\n",
              "      <td>N</td>\n",
              "      <td>N</td>\n",
              "      <td>N</td>\n",
              "      <td>N</td>\n",
              "      <td>N</td>\n",
              "      <td>N</td>\n",
              "      <td>N</td>\n",
              "      <td>N</td>\n",
              "      <td>N</td>\n",
              "      <td>N</td>\n",
              "      <td>N</td>\n",
              "    </tr>\n",
              "    <tr>\n",
              "      <th>4</th>\n",
              "      <td>1</td>\n",
              "      <td>O</td>\n",
              "      <td>M</td>\n",
              "      <td>55</td>\n",
              "      <td>B</td>\n",
              "      <td>N</td>\n",
              "      <td>N</td>\n",
              "      <td>N</td>\n",
              "      <td>N</td>\n",
              "      <td>N</td>\n",
              "      <td>N</td>\n",
              "      <td>N</td>\n",
              "      <td>N</td>\n",
              "      <td>N</td>\n",
              "      <td>N</td>\n",
              "      <td>N</td>\n",
              "      <td>N</td>\n",
              "      <td>N</td>\n",
              "    </tr>\n",
              "    <tr>\n",
              "      <th>...</th>\n",
              "      <td>...</td>\n",
              "      <td>...</td>\n",
              "      <td>...</td>\n",
              "      <td>...</td>\n",
              "      <td>...</td>\n",
              "      <td>...</td>\n",
              "      <td>...</td>\n",
              "      <td>...</td>\n",
              "      <td>...</td>\n",
              "      <td>...</td>\n",
              "      <td>...</td>\n",
              "      <td>...</td>\n",
              "      <td>...</td>\n",
              "      <td>...</td>\n",
              "      <td>...</td>\n",
              "      <td>...</td>\n",
              "      <td>...</td>\n",
              "      <td>...</td>\n",
              "    </tr>\n",
              "    <tr>\n",
              "      <th>601280</th>\n",
              "      <td>1</td>\n",
              "      <td>O</td>\n",
              "      <td>M</td>\n",
              "      <td>19</td>\n",
              "      <td>Q</td>\n",
              "      <td>N</td>\n",
              "      <td>N</td>\n",
              "      <td>N</td>\n",
              "      <td>N</td>\n",
              "      <td>N</td>\n",
              "      <td>N</td>\n",
              "      <td>N</td>\n",
              "      <td>N</td>\n",
              "      <td>N</td>\n",
              "      <td>N</td>\n",
              "      <td>N</td>\n",
              "      <td>N</td>\n",
              "      <td>N</td>\n",
              "    </tr>\n",
              "    <tr>\n",
              "      <th>601281</th>\n",
              "      <td>1</td>\n",
              "      <td>O</td>\n",
              "      <td>M</td>\n",
              "      <td>20</td>\n",
              "      <td>B</td>\n",
              "      <td>N</td>\n",
              "      <td>N</td>\n",
              "      <td>N</td>\n",
              "      <td>N</td>\n",
              "      <td>N</td>\n",
              "      <td>N</td>\n",
              "      <td>N</td>\n",
              "      <td>N</td>\n",
              "      <td>N</td>\n",
              "      <td>N</td>\n",
              "      <td>N</td>\n",
              "      <td>N</td>\n",
              "      <td>N</td>\n",
              "    </tr>\n",
              "    <tr>\n",
              "      <th>601282</th>\n",
              "      <td>1</td>\n",
              "      <td>O</td>\n",
              "      <td>M</td>\n",
              "      <td>31</td>\n",
              "      <td>B</td>\n",
              "      <td>N</td>\n",
              "      <td>N</td>\n",
              "      <td>N</td>\n",
              "      <td>N</td>\n",
              "      <td>N</td>\n",
              "      <td>N</td>\n",
              "      <td>N</td>\n",
              "      <td>N</td>\n",
              "      <td>N</td>\n",
              "      <td>N</td>\n",
              "      <td>N</td>\n",
              "      <td>N</td>\n",
              "      <td>N</td>\n",
              "    </tr>\n",
              "    <tr>\n",
              "      <th>601283</th>\n",
              "      <td>1</td>\n",
              "      <td>O</td>\n",
              "      <td>F</td>\n",
              "      <td>23</td>\n",
              "      <td>B</td>\n",
              "      <td>N</td>\n",
              "      <td>N</td>\n",
              "      <td>N</td>\n",
              "      <td>N</td>\n",
              "      <td>N</td>\n",
              "      <td>N</td>\n",
              "      <td>N</td>\n",
              "      <td>N</td>\n",
              "      <td>N</td>\n",
              "      <td>N</td>\n",
              "      <td>N</td>\n",
              "      <td>N</td>\n",
              "      <td>N</td>\n",
              "    </tr>\n",
              "    <tr>\n",
              "      <th>601284</th>\n",
              "      <td>1</td>\n",
              "      <td>O</td>\n",
              "      <td>M</td>\n",
              "      <td>29</td>\n",
              "      <td>Q</td>\n",
              "      <td>N</td>\n",
              "      <td>N</td>\n",
              "      <td>N</td>\n",
              "      <td>N</td>\n",
              "      <td>N</td>\n",
              "      <td>N</td>\n",
              "      <td>N</td>\n",
              "      <td>N</td>\n",
              "      <td>N</td>\n",
              "      <td>N</td>\n",
              "      <td>N</td>\n",
              "      <td>N</td>\n",
              "      <td>N</td>\n",
              "    </tr>\n",
              "  </tbody>\n",
              "</table>\n",
              "<p>601285 rows × 18 columns</p>\n",
              "</div>"
            ],
            "text/plain": [
              "        perobs inout sex  age race contrabn pistol riflshot asltweap knifcuti  \\\n",
              "0            1     O   M   17    B        N      N        N        N        N   \n",
              "1            2     O   M   20    P        N      N        N        N        N   \n",
              "2            1     I   M   55    Q        N      N        N        N        N   \n",
              "3            5     O   M   17    Q        N      N        N        N        N   \n",
              "4            1     O   M   55    B        N      N        N        N        N   \n",
              "...        ...   ...  ..  ...  ...      ...    ...      ...      ...      ...   \n",
              "601280       1     O   M   19    Q        N      N        N        N        N   \n",
              "601281       1     O   M   20    B        N      N        N        N        N   \n",
              "601282       1     O   M   31    B        N      N        N        N        N   \n",
              "601283       1     O   F   23    B        N      N        N        N        N   \n",
              "601284       1     O   M   29    Q        N      N        N        N        N   \n",
              "\n",
              "       machgun othrweap rf_othsw cs_objcs cs_bulge sb_hdobj sb_outln rf_bulg  \n",
              "0            N        N        N        N        N        N        N       N  \n",
              "1            N        N        N        N        N        N        N       N  \n",
              "2            N        N        Y        N        N        Y        N       N  \n",
              "3            N        N        N        N        N        N        N       N  \n",
              "4            N        N        N        N        N        N        N       N  \n",
              "...        ...      ...      ...      ...      ...      ...      ...     ...  \n",
              "601280       N        N        N        N        N        N        N       N  \n",
              "601281       N        N        N        N        N        N        N       N  \n",
              "601282       N        N        N        N        N        N        N       N  \n",
              "601283       N        N        N        N        N        N        N       N  \n",
              "601284       N        N        N        N        N        N        N       N  \n",
              "\n",
              "[601285 rows x 18 columns]"
            ]
          },
          "execution_count": 253,
          "metadata": {},
          "output_type": "execute_result"
        }
      ],
      "source": [
        "sqf"
      ]
    },
    {
      "cell_type": "code",
      "execution_count": null,
      "metadata": {
        "id": "maZMh_bXEwwt"
      },
      "outputs": [],
      "source": [
        "def get_sqf_categorical_col_names():\n",
        "  \"\"\" return the column names containing categorical variables \"\"\"\n",
        "\n",
        "  categorical_cols_list = []\n",
        "\n",
        "  for col_name in sqf.columns:\n",
        "    unique_vals = sqf[col_name].unique()\n",
        "    if len(unique_vals) == 2:\n",
        "      categorical_cols_list.append(col_name)\n",
        "      print(col_name, unique_vals)\n",
        "\n",
        "  return categorical_cols_list"
      ]
    },
    {
      "cell_type": "code",
      "execution_count": null,
      "metadata": {
        "colab": {
          "base_uri": "https://localhost:8080/"
        },
        "id": "evZLjps-KkkH",
        "outputId": "86d9e159-eb8c-4143-d41a-df1a42cd35c6"
      },
      "outputs": [
        {
          "name": "stdout",
          "output_type": "stream",
          "text": [
            "inout ['O' 'I']\n",
            "contrabn ['N' 'Y']\n",
            "pistol ['N' 'Y']\n",
            "riflshot ['N' 'Y']\n",
            "asltweap ['N' 'Y']\n",
            "knifcuti ['N' 'Y']\n",
            "machgun ['N' 'Y']\n",
            "othrweap ['N' 'Y']\n",
            "rf_othsw ['N' 'Y']\n",
            "cs_objcs ['N' 'Y']\n",
            "cs_bulge ['N' 'Y']\n",
            "sb_hdobj ['N' 'Y']\n",
            "sb_outln ['N' 'Y']\n",
            "rf_bulg ['N' 'Y']\n"
          ]
        }
      ],
      "source": [
        "categorical_cols_list = get_sqf_categorical_col_names()"
      ]
    },
    {
      "cell_type": "code",
      "execution_count": null,
      "metadata": {
        "id": "K-1mMeThHXK5"
      },
      "outputs": [],
      "source": [
        "# replacing the categorical columns binary values to 0 or 1\n",
        "\n",
        "sqf[categorical_cols_list] = sqf[categorical_cols_list].replace({'N': 0, 'Y':1, 'O':0, 'I':1})"
      ]
    },
    {
      "cell_type": "code",
      "execution_count": null,
      "metadata": {
        "colab": {
          "base_uri": "https://localhost:8080/"
        },
        "id": "kGJVgYcLPqYJ",
        "outputId": "1a4ed675-c79b-4ab9-bb64-0d1fc6aabb5d"
      },
      "outputs": [
        {
          "name": "stdout",
          "output_type": "stream",
          "text": [
            "inout [1 0]\n",
            "contrabn [0 1]\n",
            "pistol [0 1]\n",
            "riflshot [0 1]\n",
            "asltweap [0 1]\n",
            "knifcuti [0 1]\n",
            "machgun [0 1]\n",
            "othrweap [0 1]\n",
            "rf_othsw [1 0]\n",
            "cs_objcs [0 1]\n",
            "cs_bulge [0 1]\n",
            "sb_hdobj [1 0]\n",
            "sb_outln [0 1]\n",
            "rf_bulg [0 1]\n"
          ]
        }
      ],
      "source": [
        "\n",
        "categorical_cols_list = get_sqf_categorical_col_names()"
      ]
    },
    {
      "cell_type": "code",
      "execution_count": null,
      "metadata": {
        "colab": {
          "base_uri": "https://localhost:8080/",
          "height": 423
        },
        "id": "wyjbro1dKf5-",
        "outputId": "4c27eaf5-4717-4929-dd32-5e8c5a14eb20"
      },
      "outputs": [
        {
          "data": {
            "text/html": [
              "<div>\n",
              "<style scoped>\n",
              "    .dataframe tbody tr th:only-of-type {\n",
              "        vertical-align: middle;\n",
              "    }\n",
              "\n",
              "    .dataframe tbody tr th {\n",
              "        vertical-align: top;\n",
              "    }\n",
              "\n",
              "    .dataframe thead th {\n",
              "        text-align: right;\n",
              "    }\n",
              "</style>\n",
              "<table border=\"1\" class=\"dataframe\">\n",
              "  <thead>\n",
              "    <tr style=\"text-align: right;\">\n",
              "      <th></th>\n",
              "      <th>perobs</th>\n",
              "      <th>inout</th>\n",
              "      <th>sex</th>\n",
              "      <th>age</th>\n",
              "      <th>race</th>\n",
              "      <th>contrabn</th>\n",
              "      <th>pistol</th>\n",
              "      <th>riflshot</th>\n",
              "      <th>asltweap</th>\n",
              "      <th>knifcuti</th>\n",
              "      <th>machgun</th>\n",
              "      <th>othrweap</th>\n",
              "      <th>rf_othsw</th>\n",
              "      <th>cs_objcs</th>\n",
              "      <th>cs_bulge</th>\n",
              "      <th>sb_hdobj</th>\n",
              "      <th>sb_outln</th>\n",
              "      <th>rf_bulg</th>\n",
              "    </tr>\n",
              "  </thead>\n",
              "  <tbody>\n",
              "    <tr>\n",
              "      <th>2</th>\n",
              "      <td>1</td>\n",
              "      <td>1</td>\n",
              "      <td>M</td>\n",
              "      <td>55</td>\n",
              "      <td>Q</td>\n",
              "      <td>0</td>\n",
              "      <td>0</td>\n",
              "      <td>0</td>\n",
              "      <td>0</td>\n",
              "      <td>0</td>\n",
              "      <td>0</td>\n",
              "      <td>0</td>\n",
              "      <td>1</td>\n",
              "      <td>0</td>\n",
              "      <td>0</td>\n",
              "      <td>1</td>\n",
              "      <td>0</td>\n",
              "      <td>0</td>\n",
              "    </tr>\n",
              "    <tr>\n",
              "      <th>5</th>\n",
              "      <td>5</td>\n",
              "      <td>1</td>\n",
              "      <td>M</td>\n",
              "      <td>57</td>\n",
              "      <td>Q</td>\n",
              "      <td>0</td>\n",
              "      <td>0</td>\n",
              "      <td>0</td>\n",
              "      <td>0</td>\n",
              "      <td>0</td>\n",
              "      <td>0</td>\n",
              "      <td>0</td>\n",
              "      <td>0</td>\n",
              "      <td>1</td>\n",
              "      <td>0</td>\n",
              "      <td>0</td>\n",
              "      <td>0</td>\n",
              "      <td>0</td>\n",
              "    </tr>\n",
              "    <tr>\n",
              "      <th>6</th>\n",
              "      <td>1</td>\n",
              "      <td>0</td>\n",
              "      <td>M</td>\n",
              "      <td>18</td>\n",
              "      <td>B</td>\n",
              "      <td>0</td>\n",
              "      <td>0</td>\n",
              "      <td>0</td>\n",
              "      <td>0</td>\n",
              "      <td>0</td>\n",
              "      <td>0</td>\n",
              "      <td>0</td>\n",
              "      <td>0</td>\n",
              "      <td>0</td>\n",
              "      <td>1</td>\n",
              "      <td>0</td>\n",
              "      <td>0</td>\n",
              "      <td>1</td>\n",
              "    </tr>\n",
              "    <tr>\n",
              "      <th>13</th>\n",
              "      <td>4</td>\n",
              "      <td>1</td>\n",
              "      <td>M</td>\n",
              "      <td>63</td>\n",
              "      <td>B</td>\n",
              "      <td>0</td>\n",
              "      <td>0</td>\n",
              "      <td>0</td>\n",
              "      <td>0</td>\n",
              "      <td>0</td>\n",
              "      <td>0</td>\n",
              "      <td>0</td>\n",
              "      <td>0</td>\n",
              "      <td>1</td>\n",
              "      <td>0</td>\n",
              "      <td>0</td>\n",
              "      <td>0</td>\n",
              "      <td>0</td>\n",
              "    </tr>\n",
              "    <tr>\n",
              "      <th>15</th>\n",
              "      <td>1</td>\n",
              "      <td>1</td>\n",
              "      <td>M</td>\n",
              "      <td>19</td>\n",
              "      <td>Z</td>\n",
              "      <td>0</td>\n",
              "      <td>0</td>\n",
              "      <td>0</td>\n",
              "      <td>0</td>\n",
              "      <td>0</td>\n",
              "      <td>0</td>\n",
              "      <td>0</td>\n",
              "      <td>0</td>\n",
              "      <td>0</td>\n",
              "      <td>0</td>\n",
              "      <td>0</td>\n",
              "      <td>0</td>\n",
              "      <td>1</td>\n",
              "    </tr>\n",
              "    <tr>\n",
              "      <th>...</th>\n",
              "      <td>...</td>\n",
              "      <td>...</td>\n",
              "      <td>...</td>\n",
              "      <td>...</td>\n",
              "      <td>...</td>\n",
              "      <td>...</td>\n",
              "      <td>...</td>\n",
              "      <td>...</td>\n",
              "      <td>...</td>\n",
              "      <td>...</td>\n",
              "      <td>...</td>\n",
              "      <td>...</td>\n",
              "      <td>...</td>\n",
              "      <td>...</td>\n",
              "      <td>...</td>\n",
              "      <td>...</td>\n",
              "      <td>...</td>\n",
              "      <td>...</td>\n",
              "    </tr>\n",
              "    <tr>\n",
              "      <th>601274</th>\n",
              "      <td>1</td>\n",
              "      <td>0</td>\n",
              "      <td>M</td>\n",
              "      <td>27</td>\n",
              "      <td>A</td>\n",
              "      <td>0</td>\n",
              "      <td>0</td>\n",
              "      <td>0</td>\n",
              "      <td>0</td>\n",
              "      <td>0</td>\n",
              "      <td>0</td>\n",
              "      <td>0</td>\n",
              "      <td>0</td>\n",
              "      <td>0</td>\n",
              "      <td>0</td>\n",
              "      <td>1</td>\n",
              "      <td>0</td>\n",
              "      <td>0</td>\n",
              "    </tr>\n",
              "    <tr>\n",
              "      <th>601276</th>\n",
              "      <td>1</td>\n",
              "      <td>0</td>\n",
              "      <td>M</td>\n",
              "      <td>19</td>\n",
              "      <td>B</td>\n",
              "      <td>0</td>\n",
              "      <td>0</td>\n",
              "      <td>0</td>\n",
              "      <td>0</td>\n",
              "      <td>0</td>\n",
              "      <td>0</td>\n",
              "      <td>0</td>\n",
              "      <td>0</td>\n",
              "      <td>0</td>\n",
              "      <td>0</td>\n",
              "      <td>1</td>\n",
              "      <td>0</td>\n",
              "      <td>0</td>\n",
              "    </tr>\n",
              "    <tr>\n",
              "      <th>601277</th>\n",
              "      <td>1</td>\n",
              "      <td>0</td>\n",
              "      <td>M</td>\n",
              "      <td>17</td>\n",
              "      <td>Q</td>\n",
              "      <td>0</td>\n",
              "      <td>0</td>\n",
              "      <td>0</td>\n",
              "      <td>0</td>\n",
              "      <td>0</td>\n",
              "      <td>0</td>\n",
              "      <td>0</td>\n",
              "      <td>0</td>\n",
              "      <td>0</td>\n",
              "      <td>0</td>\n",
              "      <td>1</td>\n",
              "      <td>0</td>\n",
              "      <td>0</td>\n",
              "    </tr>\n",
              "    <tr>\n",
              "      <th>601278</th>\n",
              "      <td>1</td>\n",
              "      <td>1</td>\n",
              "      <td>M</td>\n",
              "      <td>17</td>\n",
              "      <td>Q</td>\n",
              "      <td>0</td>\n",
              "      <td>0</td>\n",
              "      <td>0</td>\n",
              "      <td>0</td>\n",
              "      <td>0</td>\n",
              "      <td>0</td>\n",
              "      <td>0</td>\n",
              "      <td>0</td>\n",
              "      <td>0</td>\n",
              "      <td>0</td>\n",
              "      <td>0</td>\n",
              "      <td>1</td>\n",
              "      <td>0</td>\n",
              "    </tr>\n",
              "    <tr>\n",
              "      <th>601279</th>\n",
              "      <td>1</td>\n",
              "      <td>0</td>\n",
              "      <td>M</td>\n",
              "      <td>17</td>\n",
              "      <td>Q</td>\n",
              "      <td>0</td>\n",
              "      <td>0</td>\n",
              "      <td>0</td>\n",
              "      <td>0</td>\n",
              "      <td>0</td>\n",
              "      <td>0</td>\n",
              "      <td>0</td>\n",
              "      <td>0</td>\n",
              "      <td>0</td>\n",
              "      <td>0</td>\n",
              "      <td>1</td>\n",
              "      <td>0</td>\n",
              "      <td>0</td>\n",
              "    </tr>\n",
              "  </tbody>\n",
              "</table>\n",
              "<p>114999 rows × 18 columns</p>\n",
              "</div>"
            ],
            "text/plain": [
              "        perobs  inout sex  age race  contrabn  pistol  riflshot  asltweap  \\\n",
              "2            1      1   M   55    Q         0       0         0         0   \n",
              "5            5      1   M   57    Q         0       0         0         0   \n",
              "6            1      0   M   18    B         0       0         0         0   \n",
              "13           4      1   M   63    B         0       0         0         0   \n",
              "15           1      1   M   19    Z         0       0         0         0   \n",
              "...        ...    ...  ..  ...  ...       ...     ...       ...       ...   \n",
              "601274       1      0   M   27    A         0       0         0         0   \n",
              "601276       1      0   M   19    B         0       0         0         0   \n",
              "601277       1      0   M   17    Q         0       0         0         0   \n",
              "601278       1      1   M   17    Q         0       0         0         0   \n",
              "601279       1      0   M   17    Q         0       0         0         0   \n",
              "\n",
              "        knifcuti  machgun  othrweap  rf_othsw  cs_objcs  cs_bulge  sb_hdobj  \\\n",
              "2              0        0         0         1         0         0         1   \n",
              "5              0        0         0         0         1         0         0   \n",
              "6              0        0         0         0         0         1         0   \n",
              "13             0        0         0         0         1         0         0   \n",
              "15             0        0         0         0         0         0         0   \n",
              "...          ...      ...       ...       ...       ...       ...       ...   \n",
              "601274         0        0         0         0         0         0         1   \n",
              "601276         0        0         0         0         0         0         1   \n",
              "601277         0        0         0         0         0         0         1   \n",
              "601278         0        0         0         0         0         0         0   \n",
              "601279         0        0         0         0         0         0         1   \n",
              "\n",
              "        sb_outln  rf_bulg  \n",
              "2              0        0  \n",
              "5              0        0  \n",
              "6              0        1  \n",
              "13             0        0  \n",
              "15             0        1  \n",
              "...          ...      ...  \n",
              "601274         0        0  \n",
              "601276         0        0  \n",
              "601277         0        0  \n",
              "601278         1        0  \n",
              "601279         0        0  \n",
              "\n",
              "[114999 rows x 18 columns]"
            ]
          },
          "execution_count": 263,
          "metadata": {},
          "output_type": "execute_result"
        }
      ],
      "source": [
        "# after replacing categorical variables to '0' and '1'\n",
        "sqf"
      ]
    },
    {
      "cell_type": "code",
      "execution_count": null,
      "metadata": {
        "id": "2PJ698LHCzS8"
      },
      "outputs": [],
      "source": [
        "# rows indicating person is suspected of carrying a weapon.\n",
        "weapon_suspect_cols = [\n",
        "                      'rf_othsw',\n",
        "                      'cs_objcs',\n",
        "                      'cs_bulge',\n",
        "                      'sb_hdobj',\n",
        "                      'sb_outln',\n",
        "                      'rf_bulg',\n",
        "                      ]"
      ]
    },
    {
      "cell_type": "code",
      "execution_count": null,
      "metadata": {
        "id": "49FaF8ZHGaUi"
      },
      "outputs": [],
      "source": [
        "sqf = sqf[sqf[weapon_suspect_cols].isin([1]).any(axis=1)]"
      ]
    },
    {
      "cell_type": "code",
      "execution_count": null,
      "metadata": {
        "colab": {
          "base_uri": "https://localhost:8080/",
          "height": 423
        },
        "id": "tvo37kxIGiZh",
        "outputId": "7db6b5ad-bb32-435e-a967-93f71a5c6a1d"
      },
      "outputs": [
        {
          "data": {
            "text/html": [
              "<div>\n",
              "<style scoped>\n",
              "    .dataframe tbody tr th:only-of-type {\n",
              "        vertical-align: middle;\n",
              "    }\n",
              "\n",
              "    .dataframe tbody tr th {\n",
              "        vertical-align: top;\n",
              "    }\n",
              "\n",
              "    .dataframe thead th {\n",
              "        text-align: right;\n",
              "    }\n",
              "</style>\n",
              "<table border=\"1\" class=\"dataframe\">\n",
              "  <thead>\n",
              "    <tr style=\"text-align: right;\">\n",
              "      <th></th>\n",
              "      <th>perobs</th>\n",
              "      <th>inout</th>\n",
              "      <th>sex</th>\n",
              "      <th>age</th>\n",
              "      <th>race</th>\n",
              "      <th>contrabn</th>\n",
              "      <th>pistol</th>\n",
              "      <th>riflshot</th>\n",
              "      <th>asltweap</th>\n",
              "      <th>knifcuti</th>\n",
              "      <th>machgun</th>\n",
              "      <th>othrweap</th>\n",
              "      <th>rf_othsw</th>\n",
              "      <th>cs_objcs</th>\n",
              "      <th>cs_bulge</th>\n",
              "      <th>sb_hdobj</th>\n",
              "      <th>sb_outln</th>\n",
              "      <th>rf_bulg</th>\n",
              "    </tr>\n",
              "  </thead>\n",
              "  <tbody>\n",
              "    <tr>\n",
              "      <th>2</th>\n",
              "      <td>1</td>\n",
              "      <td>1</td>\n",
              "      <td>M</td>\n",
              "      <td>55</td>\n",
              "      <td>Q</td>\n",
              "      <td>0</td>\n",
              "      <td>0</td>\n",
              "      <td>0</td>\n",
              "      <td>0</td>\n",
              "      <td>0</td>\n",
              "      <td>0</td>\n",
              "      <td>0</td>\n",
              "      <td>1</td>\n",
              "      <td>0</td>\n",
              "      <td>0</td>\n",
              "      <td>1</td>\n",
              "      <td>0</td>\n",
              "      <td>0</td>\n",
              "    </tr>\n",
              "    <tr>\n",
              "      <th>5</th>\n",
              "      <td>5</td>\n",
              "      <td>1</td>\n",
              "      <td>M</td>\n",
              "      <td>57</td>\n",
              "      <td>Q</td>\n",
              "      <td>0</td>\n",
              "      <td>0</td>\n",
              "      <td>0</td>\n",
              "      <td>0</td>\n",
              "      <td>0</td>\n",
              "      <td>0</td>\n",
              "      <td>0</td>\n",
              "      <td>0</td>\n",
              "      <td>1</td>\n",
              "      <td>0</td>\n",
              "      <td>0</td>\n",
              "      <td>0</td>\n",
              "      <td>0</td>\n",
              "    </tr>\n",
              "    <tr>\n",
              "      <th>6</th>\n",
              "      <td>1</td>\n",
              "      <td>0</td>\n",
              "      <td>M</td>\n",
              "      <td>18</td>\n",
              "      <td>B</td>\n",
              "      <td>0</td>\n",
              "      <td>0</td>\n",
              "      <td>0</td>\n",
              "      <td>0</td>\n",
              "      <td>0</td>\n",
              "      <td>0</td>\n",
              "      <td>0</td>\n",
              "      <td>0</td>\n",
              "      <td>0</td>\n",
              "      <td>1</td>\n",
              "      <td>0</td>\n",
              "      <td>0</td>\n",
              "      <td>1</td>\n",
              "    </tr>\n",
              "    <tr>\n",
              "      <th>13</th>\n",
              "      <td>4</td>\n",
              "      <td>1</td>\n",
              "      <td>M</td>\n",
              "      <td>63</td>\n",
              "      <td>B</td>\n",
              "      <td>0</td>\n",
              "      <td>0</td>\n",
              "      <td>0</td>\n",
              "      <td>0</td>\n",
              "      <td>0</td>\n",
              "      <td>0</td>\n",
              "      <td>0</td>\n",
              "      <td>0</td>\n",
              "      <td>1</td>\n",
              "      <td>0</td>\n",
              "      <td>0</td>\n",
              "      <td>0</td>\n",
              "      <td>0</td>\n",
              "    </tr>\n",
              "    <tr>\n",
              "      <th>15</th>\n",
              "      <td>1</td>\n",
              "      <td>1</td>\n",
              "      <td>M</td>\n",
              "      <td>19</td>\n",
              "      <td>Z</td>\n",
              "      <td>0</td>\n",
              "      <td>0</td>\n",
              "      <td>0</td>\n",
              "      <td>0</td>\n",
              "      <td>0</td>\n",
              "      <td>0</td>\n",
              "      <td>0</td>\n",
              "      <td>0</td>\n",
              "      <td>0</td>\n",
              "      <td>0</td>\n",
              "      <td>0</td>\n",
              "      <td>0</td>\n",
              "      <td>1</td>\n",
              "    </tr>\n",
              "    <tr>\n",
              "      <th>...</th>\n",
              "      <td>...</td>\n",
              "      <td>...</td>\n",
              "      <td>...</td>\n",
              "      <td>...</td>\n",
              "      <td>...</td>\n",
              "      <td>...</td>\n",
              "      <td>...</td>\n",
              "      <td>...</td>\n",
              "      <td>...</td>\n",
              "      <td>...</td>\n",
              "      <td>...</td>\n",
              "      <td>...</td>\n",
              "      <td>...</td>\n",
              "      <td>...</td>\n",
              "      <td>...</td>\n",
              "      <td>...</td>\n",
              "      <td>...</td>\n",
              "      <td>...</td>\n",
              "    </tr>\n",
              "    <tr>\n",
              "      <th>601274</th>\n",
              "      <td>1</td>\n",
              "      <td>0</td>\n",
              "      <td>M</td>\n",
              "      <td>27</td>\n",
              "      <td>A</td>\n",
              "      <td>0</td>\n",
              "      <td>0</td>\n",
              "      <td>0</td>\n",
              "      <td>0</td>\n",
              "      <td>0</td>\n",
              "      <td>0</td>\n",
              "      <td>0</td>\n",
              "      <td>0</td>\n",
              "      <td>0</td>\n",
              "      <td>0</td>\n",
              "      <td>1</td>\n",
              "      <td>0</td>\n",
              "      <td>0</td>\n",
              "    </tr>\n",
              "    <tr>\n",
              "      <th>601276</th>\n",
              "      <td>1</td>\n",
              "      <td>0</td>\n",
              "      <td>M</td>\n",
              "      <td>19</td>\n",
              "      <td>B</td>\n",
              "      <td>0</td>\n",
              "      <td>0</td>\n",
              "      <td>0</td>\n",
              "      <td>0</td>\n",
              "      <td>0</td>\n",
              "      <td>0</td>\n",
              "      <td>0</td>\n",
              "      <td>0</td>\n",
              "      <td>0</td>\n",
              "      <td>0</td>\n",
              "      <td>1</td>\n",
              "      <td>0</td>\n",
              "      <td>0</td>\n",
              "    </tr>\n",
              "    <tr>\n",
              "      <th>601277</th>\n",
              "      <td>1</td>\n",
              "      <td>0</td>\n",
              "      <td>M</td>\n",
              "      <td>17</td>\n",
              "      <td>Q</td>\n",
              "      <td>0</td>\n",
              "      <td>0</td>\n",
              "      <td>0</td>\n",
              "      <td>0</td>\n",
              "      <td>0</td>\n",
              "      <td>0</td>\n",
              "      <td>0</td>\n",
              "      <td>0</td>\n",
              "      <td>0</td>\n",
              "      <td>0</td>\n",
              "      <td>1</td>\n",
              "      <td>0</td>\n",
              "      <td>0</td>\n",
              "    </tr>\n",
              "    <tr>\n",
              "      <th>601278</th>\n",
              "      <td>1</td>\n",
              "      <td>1</td>\n",
              "      <td>M</td>\n",
              "      <td>17</td>\n",
              "      <td>Q</td>\n",
              "      <td>0</td>\n",
              "      <td>0</td>\n",
              "      <td>0</td>\n",
              "      <td>0</td>\n",
              "      <td>0</td>\n",
              "      <td>0</td>\n",
              "      <td>0</td>\n",
              "      <td>0</td>\n",
              "      <td>0</td>\n",
              "      <td>0</td>\n",
              "      <td>0</td>\n",
              "      <td>1</td>\n",
              "      <td>0</td>\n",
              "    </tr>\n",
              "    <tr>\n",
              "      <th>601279</th>\n",
              "      <td>1</td>\n",
              "      <td>0</td>\n",
              "      <td>M</td>\n",
              "      <td>17</td>\n",
              "      <td>Q</td>\n",
              "      <td>0</td>\n",
              "      <td>0</td>\n",
              "      <td>0</td>\n",
              "      <td>0</td>\n",
              "      <td>0</td>\n",
              "      <td>0</td>\n",
              "      <td>0</td>\n",
              "      <td>0</td>\n",
              "      <td>0</td>\n",
              "      <td>0</td>\n",
              "      <td>1</td>\n",
              "      <td>0</td>\n",
              "      <td>0</td>\n",
              "    </tr>\n",
              "  </tbody>\n",
              "</table>\n",
              "<p>114999 rows × 18 columns</p>\n",
              "</div>"
            ],
            "text/plain": [
              "        perobs  inout sex  age race  contrabn  pistol  riflshot  asltweap  \\\n",
              "2            1      1   M   55    Q         0       0         0         0   \n",
              "5            5      1   M   57    Q         0       0         0         0   \n",
              "6            1      0   M   18    B         0       0         0         0   \n",
              "13           4      1   M   63    B         0       0         0         0   \n",
              "15           1      1   M   19    Z         0       0         0         0   \n",
              "...        ...    ...  ..  ...  ...       ...     ...       ...       ...   \n",
              "601274       1      0   M   27    A         0       0         0         0   \n",
              "601276       1      0   M   19    B         0       0         0         0   \n",
              "601277       1      0   M   17    Q         0       0         0         0   \n",
              "601278       1      1   M   17    Q         0       0         0         0   \n",
              "601279       1      0   M   17    Q         0       0         0         0   \n",
              "\n",
              "        knifcuti  machgun  othrweap  rf_othsw  cs_objcs  cs_bulge  sb_hdobj  \\\n",
              "2              0        0         0         1         0         0         1   \n",
              "5              0        0         0         0         1         0         0   \n",
              "6              0        0         0         0         0         1         0   \n",
              "13             0        0         0         0         1         0         0   \n",
              "15             0        0         0         0         0         0         0   \n",
              "...          ...      ...       ...       ...       ...       ...       ...   \n",
              "601274         0        0         0         0         0         0         1   \n",
              "601276         0        0         0         0         0         0         1   \n",
              "601277         0        0         0         0         0         0         1   \n",
              "601278         0        0         0         0         0         0         0   \n",
              "601279         0        0         0         0         0         0         1   \n",
              "\n",
              "        sb_outln  rf_bulg  \n",
              "2              0        0  \n",
              "5              0        0  \n",
              "6              0        1  \n",
              "13             0        0  \n",
              "15             0        1  \n",
              "...          ...      ...  \n",
              "601274         0        0  \n",
              "601276         0        0  \n",
              "601277         0        0  \n",
              "601278         1        0  \n",
              "601279         0        0  \n",
              "\n",
              "[114999 rows x 18 columns]"
            ]
          },
          "execution_count": 267,
          "metadata": {},
          "output_type": "execute_result"
        }
      ],
      "source": [
        "sqf"
      ]
    },
    {
      "cell_type": "code",
      "execution_count": null,
      "metadata": {
        "id": "x6yiIxLfN-jL"
      },
      "outputs": [],
      "source": [
        "weapon_fnd_col_names = [\n",
        "                        'contrabn',\n",
        "                        'pistol',\n",
        "                        'riflshot',\n",
        "                        'asltweap',\n",
        "                        'knifcuti',\n",
        "                        'machgun',\n",
        "                        'othrweap',\n",
        "                        ]"
      ]
    },
    {
      "cell_type": "code",
      "execution_count": null,
      "metadata": {
        "colab": {
          "base_uri": "https://localhost:8080/"
        },
        "id": "GGtNhI0BPpO_",
        "outputId": "aef5b00a-787f-463d-9f6d-58ce7db47cfb"
      },
      "outputs": [
        {
          "data": {
            "text/plain": [
              "Index(['perobs', 'inout', 'sex', 'age', 'race', 'contrabn', 'pistol',\n",
              "       'riflshot', 'asltweap', 'knifcuti', 'machgun', 'othrweap', 'rf_othsw',\n",
              "       'cs_objcs', 'cs_bulge', 'sb_hdobj', 'sb_outln', 'rf_bulg'],\n",
              "      dtype='object')"
            ]
          },
          "execution_count": 269,
          "metadata": {},
          "output_type": "execute_result"
        }
      ],
      "source": [
        "sqf.columns"
      ]
    },
    {
      "cell_type": "code",
      "execution_count": null,
      "metadata": {
        "id": "Me-1CbhjPWFE"
      },
      "outputs": [],
      "source": [
        "# created 'weapon_fnd' column to denote if a weapon is found with suspect.\n",
        "# weapon_fnd contains values as '0' or '1'\n",
        "\n",
        "sqf['weapon_fnd'] = sqf[weapon_fnd_col_names].any(axis=1).astype(int)"
      ]
    },
    {
      "cell_type": "code",
      "execution_count": null,
      "metadata": {
        "colab": {
          "base_uri": "https://localhost:8080/"
        },
        "id": "8i0nIODyP0pI",
        "outputId": "0c2b24cf-c0c4-45af-96f4-0a6fd63127cf"
      },
      "outputs": [
        {
          "data": {
            "text/plain": [
              "0    104220\n",
              "1     10779\n",
              "Name: weapon_fnd, dtype: int64"
            ]
          },
          "execution_count": 271,
          "metadata": {},
          "output_type": "execute_result"
        }
      ],
      "source": [
        "sqf['weapon_fnd'].value_counts()"
      ]
    },
    {
      "cell_type": "code",
      "execution_count": null,
      "metadata": {
        "colab": {
          "base_uri": "https://localhost:8080/"
        },
        "id": "0Gxz_puXl_AE",
        "outputId": "d0417050-e99b-4bf3-c594-7d01e4fd5e03"
      },
      "outputs": [
        {
          "data": {
            "text/plain": [
              "0    104220\n",
              "1     10779\n",
              "Name: weapon_fnd, dtype: int64"
            ]
          },
          "execution_count": 272,
          "metadata": {},
          "output_type": "execute_result"
        }
      ],
      "source": [
        "sqf['weapon_fnd'].value_counts()"
      ]
    },
    {
      "cell_type": "code",
      "execution_count": null,
      "metadata": {
        "colab": {
          "base_uri": "https://localhost:8080/"
        },
        "id": "gUU-0BmBzyOy",
        "outputId": "62426afe-5183-4c89-9c60-47eec17a5d61"
      },
      "outputs": [
        {
          "name": "stdout",
          "output_type": "stream",
          "text": [
            "cs_bulge\n",
            "0    62905\n",
            "1    52094\n",
            "Name: cs_bulge, dtype: int64\n",
            "********** \n",
            " rf_bulge\n",
            "0    65692\n",
            "1    49307\n",
            "Name: rf_bulg, dtype: int64\n"
          ]
        }
      ],
      "source": [
        "print('cs_bulge')\n",
        "print(sqf['cs_bulge'].value_counts())\n",
        "print('*'*10, '\\n rf_bulge')\n",
        "print(sqf['rf_bulg'].value_counts())"
      ]
    },
    {
      "cell_type": "markdown",
      "metadata": {
        "id": "uKUdi0CuzJUl"
      },
      "source": [
        "I have tried to include all the columns related to suspicion of weapons like both cs_bulge, and rf_bulge, as they both columns contain different values.\n",
        "\n",
        "we can infer from the 'weapon_fnd' column:\n",
        "when The NYPD has suspected totally 104220 times for carrying a weapon,\n",
        "the weapon was found only 10779 times. i.e only around 10 percent of the times, Police has suspected correctly."
      ]
    },
    {
      "cell_type": "code",
      "execution_count": null,
      "metadata": {
        "colab": {
          "base_uri": "https://localhost:8080/"
        },
        "id": "jysGt0bZ7NQS",
        "outputId": "e6b29074-5066-43b8-b38b-e27e75d89d4d"
      },
      "outputs": [
        {
          "data": {
            "text/plain": [
              "0    104220\n",
              "1     10779\n",
              "Name: weapon_fnd, dtype: int64"
            ]
          },
          "execution_count": 274,
          "metadata": {},
          "output_type": "execute_result"
        }
      ],
      "source": [
        "sqf['weapon_fnd'].value_counts()"
      ]
    },
    {
      "cell_type": "markdown",
      "metadata": {
        "id": "gPSE56Co7vKp"
      },
      "source": [
        "we can observe that the dataset is not balanced.\n",
        "\n",
        "There are 10779 rows with weapon_fnd values as 1 and there are 104220 rows indicating the weapon_fnd values as 0.\n",
        "\n",
        "So, we will do Undersampling by randomly selecting the 10779 rows containing weapon_fnd == 0 values."
      ]
    },
    {
      "cell_type": "code",
      "execution_count": null,
      "metadata": {
        "id": "XzrCEUZjhlI9"
      },
      "outputs": [],
      "source": [
        "# divide the dataset into two parts:\n",
        "# one containing the rows, where the suspect posses a weapon\n",
        "# other contains the rows, where the suspect does not posses a weapon\n",
        "\n",
        "weapon_fnd = sqf[sqf['weapon_fnd'] == 1]\n",
        "weapon_nt_fnd = sqf[sqf['weapon_fnd'] == 0]"
      ]
    },
    {
      "cell_type": "code",
      "execution_count": null,
      "metadata": {
        "id": "-HxgCrjLhknp"
      },
      "outputs": [],
      "source": [
        "# randomly selecting the 5667(suspects posses weapon) number of rows from the\n",
        "# 'weapon_nt_fnd' dataset, to balance the sqf dataset\n",
        "\n",
        "weapon_nt_fnd_sub = weapon_nt_fnd.sample(len(weapon_fnd), random_state=213)"
      ]
    },
    {
      "cell_type": "code",
      "execution_count": null,
      "metadata": {
        "id": "FQwLdHgbiaQC"
      },
      "outputs": [],
      "source": [
        "# now combine both of the datasets, which forms a balanced dataset\n",
        "sqf_bal = pd.concat((weapon_nt_fnd_sub, weapon_fnd))"
      ]
    },
    {
      "cell_type": "code",
      "execution_count": null,
      "metadata": {
        "colab": {
          "base_uri": "https://localhost:8080/"
        },
        "id": "0I30CjWRi1qu",
        "outputId": "485f0ec8-935c-47f5-c54f-92854c1f7879"
      },
      "outputs": [
        {
          "data": {
            "text/plain": [
              "0    10779\n",
              "1    10779\n",
              "Name: weapon_fnd, dtype: int64"
            ]
          },
          "execution_count": 282,
          "metadata": {},
          "output_type": "execute_result"
        }
      ],
      "source": [
        "sqf_bal['weapon_fnd'].value_counts()"
      ]
    },
    {
      "cell_type": "markdown",
      "metadata": {
        "id": "wQocVd0MWROK"
      },
      "source": [
        "we can observe the data set is balanced as there are same number of rows belonging to both of the target classes."
      ]
    },
    {
      "cell_type": "markdown",
      "metadata": {
        "id": "EcAOyZ3qmbi8"
      },
      "source": [
        "### **Part 3 - Fitting Tree-based Classifier Models**"
      ]
    },
    {
      "cell_type": "markdown",
      "metadata": {
        "id": "lAKBgiXYEUzq"
      },
      "source": [
        "The goal of this part of the assignment is to build a model that uses several features of the stops in which the subject was suspected of carrying a weapon to predict whether a weapon was actually found."
      ]
    },
    {
      "cell_type": "code",
      "execution_count": null,
      "metadata": {
        "colab": {
          "base_uri": "https://localhost:8080/"
        },
        "id": "OsbiLR2YUxvm",
        "outputId": "add962c2-9e25-491b-de0b-9e54c8364272"
      },
      "outputs": [
        {
          "data": {
            "text/plain": [
              "Index(['perobs', 'inout', 'sex', 'age', 'race', 'contrabn', 'pistol',\n",
              "       'riflshot', 'asltweap', 'knifcuti', 'machgun', 'othrweap', 'rf_othsw',\n",
              "       'cs_objcs', 'cs_bulge', 'sb_hdobj', 'sb_outln', 'rf_bulg',\n",
              "       'weapon_fnd'],\n",
              "      dtype='object')"
            ]
          },
          "execution_count": 283,
          "metadata": {},
          "output_type": "execute_result"
        }
      ],
      "source": [
        "sqf_bal.columns"
      ]
    },
    {
      "cell_type": "code",
      "execution_count": null,
      "metadata": {
        "id": "S2H9_O--GUO5"
      },
      "outputs": [],
      "source": [
        "features_cols = ['perobs', 'inout', 'sex', 'age', 'race']\n",
        "\n",
        "features = sqf_bal[features_cols]\n",
        "features = pd.get_dummies(features)\n",
        "target = sqf_bal['weapon_fnd']"
      ]
    },
    {
      "cell_type": "code",
      "execution_count": null,
      "metadata": {
        "colab": {
          "base_uri": "https://localhost:8080/",
          "height": 423
        },
        "id": "s2tRyt25T7FI",
        "outputId": "77273a19-ab36-4720-d426-8a7263adbbc7"
      },
      "outputs": [
        {
          "data": {
            "text/html": [
              "<div>\n",
              "<style scoped>\n",
              "    .dataframe tbody tr th:only-of-type {\n",
              "        vertical-align: middle;\n",
              "    }\n",
              "\n",
              "    .dataframe tbody tr th {\n",
              "        vertical-align: top;\n",
              "    }\n",
              "\n",
              "    .dataframe thead th {\n",
              "        text-align: right;\n",
              "    }\n",
              "</style>\n",
              "<table border=\"1\" class=\"dataframe\">\n",
              "  <thead>\n",
              "    <tr style=\"text-align: right;\">\n",
              "      <th></th>\n",
              "      <th>perobs</th>\n",
              "      <th>inout</th>\n",
              "      <th>age</th>\n",
              "      <th>sex_F</th>\n",
              "      <th>sex_M</th>\n",
              "      <th>sex_Z</th>\n",
              "      <th>race_A</th>\n",
              "      <th>race_B</th>\n",
              "      <th>race_I</th>\n",
              "      <th>race_P</th>\n",
              "      <th>race_Q</th>\n",
              "      <th>race_U</th>\n",
              "      <th>race_W</th>\n",
              "      <th>race_Z</th>\n",
              "    </tr>\n",
              "  </thead>\n",
              "  <tbody>\n",
              "    <tr>\n",
              "      <th>331252</th>\n",
              "      <td>3</td>\n",
              "      <td>0</td>\n",
              "      <td>20</td>\n",
              "      <td>0</td>\n",
              "      <td>1</td>\n",
              "      <td>0</td>\n",
              "      <td>0</td>\n",
              "      <td>0</td>\n",
              "      <td>0</td>\n",
              "      <td>0</td>\n",
              "      <td>1</td>\n",
              "      <td>0</td>\n",
              "      <td>0</td>\n",
              "      <td>0</td>\n",
              "    </tr>\n",
              "    <tr>\n",
              "      <th>74213</th>\n",
              "      <td>1</td>\n",
              "      <td>0</td>\n",
              "      <td>25</td>\n",
              "      <td>0</td>\n",
              "      <td>1</td>\n",
              "      <td>0</td>\n",
              "      <td>0</td>\n",
              "      <td>1</td>\n",
              "      <td>0</td>\n",
              "      <td>0</td>\n",
              "      <td>0</td>\n",
              "      <td>0</td>\n",
              "      <td>0</td>\n",
              "      <td>0</td>\n",
              "    </tr>\n",
              "    <tr>\n",
              "      <th>514381</th>\n",
              "      <td>3</td>\n",
              "      <td>1</td>\n",
              "      <td>31</td>\n",
              "      <td>0</td>\n",
              "      <td>1</td>\n",
              "      <td>0</td>\n",
              "      <td>0</td>\n",
              "      <td>1</td>\n",
              "      <td>0</td>\n",
              "      <td>0</td>\n",
              "      <td>0</td>\n",
              "      <td>0</td>\n",
              "      <td>0</td>\n",
              "      <td>0</td>\n",
              "    </tr>\n",
              "    <tr>\n",
              "      <th>336302</th>\n",
              "      <td>1</td>\n",
              "      <td>0</td>\n",
              "      <td>26</td>\n",
              "      <td>0</td>\n",
              "      <td>1</td>\n",
              "      <td>0</td>\n",
              "      <td>0</td>\n",
              "      <td>0</td>\n",
              "      <td>0</td>\n",
              "      <td>0</td>\n",
              "      <td>1</td>\n",
              "      <td>0</td>\n",
              "      <td>0</td>\n",
              "      <td>0</td>\n",
              "    </tr>\n",
              "    <tr>\n",
              "      <th>514371</th>\n",
              "      <td>2</td>\n",
              "      <td>0</td>\n",
              "      <td>33</td>\n",
              "      <td>0</td>\n",
              "      <td>1</td>\n",
              "      <td>0</td>\n",
              "      <td>0</td>\n",
              "      <td>0</td>\n",
              "      <td>0</td>\n",
              "      <td>0</td>\n",
              "      <td>0</td>\n",
              "      <td>0</td>\n",
              "      <td>1</td>\n",
              "      <td>0</td>\n",
              "    </tr>\n",
              "    <tr>\n",
              "      <th>...</th>\n",
              "      <td>...</td>\n",
              "      <td>...</td>\n",
              "      <td>...</td>\n",
              "      <td>...</td>\n",
              "      <td>...</td>\n",
              "      <td>...</td>\n",
              "      <td>...</td>\n",
              "      <td>...</td>\n",
              "      <td>...</td>\n",
              "      <td>...</td>\n",
              "      <td>...</td>\n",
              "      <td>...</td>\n",
              "      <td>...</td>\n",
              "      <td>...</td>\n",
              "    </tr>\n",
              "    <tr>\n",
              "      <th>600972</th>\n",
              "      <td>1</td>\n",
              "      <td>1</td>\n",
              "      <td>19</td>\n",
              "      <td>0</td>\n",
              "      <td>1</td>\n",
              "      <td>0</td>\n",
              "      <td>0</td>\n",
              "      <td>1</td>\n",
              "      <td>0</td>\n",
              "      <td>0</td>\n",
              "      <td>0</td>\n",
              "      <td>0</td>\n",
              "      <td>0</td>\n",
              "      <td>0</td>\n",
              "    </tr>\n",
              "    <tr>\n",
              "      <th>600975</th>\n",
              "      <td>1</td>\n",
              "      <td>0</td>\n",
              "      <td>16</td>\n",
              "      <td>0</td>\n",
              "      <td>1</td>\n",
              "      <td>0</td>\n",
              "      <td>0</td>\n",
              "      <td>0</td>\n",
              "      <td>0</td>\n",
              "      <td>0</td>\n",
              "      <td>1</td>\n",
              "      <td>0</td>\n",
              "      <td>0</td>\n",
              "      <td>0</td>\n",
              "    </tr>\n",
              "    <tr>\n",
              "      <th>600976</th>\n",
              "      <td>1</td>\n",
              "      <td>0</td>\n",
              "      <td>19</td>\n",
              "      <td>0</td>\n",
              "      <td>1</td>\n",
              "      <td>0</td>\n",
              "      <td>0</td>\n",
              "      <td>0</td>\n",
              "      <td>0</td>\n",
              "      <td>0</td>\n",
              "      <td>1</td>\n",
              "      <td>0</td>\n",
              "      <td>0</td>\n",
              "      <td>0</td>\n",
              "    </tr>\n",
              "    <tr>\n",
              "      <th>601036</th>\n",
              "      <td>2</td>\n",
              "      <td>0</td>\n",
              "      <td>22</td>\n",
              "      <td>0</td>\n",
              "      <td>1</td>\n",
              "      <td>0</td>\n",
              "      <td>0</td>\n",
              "      <td>0</td>\n",
              "      <td>0</td>\n",
              "      <td>0</td>\n",
              "      <td>1</td>\n",
              "      <td>0</td>\n",
              "      <td>0</td>\n",
              "      <td>0</td>\n",
              "    </tr>\n",
              "    <tr>\n",
              "      <th>601205</th>\n",
              "      <td>5</td>\n",
              "      <td>1</td>\n",
              "      <td>17</td>\n",
              "      <td>0</td>\n",
              "      <td>1</td>\n",
              "      <td>0</td>\n",
              "      <td>0</td>\n",
              "      <td>1</td>\n",
              "      <td>0</td>\n",
              "      <td>0</td>\n",
              "      <td>0</td>\n",
              "      <td>0</td>\n",
              "      <td>0</td>\n",
              "      <td>0</td>\n",
              "    </tr>\n",
              "  </tbody>\n",
              "</table>\n",
              "<p>21558 rows × 14 columns</p>\n",
              "</div>"
            ],
            "text/plain": [
              "        perobs  inout  age  sex_F  sex_M  sex_Z  race_A  race_B  race_I  \\\n",
              "331252       3      0   20      0      1      0       0       0       0   \n",
              "74213        1      0   25      0      1      0       0       1       0   \n",
              "514381       3      1   31      0      1      0       0       1       0   \n",
              "336302       1      0   26      0      1      0       0       0       0   \n",
              "514371       2      0   33      0      1      0       0       0       0   \n",
              "...        ...    ...  ...    ...    ...    ...     ...     ...     ...   \n",
              "600972       1      1   19      0      1      0       0       1       0   \n",
              "600975       1      0   16      0      1      0       0       0       0   \n",
              "600976       1      0   19      0      1      0       0       0       0   \n",
              "601036       2      0   22      0      1      0       0       0       0   \n",
              "601205       5      1   17      0      1      0       0       1       0   \n",
              "\n",
              "        race_P  race_Q  race_U  race_W  race_Z  \n",
              "331252       0       1       0       0       0  \n",
              "74213        0       0       0       0       0  \n",
              "514381       0       0       0       0       0  \n",
              "336302       0       1       0       0       0  \n",
              "514371       0       0       0       1       0  \n",
              "...        ...     ...     ...     ...     ...  \n",
              "600972       0       0       0       0       0  \n",
              "600975       0       1       0       0       0  \n",
              "600976       0       1       0       0       0  \n",
              "601036       0       1       0       0       0  \n",
              "601205       0       0       0       0       0  \n",
              "\n",
              "[21558 rows x 14 columns]"
            ]
          },
          "execution_count": 285,
          "metadata": {},
          "output_type": "execute_result"
        }
      ],
      "source": [
        "features"
      ]
    },
    {
      "cell_type": "code",
      "execution_count": null,
      "metadata": {
        "colab": {
          "base_uri": "https://localhost:8080/"
        },
        "id": "TrbJnh1zT_B1",
        "outputId": "b462c88e-ff4e-412f-84e4-f084913298ba"
      },
      "outputs": [
        {
          "data": {
            "text/plain": [
              "331252    0\n",
              "74213     0\n",
              "514381    0\n",
              "336302    0\n",
              "514371    0\n",
              "         ..\n",
              "600972    1\n",
              "600975    1\n",
              "600976    1\n",
              "601036    1\n",
              "601205    1\n",
              "Name: weapon_fnd, Length: 21558, dtype: int32"
            ]
          },
          "execution_count": 286,
          "metadata": {},
          "output_type": "execute_result"
        }
      ],
      "source": [
        "target"
      ]
    },
    {
      "cell_type": "code",
      "execution_count": null,
      "metadata": {
        "id": "dcmHxVvfGuat"
      },
      "outputs": [],
      "source": [
        "# split the dataset to use 20 percent of the data for testing.\n",
        "\n",
        "train_features, test_features, train_target, test_target = train_test_split(features, target, test_size=0.2, random_state=302)"
      ]
    },
    {
      "cell_type": "code",
      "execution_count": null,
      "metadata": {
        "colab": {
          "base_uri": "https://localhost:8080/",
          "height": 423
        },
        "id": "zlZo_Pq2U5kI",
        "outputId": "3bbf7078-5a21-494e-fd7c-1cbb98098219"
      },
      "outputs": [
        {
          "data": {
            "text/html": [
              "<div>\n",
              "<style scoped>\n",
              "    .dataframe tbody tr th:only-of-type {\n",
              "        vertical-align: middle;\n",
              "    }\n",
              "\n",
              "    .dataframe tbody tr th {\n",
              "        vertical-align: top;\n",
              "    }\n",
              "\n",
              "    .dataframe thead th {\n",
              "        text-align: right;\n",
              "    }\n",
              "</style>\n",
              "<table border=\"1\" class=\"dataframe\">\n",
              "  <thead>\n",
              "    <tr style=\"text-align: right;\">\n",
              "      <th></th>\n",
              "      <th>perobs</th>\n",
              "      <th>inout</th>\n",
              "      <th>age</th>\n",
              "      <th>sex_F</th>\n",
              "      <th>sex_M</th>\n",
              "      <th>sex_Z</th>\n",
              "      <th>race_A</th>\n",
              "      <th>race_B</th>\n",
              "      <th>race_I</th>\n",
              "      <th>race_P</th>\n",
              "      <th>race_Q</th>\n",
              "      <th>race_U</th>\n",
              "      <th>race_W</th>\n",
              "      <th>race_Z</th>\n",
              "    </tr>\n",
              "  </thead>\n",
              "  <tbody>\n",
              "    <tr>\n",
              "      <th>398683</th>\n",
              "      <td>1</td>\n",
              "      <td>0</td>\n",
              "      <td>38</td>\n",
              "      <td>0</td>\n",
              "      <td>1</td>\n",
              "      <td>0</td>\n",
              "      <td>0</td>\n",
              "      <td>1</td>\n",
              "      <td>0</td>\n",
              "      <td>0</td>\n",
              "      <td>0</td>\n",
              "      <td>0</td>\n",
              "      <td>0</td>\n",
              "      <td>0</td>\n",
              "    </tr>\n",
              "    <tr>\n",
              "      <th>350305</th>\n",
              "      <td>1</td>\n",
              "      <td>0</td>\n",
              "      <td>32</td>\n",
              "      <td>0</td>\n",
              "      <td>1</td>\n",
              "      <td>0</td>\n",
              "      <td>0</td>\n",
              "      <td>1</td>\n",
              "      <td>0</td>\n",
              "      <td>0</td>\n",
              "      <td>0</td>\n",
              "      <td>0</td>\n",
              "      <td>0</td>\n",
              "      <td>0</td>\n",
              "    </tr>\n",
              "    <tr>\n",
              "      <th>311720</th>\n",
              "      <td>1</td>\n",
              "      <td>0</td>\n",
              "      <td>16</td>\n",
              "      <td>0</td>\n",
              "      <td>1</td>\n",
              "      <td>0</td>\n",
              "      <td>0</td>\n",
              "      <td>0</td>\n",
              "      <td>0</td>\n",
              "      <td>0</td>\n",
              "      <td>0</td>\n",
              "      <td>0</td>\n",
              "      <td>0</td>\n",
              "      <td>1</td>\n",
              "    </tr>\n",
              "    <tr>\n",
              "      <th>272890</th>\n",
              "      <td>1</td>\n",
              "      <td>0</td>\n",
              "      <td>44</td>\n",
              "      <td>0</td>\n",
              "      <td>1</td>\n",
              "      <td>0</td>\n",
              "      <td>0</td>\n",
              "      <td>0</td>\n",
              "      <td>0</td>\n",
              "      <td>1</td>\n",
              "      <td>0</td>\n",
              "      <td>0</td>\n",
              "      <td>0</td>\n",
              "      <td>0</td>\n",
              "    </tr>\n",
              "    <tr>\n",
              "      <th>532913</th>\n",
              "      <td>2</td>\n",
              "      <td>0</td>\n",
              "      <td>33</td>\n",
              "      <td>0</td>\n",
              "      <td>1</td>\n",
              "      <td>0</td>\n",
              "      <td>0</td>\n",
              "      <td>0</td>\n",
              "      <td>0</td>\n",
              "      <td>0</td>\n",
              "      <td>1</td>\n",
              "      <td>0</td>\n",
              "      <td>0</td>\n",
              "      <td>0</td>\n",
              "    </tr>\n",
              "    <tr>\n",
              "      <th>...</th>\n",
              "      <td>...</td>\n",
              "      <td>...</td>\n",
              "      <td>...</td>\n",
              "      <td>...</td>\n",
              "      <td>...</td>\n",
              "      <td>...</td>\n",
              "      <td>...</td>\n",
              "      <td>...</td>\n",
              "      <td>...</td>\n",
              "      <td>...</td>\n",
              "      <td>...</td>\n",
              "      <td>...</td>\n",
              "      <td>...</td>\n",
              "      <td>...</td>\n",
              "    </tr>\n",
              "    <tr>\n",
              "      <th>543967</th>\n",
              "      <td>1</td>\n",
              "      <td>0</td>\n",
              "      <td>33</td>\n",
              "      <td>0</td>\n",
              "      <td>1</td>\n",
              "      <td>0</td>\n",
              "      <td>0</td>\n",
              "      <td>0</td>\n",
              "      <td>0</td>\n",
              "      <td>0</td>\n",
              "      <td>1</td>\n",
              "      <td>0</td>\n",
              "      <td>0</td>\n",
              "      <td>0</td>\n",
              "    </tr>\n",
              "    <tr>\n",
              "      <th>404620</th>\n",
              "      <td>1</td>\n",
              "      <td>0</td>\n",
              "      <td>20</td>\n",
              "      <td>0</td>\n",
              "      <td>1</td>\n",
              "      <td>0</td>\n",
              "      <td>0</td>\n",
              "      <td>1</td>\n",
              "      <td>0</td>\n",
              "      <td>0</td>\n",
              "      <td>0</td>\n",
              "      <td>0</td>\n",
              "      <td>0</td>\n",
              "      <td>0</td>\n",
              "    </tr>\n",
              "    <tr>\n",
              "      <th>284817</th>\n",
              "      <td>5</td>\n",
              "      <td>0</td>\n",
              "      <td>53</td>\n",
              "      <td>0</td>\n",
              "      <td>1</td>\n",
              "      <td>0</td>\n",
              "      <td>0</td>\n",
              "      <td>1</td>\n",
              "      <td>0</td>\n",
              "      <td>0</td>\n",
              "      <td>0</td>\n",
              "      <td>0</td>\n",
              "      <td>0</td>\n",
              "      <td>0</td>\n",
              "    </tr>\n",
              "    <tr>\n",
              "      <th>257816</th>\n",
              "      <td>1</td>\n",
              "      <td>0</td>\n",
              "      <td>25</td>\n",
              "      <td>1</td>\n",
              "      <td>0</td>\n",
              "      <td>0</td>\n",
              "      <td>0</td>\n",
              "      <td>1</td>\n",
              "      <td>0</td>\n",
              "      <td>0</td>\n",
              "      <td>0</td>\n",
              "      <td>0</td>\n",
              "      <td>0</td>\n",
              "      <td>0</td>\n",
              "    </tr>\n",
              "    <tr>\n",
              "      <th>587846</th>\n",
              "      <td>1</td>\n",
              "      <td>1</td>\n",
              "      <td>32</td>\n",
              "      <td>1</td>\n",
              "      <td>0</td>\n",
              "      <td>0</td>\n",
              "      <td>0</td>\n",
              "      <td>1</td>\n",
              "      <td>0</td>\n",
              "      <td>0</td>\n",
              "      <td>0</td>\n",
              "      <td>0</td>\n",
              "      <td>0</td>\n",
              "      <td>0</td>\n",
              "    </tr>\n",
              "  </tbody>\n",
              "</table>\n",
              "<p>17246 rows × 14 columns</p>\n",
              "</div>"
            ],
            "text/plain": [
              "        perobs  inout  age  sex_F  sex_M  sex_Z  race_A  race_B  race_I  \\\n",
              "398683       1      0   38      0      1      0       0       1       0   \n",
              "350305       1      0   32      0      1      0       0       1       0   \n",
              "311720       1      0   16      0      1      0       0       0       0   \n",
              "272890       1      0   44      0      1      0       0       0       0   \n",
              "532913       2      0   33      0      1      0       0       0       0   \n",
              "...        ...    ...  ...    ...    ...    ...     ...     ...     ...   \n",
              "543967       1      0   33      0      1      0       0       0       0   \n",
              "404620       1      0   20      0      1      0       0       1       0   \n",
              "284817       5      0   53      0      1      0       0       1       0   \n",
              "257816       1      0   25      1      0      0       0       1       0   \n",
              "587846       1      1   32      1      0      0       0       1       0   \n",
              "\n",
              "        race_P  race_Q  race_U  race_W  race_Z  \n",
              "398683       0       0       0       0       0  \n",
              "350305       0       0       0       0       0  \n",
              "311720       0       0       0       0       1  \n",
              "272890       1       0       0       0       0  \n",
              "532913       0       1       0       0       0  \n",
              "...        ...     ...     ...     ...     ...  \n",
              "543967       0       1       0       0       0  \n",
              "404620       0       0       0       0       0  \n",
              "284817       0       0       0       0       0  \n",
              "257816       0       0       0       0       0  \n",
              "587846       0       0       0       0       0  \n",
              "\n",
              "[17246 rows x 14 columns]"
            ]
          },
          "execution_count": 288,
          "metadata": {},
          "output_type": "execute_result"
        }
      ],
      "source": [
        "train_features"
      ]
    },
    {
      "cell_type": "code",
      "execution_count": null,
      "metadata": {
        "colab": {
          "base_uri": "https://localhost:8080/",
          "height": 423
        },
        "id": "I6F7sr3JU8TW",
        "outputId": "5d33fac9-3c94-4748-956c-7014a5d3bd16"
      },
      "outputs": [
        {
          "data": {
            "text/plain": [
              "Index(['perobs', 'inout', 'age', 'sex_F', 'sex_M', 'sex_Z', 'race_A', 'race_B',\n",
              "       'race_I', 'race_P', 'race_Q', 'race_U', 'race_W', 'race_Z'],\n",
              "      dtype='object')"
            ]
          },
          "execution_count": 297,
          "metadata": {},
          "output_type": "execute_result"
        }
      ],
      "source": [
        "test_features.columns"
      ]
    },
    {
      "cell_type": "code",
      "execution_count": null,
      "metadata": {
        "colab": {
          "base_uri": "https://localhost:8080/"
        },
        "id": "boCpeUCSUlgc",
        "outputId": "8c97c9f5-d215-4d9f-e0fc-a576a65b7a53"
      },
      "outputs": [
        {
          "data": {
            "text/plain": [
              "0    2166\n",
              "1    2146\n",
              "Name: weapon_fnd, dtype: int64"
            ]
          },
          "execution_count": 290,
          "metadata": {},
          "output_type": "execute_result"
        }
      ],
      "source": [
        "test_target.value_counts()"
      ]
    },
    {
      "cell_type": "code",
      "execution_count": null,
      "metadata": {
        "colab": {
          "base_uri": "https://localhost:8080/"
        },
        "id": "Ar65hncEUU28",
        "outputId": "0fa7abff-4163-4dd6-e5cf-578dc0a5c61c"
      },
      "outputs": [
        {
          "data": {
            "text/plain": [
              "1    8633\n",
              "0    8613\n",
              "Name: weapon_fnd, dtype: int64"
            ]
          },
          "execution_count": 291,
          "metadata": {},
          "output_type": "execute_result"
        }
      ],
      "source": [
        "train_target.value_counts()"
      ]
    },
    {
      "cell_type": "markdown",
      "metadata": {
        "id": "nuNQi-YknqU4"
      },
      "source": [
        "**Fitting the `RandomForestClassifier**"
      ]
    },
    {
      "cell_type": "code",
      "execution_count": null,
      "metadata": {
        "colab": {
          "base_uri": "https://localhost:8080/"
        },
        "id": "azzHij0IHC27",
        "outputId": "9942edad-5f8a-482a-f961-5c6ac7d44b7d"
      },
      "outputs": [
        {
          "name": "stdout",
          "output_type": "stream",
          "text": [
            "training accuracy = 0.67\n",
            "testing accuracy = 0.569\n"
          ]
        }
      ],
      "source": [
        "# initialize a RandomForest Classifier with default hyperparameters\n",
        "\n",
        "rf_classifier = RandomForestClassifier()\n",
        "rf_classifier.fit(train_features, train_target)\n",
        "\n",
        "train_predict = rf_classifier.predict(train_features)\n",
        "train_accuracy = accuracy_score(train_target, train_predict)\n",
        "print('training accuracy = {:0.2f}'.format(train_accuracy))\n",
        "\n",
        "test_predict = rf_classifier.predict(test_features)\n",
        "test_accuracy = accuracy_score(test_target, test_predict)\n",
        "print('testing accuracy = {:0.3f}'.format(test_accuracy))"
      ]
    },
    {
      "cell_type": "code",
      "execution_count": null,
      "metadata": {
        "id": "4xU1tiEwLc5Q",
        "outputId": "b95c72ca-269d-49f1-e0f4-ba5f6a925cb0"
      },
      "outputs": [
        {
          "name": "stdout",
          "output_type": "stream",
          "text": [
            "Test Precision: 0.583\n",
            "Test Recall: 0.468\n",
            "Test F1-score: 0.519\n"
          ]
        }
      ],
      "source": [
        "from sklearn.metrics import precision_score, recall_score, f1_score\n",
        "\n",
        "# Calculate precision, recall, and F1-score for test data\n",
        "test_precision = precision_score(y_true=test_target, y_pred=test_predict)\n",
        "test_recall = recall_score(y_true=test_target, y_pred=test_predict)\n",
        "test_f1_score = f1_score(y_true=test_target, y_pred=test_predict)\n",
        "\n",
        "print('Test Precision: {:.3f}'.format(test_precision))\n",
        "print('Test Recall: {:.3f}'.format(test_recall))\n",
        "print('Test F1-score: {:.3f}'.format(test_f1_score))\n"
      ]
    },
    {
      "cell_type": "markdown",
      "metadata": {
        "id": "h9e3eoqvY74l"
      },
      "source": [
        "Both the Traning and Testing accuracies are very low, it states that maybe the input features, we have taken for analysis are not sufficient to predict the target.\n",
        "\n",
        "The Testing Accuracy is low compared to Training Accuracy, because of the Model Overfitting on the Train data. With the Hyper Parameter Tuning, we will reduce the overfit of the models.\n",
        "\n",
        "The test precision is 0.583, indicating that when the model predicts a positive class, it is correct 58.3% of the time.\n",
        "The test recall is 0.468, indicating that the model correctly identifies 46.8% of the positive cases.\n",
        "The test F1-score is 0.519, which is a weighted average of precision and recall, and provides a balanced assessment of the model's performance on both positive and negative classes."
      ]
    },
    {
      "cell_type": "markdown",
      "metadata": {
        "id": "lkEmrNYTn2po"
      },
      "source": [
        "**Tune the `min_samples_leaf` hyperparameter using Grid Search with Cross Validation and we will check the resultant model accuracy.**"
      ]
    },
    {
      "cell_type": "markdown",
      "metadata": {
        "id": "ovYMLorqcbUv"
      },
      "source": [
        "\n",
        "The min_samples_leaf hyperparameter in a random forest is the minimum number of samples that must be present in a leaf node. This hyperparameter helps to prevent overfitting by preventing the model from creating small leaf nodes."
      ]
    },
    {
      "cell_type": "code",
      "execution_count": null,
      "metadata": {
        "colab": {
          "base_uri": "https://localhost:8080/",
          "height": 346
        },
        "id": "-MtV8qHgHiAt",
        "outputId": "d4074aa2-88d2-4b93-9b08-e18e2e59be4e"
      },
      "outputs": [
        {
          "data": {
            "text/plain": [
              "GridSearchCV(cv=10, estimator=RandomForestClassifier(),\n",
              "             param_grid={'min_samples_leaf': [1, 2, 5, 8, 10, 20, 25, 30, 50,\n",
              "                                              80, 100, 150]})"
            ]
          },
          "execution_count": 303,
          "metadata": {},
          "output_type": "execute_result"
        }
      ],
      "source": [
        "# finding the best 'min_samples_leaf' hyperparameter for the RandomForestClassifier\n",
        "#  model using GridSearchCV with cross validation as 10 Folds.\n",
        "\n",
        "param_grid = {\n",
        "    'min_samples_leaf': [1, 2, 5, 8, 10, 20, 25, 30, 50, 80, 100, 150],\n",
        "}\n",
        "\n",
        "rfc_tune = RandomForestClassifier()\n",
        "rfc_cv_tune = GridSearchCV(rfc_tune, param_grid, cv=10)\n",
        "rfc_cv_tune.fit(train_features, train_target)"
      ]
    },
    {
      "cell_type": "code",
      "execution_count": null,
      "metadata": {
        "colab": {
          "base_uri": "https://localhost:8080/"
        },
        "id": "4Fxy1NZdn-_Y",
        "outputId": "74c6ae70-185c-4962-e4fc-3ef734e55268"
      },
      "outputs": [
        {
          "data": {
            "text/plain": [
              "25"
            ]
          },
          "execution_count": 304,
          "metadata": {},
          "output_type": "execute_result"
        }
      ],
      "source": [
        "# the optimal number of min_samples_leaf\n",
        "rfc_cv_tune.best_params_['min_samples_leaf']"
      ]
    },
    {
      "cell_type": "code",
      "execution_count": null,
      "metadata": {
        "colab": {
          "base_uri": "https://localhost:8080/"
        },
        "id": "jVRtyen9oUxA",
        "outputId": "ea45f3de-4206-4919-e2e3-210d2b6ea733"
      },
      "outputs": [
        {
          "name": "stdout",
          "output_type": "stream",
          "text": [
            "training accuracy = 0.61\n",
            "testing accuracy = 0.59\n"
          ]
        }
      ],
      "source": [
        "# Training the RandomForestClassifier model with the obtained optimal 'min_samples_leaf' hyperparameter.\n",
        "\n",
        "rfc = RandomForestClassifier(min_samples_leaf=rfc_cv_tune.best_params_['min_samples_leaf'])\n",
        "rfc.fit(train_features, train_target)\n",
        "\n",
        "train_predict = rfc.predict(train_features)\n",
        "train_accuracy = accuracy_score(train_target, train_predict)\n",
        "print('training accuracy = {:0.2f}'.format(train_accuracy))\n",
        "\n",
        "test_predict = rfc.predict(test_features)\n",
        "test_accuracy = accuracy_score(test_target, test_predict)\n",
        "print('testing accuracy = {:0.2f}'.format(test_accuracy))"
      ]
    },
    {
      "cell_type": "code",
      "execution_count": null,
      "metadata": {
        "id": "4XNXGsemLc5R",
        "outputId": "c91d6743-249b-4d65-ac94-0cadc20c3d3d"
      },
      "outputs": [
        {
          "name": "stdout",
          "output_type": "stream",
          "text": [
            "Test Precision: 0.613\n",
            "Test Recall: 0.471\n",
            "Test F1-score: 0.533\n"
          ]
        }
      ],
      "source": [
        "from sklearn.metrics import precision_score, recall_score, f1_score\n",
        "\n",
        "# Calculate precision, recall, and F1-score for test data\n",
        "test_precision = precision_score(y_true=test_target, y_pred=test_predict)\n",
        "test_recall = recall_score(y_true=test_target, y_pred=test_predict)\n",
        "test_f1_score = f1_score(y_true=test_target, y_pred=test_predict)\n",
        "\n",
        "print('Test Precision: {:.3f}'.format(test_precision))\n",
        "print('Test Recall: {:.3f}'.format(test_recall))\n",
        "print('Test F1-score: {:.3f}'.format(test_f1_score))"
      ]
    },
    {
      "cell_type": "markdown",
      "metadata": {
        "id": "CHM-_8wCb6UT"
      },
      "source": [
        "This model also did'nt perform well as the both training and testing accuracies were very less, this is also maybe because of the lack of important informative features required for the prediction of finding a weapon.\n",
        "\n",
        "The Overfit of the model is reduced because of the 'min_samples_leaf' hyperparameter tuning.\n",
        "\n",
        "The test precision is 0.613, which is slightly higher than the previous model, indicating that the model is slightly better at predicting positive cases.\n",
        "The test recall is 0.471, which is similar to the previous model, indicating that the model correctly identifies about the same proportion of positive cases.\n",
        "The test F1-score is 0.533, which is slightly higher than the previous model, indicating that the model is slightly better at providing a balanced assessment of performance on both positive and negative classes."
      ]
    },
    {
      "cell_type": "markdown",
      "metadata": {
        "id": "XKA-dOVAGxv-"
      },
      "source": [
        "### **Part 4 - Fitting Tree-based Regression Models**"
      ]
    },
    {
      "cell_type": "markdown",
      "metadata": {
        "id": "BBXnQip9ZXsL"
      },
      "source": [
        "In this part, we will be extending our modeling to include predictions of *probabilities* that a weapon was found given your features using tree-based regression models."
      ]
    },
    {
      "cell_type": "markdown",
      "metadata": {
        "id": "U24ZcN0-oT1s"
      },
      "source": [
        "**Fit a Random Forest *Regressor* to the data (being sure to tune `min_samples_leaf` with Grid Search).**"
      ]
    },
    {
      "cell_type": "code",
      "execution_count": null,
      "metadata": {
        "colab": {
          "base_uri": "https://localhost:8080/",
          "height": 115
        },
        "id": "iCmsupnrpHXQ",
        "outputId": "2b948a62-d83c-4042-d50b-a5d5c5ddf4dc"
      },
      "outputs": [
        {
          "data": {
            "text/plain": [
              "GridSearchCV(cv=10, estimator=RandomForestRegressor(),\n",
              "             param_grid={'min_samples_leaf': [1, 2, 5, 8, 10, 20, 25, 30, 50,\n",
              "                                              80, 100, 150]})"
            ]
          },
          "execution_count": 307,
          "metadata": {},
          "output_type": "execute_result"
        }
      ],
      "source": [
        "# find the optimal 'min_samples_leaf' hyperparameter for RandomForestRegressor\n",
        "# using GridSearchCV and 10 folds cross validation.\n",
        "\n",
        "param_grid = {\n",
        "    'min_samples_leaf': [1, 2, 5, 8, 10, 20, 25, 30, 50, 80, 100, 150],\n",
        "}\n",
        "\n",
        "rfr_tune = RandomForestRegressor()\n",
        "rfr_cv_tune = GridSearchCV(rfr_tune, param_grid, cv=10)\n",
        "rfr_cv_tune.fit(train_features, train_target)"
      ]
    },
    {
      "cell_type": "code",
      "execution_count": null,
      "metadata": {
        "colab": {
          "base_uri": "https://localhost:8080/"
        },
        "id": "Hxhq-0KI6VaH",
        "outputId": "720393a7-4c6f-4283-883c-340bdfe367dd"
      },
      "outputs": [
        {
          "data": {
            "text/plain": [
              "25"
            ]
          },
          "execution_count": 308,
          "metadata": {},
          "output_type": "execute_result"
        }
      ],
      "source": [
        "rfc_cv_tune.best_params_['min_samples_leaf']"
      ]
    },
    {
      "cell_type": "code",
      "execution_count": null,
      "metadata": {
        "id": "5UPap_Ql6W7Y"
      },
      "outputs": [],
      "source": [
        "# train the RandomForestRegressor model with optimal 'min_samples_leaf' hyperparameter.\n",
        "\n",
        "rfr = RandomForestRegressor(min_samples_leaf=rfc_cv_tune.best_params_['min_samples_leaf'])\n",
        "rfr.fit(train_features, train_target)\n",
        "\n",
        "test_predict = rfr.predict(test_features)"
      ]
    },
    {
      "cell_type": "code",
      "execution_count": null,
      "metadata": {
        "id": "LtEiXzzOLc5S",
        "outputId": "45b0f3e5-cc6b-4f2a-fe75-1c4fc7a6770d"
      },
      "outputs": [
        {
          "data": {
            "text/plain": [
              "(4312, 14)"
            ]
          },
          "execution_count": 310,
          "metadata": {},
          "output_type": "execute_result"
        }
      ],
      "source": [
        "test_features.shape"
      ]
    },
    {
      "cell_type": "code",
      "execution_count": null,
      "metadata": {
        "colab": {
          "base_uri": "https://localhost:8080/"
        },
        "id": "X0s2Ff8XXgic",
        "outputId": "834b038d-c48c-4740-9a04-4467f25818c0"
      },
      "outputs": [
        {
          "data": {
            "text/plain": [
              "4312"
            ]
          },
          "execution_count": 311,
          "metadata": {},
          "output_type": "execute_result"
        }
      ],
      "source": [
        "len(test_predict)"
      ]
    },
    {
      "cell_type": "code",
      "execution_count": null,
      "metadata": {
        "id": "Vldzp76aLc5T",
        "outputId": "92ca131e-bbe7-409d-acfe-22c8e3cbe615"
      },
      "outputs": [
        {
          "data": {
            "text/plain": [
              "array([0.37879866, 0.87414902, 0.38839743, ..., 0.44223645, 0.44522128,\n",
              "       0.52238069])"
            ]
          },
          "execution_count": 312,
          "metadata": {},
          "output_type": "execute_result"
        }
      ],
      "source": [
        "test_predict"
      ]
    },
    {
      "cell_type": "code",
      "execution_count": null,
      "metadata": {
        "id": "G9Frzv0BLc5T"
      },
      "outputs": [],
      "source": [
        "white_indices = np.where(test_features['race_W'] == 1)[0]\n",
        "black_indices = np.where(test_features['race_B'] == 1)[0]"
      ]
    },
    {
      "cell_type": "code",
      "execution_count": null,
      "metadata": {
        "scrolled": true,
        "id": "d2JByHDoLc5T",
        "outputId": "146a1c04-b53a-4541-9366-63d917d8c987"
      },
      "outputs": [
        {
          "name": "stdout",
          "output_type": "stream",
          "text": [
            "white race count 401\n",
            "black race count 2242\n"
          ]
        }
      ],
      "source": [
        "print('white race count', len(white_indices))\n",
        "print('black race count', len(black_indices))"
      ]
    },
    {
      "cell_type": "markdown",
      "metadata": {
        "id": "8h8R24DKpHKB"
      },
      "source": [
        "**With this Random Forest Regressor, we can interpret the prediction of the model as the probability that a weapon would be found given the features.  Make a histogram (`range` of 0 to 1 and 30 bins) of the predictions of this model using the subset of the testing data for which the subject's race was white and another histogram using the subset of the testing data for which the subject's race was black.**"
      ]
    },
    {
      "cell_type": "code",
      "execution_count": null,
      "metadata": {
        "colab": {
          "base_uri": "https://localhost:8080/",
          "height": 472
        },
        "id": "x-u0D_0qEY_l",
        "outputId": "c7f4759c-9257-4920-bbfa-283300c3b227"
      },
      "outputs": [
        {
          "data": {
            "image/png": "[encoded data removed]",
            "text/plain": [
              "<Figure size 640x480 with 1 Axes>"
            ]
          },
          "metadata": {},
          "output_type": "display_data"
        }
      ],
      "source": [
        "# subjects race is white\n",
        "\n",
        "white_predictions = np.array(test_predict[white_indices])\n",
        "\n",
        "plt.hist(white_predictions, bins=30, range=(0, 1))\n",
        "plt.title(\"Histogram of Predictions by Race 'White', trained including race features\")\n",
        "plt.xlabel('Probability of Weapon Found')\n",
        "plt.ylabel('Count')\n",
        "plt.show()"
      ]
    },
    {
      "cell_type": "code",
      "execution_count": null,
      "metadata": {
        "id": "2tgjyraBLc5T",
        "outputId": "33384b4f-982d-4992-c822-92d61c838009"
      },
      "outputs": [
        {
          "data": {
            "text/plain": [
              "0.6914738311571021"
            ]
          },
          "execution_count": 317,
          "metadata": {},
          "output_type": "execute_result"
        }
      ],
      "source": [
        "white_predictions.mean()"
      ]
    },
    {
      "cell_type": "markdown",
      "source": [
        "For the above white plot, the higher mean probability and greater number of values with probability greater than 0.5 suggest that the model using race as an input feature is more confident in predicting the presence of a weapon for white suspects. This could have potential implications for racial bias in law enforcement if the model is used in practice."
      ],
      "metadata": {
        "id": "G3PJRMrUMmad"
      }
    },
    {
      "cell_type": "code",
      "execution_count": null,
      "metadata": {
        "id": "I5TFLLomLc5U",
        "outputId": "af7c9ee3-e19a-438e-fe35-735686769fe9"
      },
      "outputs": [
        {
          "data": {
            "image/png": "[encoded data removed]",
            "text/plain": [
              "<Figure size 640x480 with 1 Axes>"
            ]
          },
          "metadata": {},
          "output_type": "display_data"
        }
      ],
      "source": [
        "# subjects race is black\n",
        "\n",
        "black_predictions = np.array(test_predict[black_indices])\n",
        "\n",
        "plt.hist(black_predictions, bins=30, range=(0, 1))\n",
        "plt.title(\"Histogram of Predictions by Race 'Black', trained including race features\")\n",
        "plt.xlabel('Probability of Weapon Found')\n",
        "plt.ylabel('Count')\n",
        "plt.show()"
      ]
    },
    {
      "cell_type": "code",
      "execution_count": null,
      "metadata": {
        "id": "n5InWRmJLc5U",
        "outputId": "9094fbe2-8b1c-4407-f7d2-2a5a8a84a6f6"
      },
      "outputs": [
        {
          "data": {
            "text/plain": [
              "0.46672803337942764"
            ]
          },
          "execution_count": 318,
          "metadata": {},
          "output_type": "execute_result"
        }
      ],
      "source": [
        "black_predictions.mean()"
      ]
    },
    {
      "cell_type": "markdown",
      "metadata": {
        "id": "6b0pma-ip5kU"
      },
      "source": [
        "For this plot, the lower mean probability and fewer values with probability greater than 0.5, compared to the above histogram with white people suggests that the model using race as an input feature is less confident in predicting the presence of a weapon for black suspects. This could also have potential implications for racial bias in law enforcement if the model is used in practice, as it could result in lower rates of identifying weapons on black suspects compared to white suspects."
      ]
    },
    {
      "cell_type": "code",
      "execution_count": null,
      "metadata": {
        "id": "ONsj1dLyLc5U",
        "outputId": "dfab8db9-a340-42e3-dd08-73d55f221719"
      },
      "outputs": [
        {
          "name": "stdout",
          "output_type": "stream",
          "text": [
            "Mean Absolute Error: 0.4730024509472705\n",
            "Mean Squared Error: 0.23969681582280927\n",
            "Root Mean Squared Error: 0.48958841471465525\n",
            "R2 Score: 0.04119210980291532\n"
          ]
        }
      ],
      "source": [
        "# Calculate mean absolute error\n",
        "mae = mean_absolute_error(test_target, test_predict)\n",
        "print(\"Mean Absolute Error:\", mae)\n",
        "\n",
        "# Calculate mean squared error\n",
        "mse = mean_squared_error(test_target, test_predict)\n",
        "print(\"Mean Squared Error:\", mse)\n",
        "\n",
        "# Calculate root mean squared error\n",
        "rmse = np.sqrt(mse)\n",
        "print(\"Root Mean Squared Error:\", rmse)\n",
        "\n",
        "# Calculate R2 score\n",
        "r2 = r2_score(test_target, test_predict)\n",
        "print(\"R2 Score:\", r2)"
      ]
    },
    {
      "cell_type": "markdown",
      "metadata": {
        "id": "he_13Kg9p8_A"
      },
      "source": [
        "**Repeating the above (fit a Random Forest Regressor and plot histograms of the predictions of the subsets of the test data for which the subject was white and black) but *removing the subject's race as a feature on which the model is fit*.**"
      ]
    },
    {
      "cell_type": "code",
      "execution_count": null,
      "metadata": {
        "id": "47MR6b6yGokF"
      },
      "outputs": [],
      "source": [
        "race_columns = ['race_A', 'race_B', 'race_I', 'race_P', 'race_Q', 'race_U', 'race_W', 'race_Z']\n",
        "\n",
        "train_features.drop(columns=race_columns, inplace=True)\n",
        "test_features.drop(columns=race_columns, inplace=True)"
      ]
    },
    {
      "cell_type": "code",
      "execution_count": null,
      "metadata": {
        "colab": {
          "base_uri": "https://localhost:8080/"
        },
        "id": "FAclb4-NHTQd",
        "outputId": "0c7669e1-9d29-4014-e7a0-3f05337b1405"
      },
      "outputs": [
        {
          "name": "stdout",
          "output_type": "stream",
          "text": [
            "train features ['perobs', 'inout', 'age', 'sex_F', 'sex_M', 'sex_Z']\n",
            "test features ['perobs', 'inout', 'age', 'sex_F', 'sex_M', 'sex_Z']\n"
          ]
        }
      ],
      "source": [
        "print('train features', list(train_features.columns))\n",
        "print('test features',  list(test_features.columns))"
      ]
    },
    {
      "cell_type": "code",
      "execution_count": null,
      "metadata": {
        "colab": {
          "base_uri": "https://localhost:8080/"
        },
        "id": "b_m763yIHPNF",
        "outputId": "57060378-600b-4e09-e66d-0c83c3b85e9d"
      },
      "outputs": [
        {
          "data": {
            "text/plain": [
              "GridSearchCV(cv=10, estimator=RandomForestRegressor(),\n",
              "             param_grid={'min_samples_leaf': [1, 2, 5, 8, 10, 20, 25, 30, 50,\n",
              "                                              80, 100, 150]})"
            ]
          },
          "execution_count": 322,
          "metadata": {},
          "output_type": "execute_result"
        }
      ],
      "source": [
        "from sklearn.model_selection import GridSearchCV\n",
        "\n",
        "param_grid = {\n",
        "    'min_samples_leaf': [1, 2, 5, 8, 10, 20, 25, 30, 50, 80, 100, 150],\n",
        "}\n",
        "\n",
        "rfr_tune = RandomForestRegressor()\n",
        "rfr_cv_tune = GridSearchCV(rfr_tune, param_grid, cv=10)\n",
        "rfr_cv_tune.fit(train_features, train_target)"
      ]
    },
    {
      "cell_type": "code",
      "execution_count": null,
      "metadata": {
        "colab": {
          "base_uri": "https://localhost:8080/"
        },
        "id": "j6kfmRd-PEe0",
        "outputId": "a58160bf-0058-442e-b6a1-e4cc826640f0"
      },
      "outputs": [
        {
          "data": {
            "text/plain": [
              "{'min_samples_leaf': 150}"
            ]
          },
          "execution_count": 323,
          "metadata": {},
          "output_type": "execute_result"
        }
      ],
      "source": [
        "rfr_cv_tune.best_params_"
      ]
    },
    {
      "cell_type": "code",
      "execution_count": null,
      "metadata": {
        "id": "DhtC3YcGHRjL"
      },
      "outputs": [],
      "source": [
        "rfr = RandomForestRegressor(min_samples_leaf=rfr_cv_tune.best_params_['min_samples_leaf'])\n",
        "rfr.fit(train_features, train_target)\n",
        "\n",
        "test_predict = rfr.predict(test_features)"
      ]
    },
    {
      "cell_type": "code",
      "execution_count": null,
      "metadata": {
        "colab": {
          "base_uri": "https://localhost:8080/",
          "height": 430
        },
        "id": "repI7QXIHRfe",
        "outputId": "6af99514-44fe-49d7-8efd-e1e123645ef3"
      },
      "outputs": [
        {
          "data": {
            "image/png": "[encoded data removed]",
            "text/plain": [
              "<Figure size 640x480 with 1 Axes>"
            ]
          },
          "metadata": {},
          "output_type": "display_data"
        }
      ],
      "source": [
        "import matplotlib.pyplot as plt\n",
        "\n",
        "white_predictions = test_predict[white_indices]\n",
        "\n",
        "plt.hist(white_predictions, bins=30, range=(0, 1))\n",
        "plt.title(\"Histogram of Predictions by Race 'White', trained after excluding race columns\")\n",
        "plt.xlabel('Probability of Weapon Found')\n",
        "plt.ylabel('Count')\n",
        "plt.show()"
      ]
    },
    {
      "cell_type": "code",
      "execution_count": null,
      "metadata": {
        "id": "01l9sBifLc5V",
        "outputId": "e45f05da-e0c0-4b37-8e7e-088dd859c214"
      },
      "outputs": [
        {
          "data": {
            "text/plain": [
              "0.5238305668965983"
            ]
          },
          "execution_count": 331,
          "metadata": {},
          "output_type": "execute_result"
        }
      ],
      "source": [
        "white_predictions.mean()"
      ]
    },
    {
      "cell_type": "markdown",
      "source": [
        "for this plot, which are predicted from the model trained after removing the race as an input feature, we can observe that the number of probability values which are higher than 0.5 are less and all of the values are concentrated around the mean probability of 0.52. We can infer from the above plot that there is an uncertainity to predict more number of probability values greater than 0.5, for the white race people."
      ],
      "metadata": {
        "id": "kMsoS4rQLsat"
      }
    },
    {
      "cell_type": "code",
      "execution_count": null,
      "metadata": {
        "id": "9SF8eLO2Lc5V",
        "outputId": "a6bfd84c-713b-4eb7-e3dd-17408126f2e0"
      },
      "outputs": [
        {
          "data": {
            "image/png": "[encoded data removed]",
            "text/plain": [
              "<Figure size 640x480 with 1 Axes>"
            ]
          },
          "metadata": {},
          "output_type": "display_data"
        }
      ],
      "source": [
        "import matplotlib.pyplot as plt\n",
        "\n",
        "black_predictions = test_predict[black_indices]\n",
        "\n",
        "plt.hist(black_predictions, bins=30, range=(0, 1))\n",
        "plt.title(\"Histogram of Predictions by Race 'Black',trained after excluding race columns\")\n",
        "plt.xlabel('Probability of Weapon Found')\n",
        "plt.ylabel('Count')\n",
        "plt.show()"
      ]
    },
    {
      "cell_type": "code",
      "execution_count": null,
      "metadata": {
        "id": "25e7dLbKLc5W",
        "outputId": "aaffcaaf-1ed8-4957-fef9-a1b132fae979"
      },
      "outputs": [
        {
          "data": {
            "text/plain": [
              "0.49650497304662067"
            ]
          },
          "execution_count": 332,
          "metadata": {},
          "output_type": "execute_result"
        }
      ],
      "source": [
        "black_predictions.mean()"
      ]
    },
    {
      "cell_type": "code",
      "execution_count": null,
      "metadata": {
        "id": "kmq2IcCULc5W",
        "outputId": "986c7b66-5bd3-4d8e-a9c8-13d884f005cb"
      },
      "outputs": [
        {
          "data": {
            "text/plain": [
              "0.3444773405814503"
            ]
          },
          "execution_count": 335,
          "metadata": {},
          "output_type": "execute_result"
        }
      ],
      "source": [
        "black_predictions.min()"
      ]
    },
    {
      "cell_type": "code",
      "execution_count": null,
      "metadata": {
        "id": "rrAI6WjBLc5W",
        "outputId": "29377340-7bf3-4085-cf18-71165ad2352e"
      },
      "outputs": [
        {
          "data": {
            "text/plain": [
              "0.7524273990013222"
            ]
          },
          "execution_count": 334,
          "metadata": {},
          "output_type": "execute_result"
        }
      ],
      "source": [
        "black_predictions.max()"
      ]
    },
    {
      "cell_type": "markdown",
      "source": [
        "we can observe for the black people, the model trained without race features has more probability values centered around the mean of 0.4965 with minimum of 0.344 and a maximum of 0.752, which means if we remove the race as the input feature, the model is not sure to predict if a person posses a weapon or not based on the given columns"
      ],
      "metadata": {
        "id": "gbNsmMeJLjz1"
      }
    },
    {
      "cell_type": "markdown",
      "metadata": {
        "id": "DHrIcxWarBxj"
      },
      "source": [
        "For the histograms that include race as an input feature, we can see that the model is more confident in predicting the presence of a weapon for white suspects, as the mean probability and the number of values with probability greater than 0.5 are higher for the white race. On the other hand, for black suspects, the model is less confident in predicting the presence of a weapon, as the mean probability and the number of values with probability greater than 0.5 are lower.\n",
        "\n",
        "However, after removing the race as an input feature, we can observe that the number of probability values greater than 0.5 is less for white suspects, which suggests that there is uncertainty in predicting more values with high probability. For black suspects, the model is not sure in predicting the presence of a weapon, also removing race as a feature from the model did not have a significant impact on the distribution of predicted probabilities for black suspects.\n",
        "\n",
        "For white suspects, the model predicted a mean probability of 0.7 before removing the race columns and 0.52, with fewer values greater than 0.5 after removing the race columns. For black suspects, the model predicted a mean probability of 0.4965 with a wider range of values, suggesting that the model is not sure if a person has a weapon or not based on the given columns.\n",
        "\n",
        " Overall, removing the race feature resulted in less confidence in the model's ability to predict the presence of a weapon for both white and black suspects."
      ]
    },
    {
      "cell_type": "markdown",
      "source": [
        "Based on the histograms and the probability cutoff of 0.5, we can observe that the model using race as an input feature tends to have a higher mean probability and a greater number of values with probability greater than 0.5 for white suspects, suggesting that the model is more confident in predicting the presence of a weapon for them. However, for black suspects, the model using race as an input feature has a lower mean probability and fewer values with probability greater than 0.5, indicating that the model is less confident in predicting the presence of a weapon for them.\n",
        "\n",
        "On the other hand, when the race column is removed as an input feature, the model seems to be less accurate overall, as indicated by the higher mean absolute error, higher mean squared error, higher root mean squared error, and lower R2 score. However, it seems to produce more balanced and consistent predictions across all races, as indicated by the more similar shapes and ranges of the histograms for white and black suspects.\n",
        "\n",
        "After observing all the four histograms, we can say that race may be also a good feature to consider as there are changes in the histograms before and after removing the race feature from the training dataset. But the model trained on race column as feature is predicting some information saying the white suspects possess weapons than the black suspects. Whereas, after removing the race feature, there are approx, equal number of probabilities below and above 0.5. making difficult to interpret."
      ],
      "metadata": {
        "id": "q3o7KgGkOGFM"
      }
    },
    {
      "cell_type": "code",
      "execution_count": null,
      "metadata": {
        "colab": {
          "base_uri": "https://localhost:8080/"
        },
        "id": "r6cQBLhna1an",
        "outputId": "e4b3d3ca-692a-4293-ecf8-2cabc8832b01"
      },
      "outputs": [
        {
          "name": "stdout",
          "output_type": "stream",
          "text": [
            "Mean Absolute Error: 0.48236324414852544\n",
            "Mean Squared Error: 0.24209536119263203\n",
            "Root Mean Squared Error: 0.4920318700985049\n",
            "R2 Score: 0.03159772191884025\n"
          ]
        }
      ],
      "source": [
        "from sklearn.metrics import mean_absolute_error, mean_squared_error, r2_score\n",
        "import numpy as np\n",
        "\n",
        "# Calculate mean absolute error\n",
        "mae = mean_absolute_error(test_target, test_predict)\n",
        "print(\"Mean Absolute Error:\", mae)\n",
        "\n",
        "# Calculate mean squared error\n",
        "mse = mean_squared_error(test_target, test_predict)\n",
        "print(\"Mean Squared Error:\", mse)\n",
        "\n",
        "# Calculate root mean squared error\n",
        "rmse = np.sqrt(mse)\n",
        "print(\"Root Mean Squared Error:\", rmse)\n",
        "\n",
        "# Calculate R2 score\n",
        "r2 = r2_score(test_target, test_predict)\n",
        "print(\"R2 Score:\", r2)"
      ]
    },
    {
      "cell_type": "markdown",
      "metadata": {
        "id": "DoigVcCUI2xc"
      },
      "source": [
        "From these metrics, we can see that there is not much difference between the model's performance before and after removing the race columns. The model's performance has only slightly degraded after removing the race columns, as indicated by the slightly higher values of Mean Absolute Error, Mean Squared Error, Root Mean Squared Error, and slightly lower R2 Score.\n",
        "\n",
        "This suggests that the race feature might not have a significant impact on the model's performance in predicting the outcome variable."
      ]
    }
  ],
  "metadata": {
    "colab": {
      "provenance": []
    },
    "kernelspec": {
      "display_name": "Python 3 (ipykernel)",
      "language": "python",
      "name": "python3"
    },
    "language_info": {
      "codemirror_mode": {
        "name": "ipython",
        "version": 3
      },
      "file_extension": ".py",
      "mimetype": "text/x-python",
      "name": "python",
      "nbconvert_exporter": "python",
      "pygments_lexer": "ipython3",
      "version": "3.8.2"
    }
  },
  "nbformat": 4,
  "nbformat_minor": 0
}