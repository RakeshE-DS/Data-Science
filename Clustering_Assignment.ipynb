{
  "nbformat": 4,
  "nbformat_minor": 0,
  "metadata": {
    "kernelspec": {
      "display_name": "Python 3",
      "language": "python",
      "name": "python3"
    },
    "language_info": {
      "codemirror_mode": {
        "name": "ipython",
        "version": 3
      },
      "file_extension": ".py",
      "mimetype": "text/x-python",
      "name": "python",
      "nbconvert_exporter": "python",
      "pygments_lexer": "ipython3",
      "version": "3.6.8"
    },
    "colab": {
      "provenance": []
    }
  },
  "cells": [
    {
      "cell_type": "code",
      "metadata": {
        "id": "F80ttrvIF4YF"
      },
      "source": [
        "import networkx as nx\n",
        "from networkx.algorithms import bipartite\n",
        "import matplotlib.pyplot as plt\n",
        "from sklearn.cluster import KMeans\n",
        "import numpy as np\n",
        "import warnings\n",
        "warnings.filterwarnings(\"ignore\")\n",
        "import pandas as pd\n",
        "# you need to have tensorflow\n",
        "from stellargraph.data import UniformRandomMetaPathWalk\n",
        "from stellargraph import StellarGraph\n",
        "\n"
      ],
      "execution_count": null,
      "outputs": []
    },
    {
      "cell_type": "code",
      "metadata": {
        "id": "he0SOYyAVDgW"
      },
      "source": [
        "pip install stellargraph"
      ],
      "execution_count": null,
      "outputs": []
    },
    {
      "cell_type": "code",
      "metadata": {
        "id": "J1TnQz0l0YX0"
      },
      "source": [
        "!pip install networkx==1.11"
      ],
      "execution_count": null,
      "outputs": []
    },
    {
      "cell_type": "code",
      "metadata": {
        "id": "Y3WEeMEr0cvD",
        "outputId": "1d64b0ce-b529-42c1-e61d-709b712a4564",
        "colab": {
          "base_uri": "https://localhost:8080/",
          "height": 35
        }
      },
      "source": [
        "import networkx\n",
        "networkx.__version__"
      ],
      "execution_count": null,
      "outputs": [
        {
          "output_type": "execute_result",
          "data": {
            "text/plain": [
              "'1.11'"
            ]
          },
          "metadata": {
            "tags": []
          },
          "execution_count": 1
        }
      ]
    },
    {
      "cell_type": "markdown",
      "metadata": {
        "id": "2iKjPzMEF4YY"
      },
      "source": [
        "1. Read Graph from the given movie_actor_network.csv note that the graph is bipartite graph\n",
        "2. using stellergaph and gensim packages, get the dense representation(128dimensional vector) of every node in the graph\n",
        "3. Apply Clustering Algorithm to group similar actors\n",
        "\n",
        "\ta. For this task consider only the actor nodes <br>\n",
        "\tb. Apply any clustering algorithm of your choice <br>\n",
        "\tc. Choose the number of clusters for which you have maximum score of <b>$Cost1*F(Cost2)*Cost3$</b> where $F(x) = x*(1-x)$<br>\n",
        "\n",
        "    Cost1 = $\\frac{1}{N}\\sum_{\\text{each cluster i}}  \\frac{\\text{(number of nodes in the largest connected component in the graph with the actor nodes and its movie neighbours in cluster i)}}{\\text{(total number of nodes in that cluster i)}}$ where N= number of clusters <br><br>\n",
        "\tCost2 = $\\frac{\\text{max(number of actor nodes in cluster)}}{\\text{total_number_of_actor_nodes}}$ <br><br>\n",
        "    \n",
        "\tCost3 = $\\frac{1}{N}\\sum_{\\text{each cluster i}}  \\frac{\\text{(sum of degress of actor nodes in the graph with the actor nodes and its movie neighbours in cluster i)}}{\\text{(number of unique movie nodes in the graph with the actor nodes and its movie neighbours in cluster i)}}$ where N= number of clusters\n",
        "    \n",
        "\t<pre>\n",
        "\tfor number_of_clusters in [3, 5, 10, 30, 50, 100, 200, 500]:\n",
        "\t\talgo = clustering_algorith(clusters=number_of_clusters)\n",
        "        # you will be passing a matrix of size N*d where N number of actor nodes and d is dimension from gensim\n",
        "\t\talgo.fit(the dense vectors of actor nodes)\n",
        "\t\tcomputer the metric Cost = Cost1*F(Cost2)*Cost3\n",
        "\treturn number_of_clusters which have maximum Cost\n",
        "\t</pre>\n",
        "\n",
        "\td. Fit the clustering algorithm with the opimal number_of_clusters and get the cluster number for each node<br>\n",
        "\te. Convert the d-dimensional dense vectors of nodes into 2-dimensional using dimensionality reduction techniques (preferably TSNE)<br>\n",
        "\tf. Plot the 2d scatter plot, with the node vectors after step e and give colors to nodes such that same cluster nodes will have same color\n",
        "\n",
        "\n",
        "4. Apply Clustering Algorithm to group similar movies\n",
        "\n",
        "\ta. for this task consider only the movie nodes\n",
        "  \n",
        "\tb. apply any clustering algorithm of your choice\n",
        "  \n",
        "\tc. choose the number of clusters for which you have maximum score of $Cost1*F(Cost2)*Cost3$ <br>\n",
        "\n",
        "    Cost1 = $\\frac{1}{N}\\sum_{\\text{each cluster i}}  \\frac{\\text{(number of nodes in the largest connected component in the graph with the movie nodes and its actor neighbours in cluster i)}}{\\text{(total number of nodes in that cluster i)}}$ where N= number of clusters <br><br>\n",
        "\tCost2 = $\\frac{\\text{max(number of movie nodes in cluster)}}{\\text{total_number_of_movie_nodes}}$ <br><br>\n",
        "\tCost3 = $\\frac{1}{N}\\sum_{\\text{each cluster i}}  \\frac{\\text{(sum of degress of movie nodes in the graph with the movie nodes and its actor neighbours in cluster i)}}{\\text{(number of unique actor nodes in the graph with the movie nodes and its actor neighbours in cluster i)}}$ where N= number of clusters\n",
        "\n",
        "\t<pre>\n",
        "\tfor number_of_clusters in [3, 5, 10, 30, 50, 100, 200, 500]:\n",
        "\t\talgo = clustering_algorith(clusters=number_of_clusters)\n",
        "        # you will be passing a matrix of size N*d where N number of actor nodes and d is dimension from gensim\n",
        "\t\talgo.fit(the dense vectors of actor nodes)\n",
        "\t\tcomputer the metric Cost = Cost1*(Cost2)*(1-Cost2)*Cost3\n",
        "\treturn number_of_clusters which have maximum Cost\n",
        "\t</pre>\n",
        "\n",
        "\td. Fit the clustering algorithm with the opimal number_of_clusters and get the cluster number for each node <br>\n",
        "\te. Convert the d-dimensional dense vectors of nodes into 2-dimensional using dimensionality reduction techniques (preferably TSNE)<br>\n",
        "\tf. Plot the 2d scatter plot, with the node vectors after step e and give colors to nodes such that same cluster nodes will have same color\n",
        "\n"
      ]
    },
    {
      "cell_type": "code",
      "metadata": {
        "id": "kzaHjbeUqONI"
      },
      "source": [
        "from google.colab import files\n",
        "uploaded=files.upload()\n"
      ],
      "execution_count": null,
      "outputs": []
    },
    {
      "cell_type": "code",
      "metadata": {
        "id": "HOnRVRMhV9MT"
      },
      "source": [
        "data=pd.read_csv('movie_actor_network.csv', index_col=False, names=['movie','actor'])"
      ],
      "execution_count": null,
      "outputs": []
    },
    {
      "cell_type": "code",
      "metadata": {
        "id": "IfMD4qK2WoBA"
      },
      "source": [
        "edges = [tuple(x) for x in data.values.tolist()]"
      ],
      "execution_count": null,
      "outputs": []
    },
    {
      "cell_type": "code",
      "metadata": {
        "id": "vGX0d_uTWqd2"
      },
      "source": [
        "B = nx.Graph()\n",
        "B.add_nodes_from(data['movie'].unique(), bipartite=0, label='movie')\n",
        "B.add_nodes_from(data['actor'].unique(), bipartite=1, label='actor')\n",
        "B.add_edges_from(edges, label='acted')"
      ],
      "execution_count": null,
      "outputs": []
    },
    {
      "cell_type": "code",
      "metadata": {
        "id": "ma46pCXuWs8d"
      },
      "source": [
        "A = list(nx.connected_component_subgraphs(B))[0]"
      ],
      "execution_count": null,
      "outputs": []
    },
    {
      "cell_type": "code",
      "metadata": {
        "id": "xIhfw6eTsmEV",
        "outputId": "b933c314-c8a7-4adb-e447-1c0c214f33c8",
        "colab": {
          "base_uri": "https://localhost:8080/",
          "height": 51
        }
      },
      "source": [
        "print(\"number of nodes\", A.number_of_nodes())\n",
        "print(\"number of edges\", A.number_of_edges())"
      ],
      "execution_count": null,
      "outputs": [
        {
          "output_type": "stream",
          "text": [
            "number of nodes 4703\n",
            "number of edges 9650\n"
          ],
          "name": "stdout"
        }
      ]
    },
    {
      "cell_type": "code",
      "metadata": {
        "id": "f98NCCktsegx"
      },
      "source": [
        "l, r = nx.bipartite.sets(A)\n",
        "pos = {}\n",
        "\n",
        "pos.update((node, (1, index)) for index, node in enumerate(l))\n",
        "pos.update((node, (2, index)) for index, node in enumerate(r))\n",
        "\n",
        "nx.draw(A, pos=pos, with_labels=True)\n",
        "plt.show()"
      ],
      "execution_count": null,
      "outputs": []
    },
    {
      "cell_type": "code",
      "metadata": {
        "id": "0EZivKjusrWV",
        "outputId": "4ef8a862-ea94-4087-cd10-262a0b3cbffc",
        "colab": {
          "base_uri": "https://localhost:8080/",
          "height": 51
        }
      },
      "source": [
        "movies = []\n",
        "actors = []\n",
        "for i in A.nodes():\n",
        "    if 'm' in i:\n",
        "        movies.append(i)\n",
        "    if 'a' in i:\n",
        "        actors.append(i)\n",
        "print('number of movies ', len(movies))\n",
        "print('number of actors ', len(actors))"
      ],
      "execution_count": null,
      "outputs": [
        {
          "output_type": "stream",
          "text": [
            "number of movies  1292\n",
            "number of actors  3411\n"
          ],
          "name": "stdout"
        }
      ]
    },
    {
      "cell_type": "code",
      "metadata": {
        "id": "TRtOp6uGXNt1",
        "outputId": "3af0a6b5-1367-445e-b7e8-95d1a960085a",
        "colab": {
          "base_uri": "https://localhost:8080/",
          "height": 486
        }
      },
      "source": [
        "\n",
        "# Create the random walker\n",
        "rw = UniformRandomMetaPathWalk(StellarGraph(A))\n",
        "\n",
        "# specify the metapath schemas as a list of lists of node types.\n",
        "metapaths = [\n",
        "    [\"movie\", \"actor\", \"movie\"],\n",
        "    [\"actor\", \"movie\", \"actor\"]\n",
        "]\n",
        "\n",
        "walks = rw.run(nodes=list(A.nodes()), # root nodes\n",
        "               length=100,  # maximum length of a random walk\n",
        "               n=1,        # number of random walks per root node\n",
        "               metapaths=metapaths\n",
        "              )\n",
        "\n",
        "print(\"Number of random walks: {}\".format(len(walks)))"
      ],
      "execution_count": null,
      "outputs": [
        {
          "output_type": "error",
          "ename": "TypeError",
          "evalue": "ignored",
          "traceback": [
            "\u001b[0;31m---------------------------------------------------------------------------\u001b[0m",
            "\u001b[0;31mTypeError\u001b[0m                                 Traceback (most recent call last)",
            "\u001b[0;32m<ipython-input-10-8da7cdf666b3>\u001b[0m in \u001b[0;36m<module>\u001b[0;34m()\u001b[0m\n\u001b[0;32m----> 1\u001b[0;31m \u001b[0mrw\u001b[0m \u001b[0;34m=\u001b[0m \u001b[0mUniformRandomMetaPathWalk\u001b[0m\u001b[0;34m(\u001b[0m\u001b[0mStellarGraph\u001b[0m\u001b[0;34m(\u001b[0m\u001b[0mA\u001b[0m\u001b[0;34m)\u001b[0m\u001b[0;34m)\u001b[0m\u001b[0;34m\u001b[0m\u001b[0;34m\u001b[0m\u001b[0m\n\u001b[0m\u001b[1;32m      2\u001b[0m \u001b[0;34m\u001b[0m\u001b[0m\n\u001b[1;32m      3\u001b[0m \u001b[0;31m# specify the metapath schemas as a list of lists of node types.\u001b[0m\u001b[0;34m\u001b[0m\u001b[0;34m\u001b[0m\u001b[0;34m\u001b[0m\u001b[0m\n\u001b[1;32m      4\u001b[0m metapaths = [\n\u001b[1;32m      5\u001b[0m     \u001b[0;34m[\u001b[0m\u001b[0;34m\"movie\"\u001b[0m\u001b[0;34m,\u001b[0m \u001b[0;34m\"actor\"\u001b[0m\u001b[0;34m,\u001b[0m \u001b[0;34m\"movie\"\u001b[0m\u001b[0;34m]\u001b[0m\u001b[0;34m,\u001b[0m\u001b[0;34m\u001b[0m\u001b[0;34m\u001b[0m\u001b[0m\n",
            "\u001b[0;32m/usr/local/lib/python3.6/dist-packages/stellargraph/data/explorer.py\u001b[0m in \u001b[0;36m__init__\u001b[0;34m(self, graph, graph_schema, seed)\u001b[0m\n\u001b[1;32m     55\u001b[0m \u001b[0;34m\u001b[0m\u001b[0m\n\u001b[1;32m     56\u001b[0m         \u001b[0;32mif\u001b[0m \u001b[0;32mnot\u001b[0m \u001b[0mgraph_schema\u001b[0m\u001b[0;34m:\u001b[0m\u001b[0;34m\u001b[0m\u001b[0;34m\u001b[0m\u001b[0m\n\u001b[0;32m---> 57\u001b[0;31m             \u001b[0mself\u001b[0m\u001b[0;34m.\u001b[0m\u001b[0mgraph_schema\u001b[0m \u001b[0;34m=\u001b[0m \u001b[0mself\u001b[0m\u001b[0;34m.\u001b[0m\u001b[0mgraph\u001b[0m\u001b[0;34m.\u001b[0m\u001b[0mcreate_graph_schema\u001b[0m\u001b[0;34m(\u001b[0m\u001b[0;34m)\u001b[0m\u001b[0;34m\u001b[0m\u001b[0;34m\u001b[0m\u001b[0m\n\u001b[0m\u001b[1;32m     58\u001b[0m         \u001b[0;32melse\u001b[0m\u001b[0;34m:\u001b[0m\u001b[0;34m\u001b[0m\u001b[0;34m\u001b[0m\u001b[0m\n\u001b[1;32m     59\u001b[0m             \u001b[0mself\u001b[0m\u001b[0;34m.\u001b[0m\u001b[0mgraph_schema\u001b[0m \u001b[0;34m=\u001b[0m \u001b[0mgraph_schema\u001b[0m\u001b[0;34m\u001b[0m\u001b[0;34m\u001b[0m\u001b[0m\n",
            "\u001b[0;32m/usr/local/lib/python3.6/dist-packages/stellargraph/core/graph.py\u001b[0m in \u001b[0;36mcreate_graph_schema\u001b[0;34m(self, create_type_maps, nodes)\u001b[0m\n\u001b[1;32m    730\u001b[0m \u001b[0;34m\u001b[0m\u001b[0m\n\u001b[1;32m    731\u001b[0m         \u001b[0;32mif\u001b[0m \u001b[0mself\u001b[0m\u001b[0;34m.\u001b[0m\u001b[0m_graph\u001b[0m \u001b[0;32mis\u001b[0m \u001b[0;32mnot\u001b[0m \u001b[0;32mNone\u001b[0m\u001b[0;34m:\u001b[0m\u001b[0;34m\u001b[0m\u001b[0;34m\u001b[0m\u001b[0m\n\u001b[0;32m--> 732\u001b[0;31m             \u001b[0;32mreturn\u001b[0m \u001b[0mself\u001b[0m\u001b[0;34m.\u001b[0m\u001b[0m_graph\u001b[0m\u001b[0;34m.\u001b[0m\u001b[0mcreate_graph_schema\u001b[0m\u001b[0;34m(\u001b[0m\u001b[0mnodes\u001b[0m\u001b[0;34m)\u001b[0m\u001b[0;34m\u001b[0m\u001b[0;34m\u001b[0m\u001b[0m\n\u001b[0m\u001b[1;32m    733\u001b[0m \u001b[0;34m\u001b[0m\u001b[0m\n\u001b[1;32m    734\u001b[0m         \u001b[0mgraph_schema\u001b[0m \u001b[0;34m=\u001b[0m \u001b[0;34m{\u001b[0m\u001b[0mnt\u001b[0m\u001b[0;34m:\u001b[0m \u001b[0mset\u001b[0m\u001b[0;34m(\u001b[0m\u001b[0;34m)\u001b[0m \u001b[0;32mfor\u001b[0m \u001b[0mnt\u001b[0m \u001b[0;32min\u001b[0m \u001b[0mself\u001b[0m\u001b[0;34m.\u001b[0m\u001b[0mnode_types\u001b[0m\u001b[0;34m}\u001b[0m\u001b[0;34m\u001b[0m\u001b[0;34m\u001b[0m\u001b[0m\n",
            "\u001b[0;32m/usr/local/lib/python3.6/dist-packages/stellargraph/core/graph_networkx.py\u001b[0m in \u001b[0;36mcreate_graph_schema\u001b[0;34m(self, nodes)\u001b[0m\n\u001b[1;32m    659\u001b[0m \u001b[0;34m\u001b[0m\u001b[0m\n\u001b[1;32m    660\u001b[0m         \u001b[0;31m# Create node type index list\u001b[0m\u001b[0;34m\u001b[0m\u001b[0;34m\u001b[0m\u001b[0;34m\u001b[0m\u001b[0m\n\u001b[0;32m--> 661\u001b[0;31m         \u001b[0mnode_types\u001b[0m \u001b[0;34m=\u001b[0m \u001b[0msorted\u001b[0m\u001b[0;34m(\u001b[0m\u001b[0;34m{\u001b[0m\u001b[0mself\u001b[0m\u001b[0;34m.\u001b[0m\u001b[0mnode_type\u001b[0m\u001b[0;34m(\u001b[0m\u001b[0mn\u001b[0m\u001b[0;34m)\u001b[0m \u001b[0;32mfor\u001b[0m \u001b[0mn\u001b[0m \u001b[0;32min\u001b[0m \u001b[0mnodes\u001b[0m\u001b[0;34m}\u001b[0m\u001b[0;34m,\u001b[0m \u001b[0mkey\u001b[0m\u001b[0;34m=\u001b[0m\u001b[0mstr\u001b[0m\u001b[0;34m)\u001b[0m\u001b[0;34m\u001b[0m\u001b[0;34m\u001b[0m\u001b[0m\n\u001b[0m\u001b[1;32m    662\u001b[0m \u001b[0;34m\u001b[0m\u001b[0m\n\u001b[1;32m    663\u001b[0m         \u001b[0mgraph_schema\u001b[0m \u001b[0;34m=\u001b[0m \u001b[0;34m{\u001b[0m\u001b[0mnt\u001b[0m\u001b[0;34m:\u001b[0m \u001b[0mset\u001b[0m\u001b[0;34m(\u001b[0m\u001b[0;34m)\u001b[0m \u001b[0;32mfor\u001b[0m \u001b[0mnt\u001b[0m \u001b[0;32min\u001b[0m \u001b[0mnode_types\u001b[0m\u001b[0;34m}\u001b[0m\u001b[0;34m\u001b[0m\u001b[0;34m\u001b[0m\u001b[0m\n",
            "\u001b[0;32m/usr/local/lib/python3.6/dist-packages/stellargraph/core/graph_networkx.py\u001b[0m in \u001b[0;36m<setcomp>\u001b[0;34m(.0)\u001b[0m\n\u001b[1;32m    659\u001b[0m \u001b[0;34m\u001b[0m\u001b[0m\n\u001b[1;32m    660\u001b[0m         \u001b[0;31m# Create node type index list\u001b[0m\u001b[0;34m\u001b[0m\u001b[0;34m\u001b[0m\u001b[0;34m\u001b[0m\u001b[0m\n\u001b[0;32m--> 661\u001b[0;31m         \u001b[0mnode_types\u001b[0m \u001b[0;34m=\u001b[0m \u001b[0msorted\u001b[0m\u001b[0;34m(\u001b[0m\u001b[0;34m{\u001b[0m\u001b[0mself\u001b[0m\u001b[0;34m.\u001b[0m\u001b[0mnode_type\u001b[0m\u001b[0;34m(\u001b[0m\u001b[0mn\u001b[0m\u001b[0;34m)\u001b[0m \u001b[0;32mfor\u001b[0m \u001b[0mn\u001b[0m \u001b[0;32min\u001b[0m \u001b[0mnodes\u001b[0m\u001b[0;34m}\u001b[0m\u001b[0;34m,\u001b[0m \u001b[0mkey\u001b[0m\u001b[0;34m=\u001b[0m\u001b[0mstr\u001b[0m\u001b[0;34m)\u001b[0m\u001b[0;34m\u001b[0m\u001b[0;34m\u001b[0m\u001b[0m\n\u001b[0m\u001b[1;32m    662\u001b[0m \u001b[0;34m\u001b[0m\u001b[0m\n\u001b[1;32m    663\u001b[0m         \u001b[0mgraph_schema\u001b[0m \u001b[0;34m=\u001b[0m \u001b[0;34m{\u001b[0m\u001b[0mnt\u001b[0m\u001b[0;34m:\u001b[0m \u001b[0mset\u001b[0m\u001b[0;34m(\u001b[0m\u001b[0;34m)\u001b[0m \u001b[0;32mfor\u001b[0m \u001b[0mnt\u001b[0m \u001b[0;32min\u001b[0m \u001b[0mnode_types\u001b[0m\u001b[0;34m}\u001b[0m\u001b[0;34m\u001b[0m\u001b[0;34m\u001b[0m\u001b[0m\n",
            "\u001b[0;32m/usr/local/lib/python3.6/dist-packages/stellargraph/core/graph_networkx.py\u001b[0m in \u001b[0;36mnode_type\u001b[0;34m(self, node)\u001b[0m\n\u001b[1;32m    523\u001b[0m             \u001b[0mNode\u001b[0m \u001b[0mtype\u001b[0m\u001b[0;34m\u001b[0m\u001b[0;34m\u001b[0m\u001b[0m\n\u001b[1;32m    524\u001b[0m         \"\"\"\n\u001b[0;32m--> 525\u001b[0;31m         \u001b[0;32mreturn\u001b[0m \u001b[0mself\u001b[0m\u001b[0;34m.\u001b[0m\u001b[0m_get_node_type\u001b[0m\u001b[0;34m(\u001b[0m\u001b[0mself\u001b[0m\u001b[0;34m.\u001b[0m\u001b[0m_graph\u001b[0m\u001b[0;34m.\u001b[0m\u001b[0mnodes\u001b[0m\u001b[0;34m[\u001b[0m\u001b[0mnode\u001b[0m\u001b[0;34m]\u001b[0m\u001b[0;34m)\u001b[0m\u001b[0;34m\u001b[0m\u001b[0;34m\u001b[0m\u001b[0m\n\u001b[0m\u001b[1;32m    526\u001b[0m \u001b[0;34m\u001b[0m\u001b[0m\n\u001b[1;32m    527\u001b[0m     \u001b[0;34m@\u001b[0m\u001b[0mproperty\u001b[0m\u001b[0;34m\u001b[0m\u001b[0;34m\u001b[0m\u001b[0m\n",
            "\u001b[0;31mTypeError\u001b[0m: 'method' object is not subscriptable"
          ]
        }
      ]
    },
    {
      "cell_type": "code",
      "metadata": {
        "id": "rQhdXMchXSnr"
      },
      "source": [
        "from gensim.models import Word2Vec\n",
        "model = Word2Vec(walks, size=128, window=5)"
      ],
      "execution_count": null,
      "outputs": []
    },
    {
      "cell_type": "code",
      "metadata": {
        "id": "G_1UyAxwXWgZ",
        "outputId": "37a7c4d3-1f29-4a9d-f9a4-4e45fdeb14cf",
        "colab": {
          "base_uri": "https://localhost:8080/",
          "height": 34
        }
      },
      "source": [
        "model.wv.vectors.shape  # 128-dimensional vector for each node in the graph"
      ],
      "execution_count": null,
      "outputs": [
        {
          "output_type": "execute_result",
          "data": {
            "text/plain": [
              "(4703, 128)"
            ]
          },
          "metadata": {
            "tags": []
          },
          "execution_count": 11
        }
      ]
    },
    {
      "cell_type": "code",
      "metadata": {
        "id": "TkxtGw1i1Qpc"
      },
      "source": [
        "# Retrieve node embeddings and corresponding subjects\n",
        "node_ids = model.wv.index2word  # list of node IDs\n",
        "node_embeddings = model.wv.vectors\n",
        "print(node_embeddings)# numpy.ndarray of size number of nodes times embeddings dimensionality\n",
        "node_targets = [ A.node[node_id]['label'] for node_id in node_ids]"
      ],
      "execution_count": null,
      "outputs": []
    },
    {
      "cell_type": "code",
      "metadata": {
        "id": "4iMOlNmML-4z"
      },
      "source": [],
      "execution_count": null,
      "outputs": []
    },
    {
      "cell_type": "code",
      "metadata": {
        "id": "jBt7i3_KN4sI",
        "outputId": "4b2aa8db-d1b3-4f8f-9596-f5acda8e3181",
        "colab": {
          "base_uri": "https://localhost:8080/",
          "height": 34
        }
      },
      "source": [
        "print(X12.shape)"
      ],
      "execution_count": null,
      "outputs": [
        {
          "output_type": "stream",
          "text": [
            "(3411, 128)\n"
          ],
          "name": "stdout"
        }
      ]
    },
    {
      "cell_type": "code",
      "metadata": {
        "id": "3ItJ1svHAEqB",
        "outputId": "30c177cc-cab7-46fe-fc3d-12498c77b578",
        "colab": {
          "base_uri": "https://localhost:8080/",
          "height": 34
        }
      },
      "source": [
        "X12 = np.empty(shape=(3411,128),dtype='object')\n",
        "A=[]\n",
        "for i in range(4703):\n",
        "  if(node_targets[i]=='actor'):\n",
        "    A.append(i)\n",
        "for j in range(len(A)):\n",
        "  a=A[j]\n",
        "  X12[j]=node_embeddings[a]\n",
        "print(X12.shape)"
      ],
      "execution_count": null,
      "outputs": [
        {
          "output_type": "stream",
          "text": [
            "(3411, 128)\n"
          ],
          "name": "stdout"
        }
      ]
    },
    {
      "cell_type": "code",
      "metadata": {
        "id": "V7EE_Kv-Ituj"
      },
      "source": [],
      "execution_count": null,
      "outputs": []
    },
    {
      "cell_type": "code",
      "metadata": {
        "id": "u6pfw1PPIT0P"
      },
      "source": [
        "kmeans = KMeans(n_clusters=number_of_clusters, init='k-means++', max_iter=300, n_init=10, random_state=0)\n",
        "kmeans.fit(X12)\n",
        "\n",
        ""
      ],
      "execution_count": null,
      "outputs": []
    },
    {
      "cell_type": "code",
      "metadata": {
        "id": "S0GALBNvGh-j"
      },
      "source": [
        "from sklearn.cluster import KMeans\n",
        "for number_of_clusters in [3, 5, 10, 30, 50, 100, 200, 500]:\n",
        "    kmeans = KMeans(n_clusters=number_of_clusters, init='k-means++', max_iter=300, n_init=10, random_state=0)\n",
        "    kmeans.fit(X12)\n",
        "\n",
        "\n",
        ""
      ],
      "execution_count": null,
      "outputs": []
    },
    {
      "cell_type": "markdown",
      "metadata": {
        "id": "gLzlSNO6F4Ya"
      },
      "source": [
        "<img src='https://i.imgur.com/ZLWQEhL.jpg'>"
      ]
    },
    {
      "cell_type": "markdown",
      "metadata": {
        "id": "aTg5qUxAF4Yd"
      },
      "source": [
        "### these links and function might be usefull while solving this assignment\n",
        "1. what is bipartite graph: https://en.wikipedia.org/wiki/Bipartite_graph\n",
        "2. Ego graph: https://networkx.github.io/documentation/stable/reference/generated/networkx.generators.ego.ego_graph.html\n",
        "3. Combining two are more graphs: https://stackoverflow.com/a/32652764/4084039\n",
        "    ex: if you want to merge three graphs which are mentiond in the above image, you can write like this\n",
        "    <pre>\n",
        "    U=nx.Graph()\n",
        "    for i in number of clusters:\n",
        "        if U is empty:\n",
        "            U.add_edges_from(ith Cluster's graph.edges(data=True))\n",
        "            U.add_nodes_from(ith Cluster's graph.nodes(data=True))\n",
        "        else:\n",
        "            U.add_edges_from(ith Cluster's graph.edges(data=True)+U.edges(data=True))\n",
        "            U.add_nodes_from(ith Cluster's graph.nodes(data=True)+U.nodes(data=True))\n",
        "    </pre>\n",
        "4. connected components:  https://networkx.github.io/documentation/stable/reference/algorithms/generated/networkx.algorithms.components.connected_components.html\n",
        "5. Degree of a node: https://networkx.github.io/documentation/stable/reference/classes/generated/networkx.Graph.degree.html\n",
        "6. Neighbors of node: https://networkx.github.io/documentation/networkx-1.10/reference/generated/networkx.Graph.neighbors.html"
      ]
    },
    {
      "cell_type": "code",
      "metadata": {
        "id": "WiELaqgbF4Yg"
      },
      "source": [
        "# hint: you can refer facebook case study notebook to solve this assignment in couple of hours\n",
        "data=pd.read_csv('movie_actor_network.csv', index_col=False, names=['movie','actor'])"
      ],
      "execution_count": null,
      "outputs": []
    }
  ]
}