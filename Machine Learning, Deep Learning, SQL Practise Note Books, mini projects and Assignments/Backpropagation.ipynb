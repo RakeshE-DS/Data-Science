{
  "nbformat": 4,
  "nbformat_minor": 0,
  "metadata": {
    "kernelspec": {
      "display_name": "Python 3",
      "language": "python",
      "name": "python3"
    },
    "language_info": {
      "codemirror_mode": {
        "name": "ipython",
        "version": 3
      },
      "file_extension": ".py",
      "mimetype": "text/x-python",
      "name": "python",
      "nbconvert_exporter": "python",
      "pygments_lexer": "ipython3",
      "version": "3.6.8"
    },
    "colab": {
      "provenance": []
    }
  },
  "cells": [
    {
      "cell_type": "markdown",
      "metadata": {
        "id": "N5QCLaUnrnBV"
      },
      "source": [
        "# Back Propagation"
      ]
    },
    {
      "cell_type": "markdown",
      "metadata": {
        "id": "sH5jPVX-rnBd"
      },
      "source": [
        "## 1. loading of data"
      ]
    },
    {
      "cell_type": "code",
      "metadata": {
        "id": "se2mlLwtI0bL",
        "outputId": "aa0f1f98-9f5c-483b-c1f4-c1eddac46ba9",
        "colab": {
          "resources": {
            "http://localhost:8080/nbextensions/google.colab/files.js": {
              "data": "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",
              "ok": true,
              "headers": [
                [
                  "content-type",
                  "application/javascript"
                ]
              ],
              "status": 200,
              "status_text": ""
            }
          },
          "base_uri": "https://localhost:8080/",
          "height": 40
        }
      },
      "source": [
        "from google.colab import files\n",
        "uploaded=files.upload()"
      ],
      "execution_count": null,
      "outputs": [
        {
          "output_type": "display_data",
          "data": {
            "text/html": [
              "\n",
              "     <input type=\"file\" id=\"files-3b0e7575-1654-4628-82e9-b5a5f730a12e\" name=\"files[]\" multiple disabled />\n",
              "     <output id=\"result-3b0e7575-1654-4628-82e9-b5a5f730a12e\">\n",
              "      Upload widget is only available when the cell has been executed in the\n",
              "      current browser session. Please rerun this cell to enable.\n",
              "      </output>\n",
              "      <script src=\"/nbextensions/google.colab/files.js\"></script> "
            ],
            "text/plain": [
              "<IPython.core.display.HTML object>"
            ]
          },
          "metadata": {
            "tags": []
          }
        }
      ]
    },
    {
      "cell_type": "markdown",
      "metadata": {
        "id": "dX7vWzRoAYGB"
      },
      "source": []
    },
    {
      "cell_type": "markdown",
      "metadata": {
        "id": "GIkq6U0SrnBu"
      },
      "source": [
        "# 2. Computational graph"
      ]
    },
    {
      "cell_type": "markdown",
      "metadata": {
        "id": "3XnJH-McrnBx"
      },
      "source": [
        "<img src='https://i.imgur.com/seSGbNS.png'>"
      ]
    },
    {
      "cell_type": "markdown",
      "metadata": {
        "id": "YRQKYgJrrnB0"
      },
      "source": [
        "<pre>\n",
        "1. if you observe the graph, we are having input features [f1, f2, f3, f4, f5] and 9 weights [w1, w2, w3, w4, w5, w6,    w7, w8, w9]\n",
        "2. the final output of this graph is a value L which is computed as (Y-Y')^2\n",
        "</pre>"
      ]
    },
    {
      "cell_type": "markdown",
      "metadata": {
        "id": "inW-os8IrnB3"
      },
      "source": [
        "### Task 1: Implementing backpropagation and Gradient checking\n",
        "\n",
        "\n",
        "<pre>1. <b>Check this video for better understanding of the computational graphs and back propagation:</b> <a href='https://www.youtube.com/watch?v=i94OvYb6noo#t=1m33s'>https://www.youtube.com/watch?v=i94OvYb6noo</a>\n",
        "</pre>\n",
        "\n",
        "<pre>\n",
        "2. <b>write two functions</b>\n",
        "\n",
        "#you can modify the definition of this function according to your needs\n",
        "<font color='green'>\n",
        "def forward_propagation(X, y, W):\n",
        "        <font color='grey'>\n",
        "        # X: input data point, note that in this assignment you are having 5-d data points\n",
        "        # y: output varible\n",
        "        # W: weight array, its of length 9, W[0] corresponds to w1 in graph, W[1] corresponds to w2 in graph, ..., W[8] corresponds to w9 in graph.\n",
        "        # write code to compute the value of L=(y-y')^2\n",
        "        </font>\n",
        "        return (L, any other variables which you might need to use for back propagation)\n",
        "        <font color='grey'>\n",
        "        # Hint: you can use dict type to store the required intermediate variables\n",
        "        </font>\n",
        "</font>\n",
        "</pre>\n",
        "\n",
        "<pre>\n",
        "# you can modify the definition of this function according to your needs\n",
        "<font color='blue'>\n",
        "def backward_propagation(L, Variables):\n",
        "        <font color='grey'>\n",
        "        # L: the loss we calculated for the current point\n",
        "        # Variables: the outputs of the forward_propagation() function\n",
        "        # write code to compute the gradients of each weight [w1,w2,w3,...,w9]\n",
        "        </font>\n",
        "        return dW\n",
        "        <font color='grey'>\n",
        "        # here dW can be a list, or dict or any other data type wich will have gradients of all the weights\n",
        "        # Hint: you can use dict type to store the required variables\n",
        "        </font>\n",
        "</font>\n",
        "</pre>\n",
        "3. <b> <a href='https://towardsdatascience.com/how-to-debug-a-neural-network-with-gradient-checking-41deec0357a9'>Gradient checking</a></b>:<a href='https://towardsdatascience.com/how-to-debug-a-neural-network-with-gradient-checking-41deec0357a9'>blog link</a>\n",
        "\n",
        "<pre>we know that the derivative of any function is </pre>$$\\lim_{\\epsilon\\to0}\\frac{f(x+\\epsilon)-f(x-\\epsilon)}{2\\epsilon}$$\n",
        "<pre>\n",
        "The definition above can be used as a numerical approximation of the derivative. Taking an epsilon small enough, the calculated approximation will have an error in the range of epsilon squared.\n",
        "\n",
        "In other words, if epsilon is 0.001, the approximation will be off by 0.00001.\n",
        "\n",
        "Therefore, we can use this to approximate the gradient, and in turn make sure that backpropagation is implemented properly. This forms the basis of gradient checking!\n",
        "\n",
        "</pre>\n",
        "\n",
        "<font >\n",
        "lets understand the concept with a simple example:\n",
        "$f(w1,w2,x1,x2)=w_{1}^{2} . x_{1} + w_{2} . x_{2}$\n",
        "\n",
        "from the above function lets assume $w_{1}=1$, $w_{2}=2$, $x_{1}=3$, $x_{2}=4$ the gradient of $f$ w.r.t $w_{1}$ is\n",
        "\n",
        "\\begin{array} {lcl}\n",
        "\\frac{df}{dw_{1}} = dw_{1} &=&2.w_{1}.x_{1} \\\\& = &2.1.3\\\\& = &6\n",
        "\\end{array}\n",
        "\n",
        "\n",
        "let calculate the aproximate gradient of $w_{1}$ as mentinoned in the above formula and considering $\\epsilon=0.0001$\n",
        "\n",
        "\\begin{array} {lcl}\n",
        "dw_1^{approx} & = & \\frac{f(w1+\\epsilon,w2,x1,x2)-f(w1-\\epsilon,w2,x1,x2)}{2\\epsilon} \\\\ & = & \\frac{((1+0.0001)^{2} . 3 + 2 . 4) - ((1-0.0001)^{2} . 3 + 2 . 4)}{2\\epsilon} \\\\ & = & \\frac{(1.00020001 . 3 + 2 . 4) - (0.99980001. 3 + 2 . 4)}{2*0.0001} \\\\ & = & \\frac{(11.00060003) - (10.99940003)}{0.0002}\\\\ & = & 5.99999999999\n",
        "\\end{array}\n",
        "\n",
        "Then, we apply the following formula for gradient check: <i>gradient_check</i> =\n",
        "$\\frac{\\left\\Vert\\left (dW-dW^{approx}\\rm\\right) \\right\\Vert_2}{\\left\\Vert\\left (dW\\rm\\right) \\right\\Vert_2+\\left\\Vert\\left (dW^{approx}\\rm\\right) \\right\\Vert_2}$\n",
        "\n",
        "The equation above is basically the Euclidean distance normalized by the sum of the norm of the vectors. We use normalization in case that one of the vectors is very small.\n",
        "As a value for epsilon, we usually opt for 1e-7. Therefore, if gradient check return a value less than 1e-7, then it means that backpropagation was implemented correctly. Otherwise, there is potentially a mistake in your implementation. If the value exceeds 1e-3, then you are sure that the code is not correct.\n",
        "\n",
        "in our example: <i>gradient_check</i> $ = \\frac{(6 - 5.999999999994898)}{(6 + 5.999999999994898)} = 4.2514140356330737e^{-13}$\n",
        "\n",
        "you can mathamatically derive the same thing like this\n",
        "\n",
        "\\begin{array} {lcl}\n",
        "dw_1^{approx} & = & \\frac{f(w1+\\epsilon,w2,x1,x2)-f(w1-\\epsilon,w2,x1,x2)}{2\\epsilon} \\\\ & = & \\frac{((w_{1}+\\epsilon)^{2} . x_{1} + w_{2} . x_{2}) - ((w_{1}-\\epsilon)^{2} . x_{1} + w_{2} . x_{2})}{2\\epsilon} \\\\ & = & \\frac{4. \\epsilon.w_{1}. x_{1}}{2\\epsilon} \\\\ & = &  2.w_{1}.x_{1}\n",
        "\\end{array}\n",
        "\n",
        "to do this task you need to write a function\n",
        "<pre>\n",
        "<font color='darkblue'>\n",
        "W = initilize_randomly\n",
        "def gradient_checking(data_point, W):\n",
        "    <font color='grey'>\n",
        "    # compute the L value using forward_propagation()\n",
        "    # compute the gradients of W using backword_propagation()\n",
        "    </font>\n",
        "    approx_gradients = []\n",
        "    for each wi weight value in W:\n",
        "        <font color='grey'>\n",
        "        # add a small value to weight wi, and then find the values of L with the updated weights\n",
        "        # subtract a small value to weight wi, and then find the values of L with the updated weights\n",
        "        # compute the approximation gradients of weight wi\n",
        "        </font>\n",
        "        approx_gradients.append(approximation gradients of weight wi)\n",
        "    <font color='grey'>\n",
        "    # compare the gradient of weights W from backword_propagation() with the aproximation gradients of weights with      gradient_check formula\n",
        "    </font>\n",
        "    return gradient_check\n",
        "</font>\n",
        "NOTE: you can do sanity check by checking all the return values of gradient_checking(), they have to be zero. if not you have bug in your code\n",
        "</pre>"
      ]
    },
    {
      "cell_type": "markdown",
      "metadata": {
        "id": "mf1fj5ZernB5"
      },
      "source": [
        "### Task 2: Optimizers\n",
        "\n",
        "1. As a part of this task, you will be implementing 3 type of optimizers(methods to update weight)\n",
        "2. check this video and blog: https://www.youtube.com/watch?v=gYpoJMlgyXA,  http://cs231n.github.io/neural-networks-3/\n",
        "3. use the same computational graph that was mentioned above to do this task\n",
        "4. initilze the 9 weights from normal distribution with mean=0 and std=0.01\n",
        "\n",
        "5.\n",
        "\n",
        "<pre>\n",
        "    for each epoch(1-100):\n",
        "        for each data point in your data:\n",
        "            using the functions forward_propagation() and backword_propagation() compute the gradients of weights\n",
        "            update the weigts with help of gradients  ex: w1 = w1-learning_rate*dw1\n",
        "</pre>\n",
        "\n",
        "6.\n",
        "\n",
        "<pre>\n",
        "<b>task 2.1</b>: you will be implementing the above algorithm with <b>Vanilla update</b> of weights\n",
        "<b>task 2.2</b>: you will be implementing the above algorithm with <b>Momentum update</b> of weights\n",
        "<b>task 2.3</b>: you will be implementing the above algorithm with <b>Adam update</b> of weights\n",
        "</pre>\n",
        "\n"
      ]
    },
    {
      "cell_type": "code",
      "metadata": {
        "id": "KfEj97i1ap7i",
        "outputId": "c625db23-0b25-4a3a-9ae0-6973375d3f81",
        "colab": {
          "resources": {
            "http://localhost:8080/nbextensions/google.colab/files.js": {
              "data": "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",
              "ok": true,
              "headers": [
                [
                  "content-type",
                  "application/javascript"
                ]
              ],
              "status": 200,
              "status_text": ""
            }
          },
          "base_uri": "https://localhost:8080/",
          "height": 74
        }
      },
      "source": [
        "from google.colab import files\n",
        "uploaded=files.upload()"
      ],
      "execution_count": null,
      "outputs": [
        {
          "output_type": "display_data",
          "data": {
            "text/html": [
              "\n",
              "     <input type=\"file\" id=\"files-bd9b1ced-593c-46a4-ae00-9405eb8822a5\" name=\"files[]\" multiple disabled />\n",
              "     <output id=\"result-bd9b1ced-593c-46a4-ae00-9405eb8822a5\">\n",
              "      Upload widget is only available when the cell has been executed in the\n",
              "      current browser session. Please rerun this cell to enable.\n",
              "      </output>\n",
              "      <script src=\"/nbextensions/google.colab/files.js\"></script> "
            ],
            "text/plain": [
              "<IPython.core.display.HTML object>"
            ]
          },
          "metadata": {
            "tags": []
          }
        },
        {
          "output_type": "stream",
          "text": [
            "Saving data.pkl to data.pkl\n"
          ],
          "name": "stdout"
        }
      ]
    },
    {
      "cell_type": "code",
      "metadata": {
        "id": "M1xIBZATJeDz",
        "outputId": "1783f88e-fbd9-49c7-cfff-f7f46da64f8f",
        "colab": {
          "base_uri": "https://localhost:8080/",
          "height": 52
        }
      },
      "source": [
        "\n",
        "import pickle\n",
        "with open('data.pkl', 'rb') as f:\n",
        "    data = pickle.load(f)\n",
        "print(data.shape)\n",
        "X = data[:, :5]\n",
        "y = data[:, -1]\n",
        "print(X.shape, y.shape)\n"
      ],
      "execution_count": null,
      "outputs": [
        {
          "output_type": "stream",
          "text": [
            "(506, 6)\n",
            "(506, 5) (506,)\n"
          ],
          "name": "stdout"
        }
      ]
    },
    {
      "cell_type": "code",
      "metadata": {
        "id": "g9ASomW7PxIX"
      },
      "source": [
        "import numpy as np\n",
        "\n",
        "w=np.random.rand(9)\n",
        "\n",
        "a1=w[0]*X[1][0]\n",
        "a2=w[1]*X[1][1]\n",
        "a3=a1+a2\n",
        "a4=(a3)**2\n",
        "a5=a4+w[5]\n",
        "a6=np.exp(a5)\n",
        "a7=a6+w[6]\n",
        "a8=np.tanh(a7)\n",
        "b1=X[1][2]*w[2]\n",
        "b2=X[1][3]*w[3]\n",
        "b3=X[1][4]*w[4]\n",
        "b4=np.sin(b1)\n",
        "b5=b2+b3\n",
        "b6=b4*b5\n",
        "b7=b6+w[7]\n",
        "b8=(1/(1 + np.exp(-b7)))\n",
        "b9=b8*w[8]\n",
        "y_pred=b9+a8\n",
        ""
      ],
      "execution_count": null,
      "outputs": []
    },
    {
      "cell_type": "code",
      "metadata": {
        "id": "pKvUtfLPgLH-",
        "outputId": "1a47a359-e891-42f8-e5ac-5351a907b80c",
        "colab": {
          "base_uri": "https://localhost:8080/",
          "height": 176
        }
      },
      "source": [
        "\n",
        "def forward(w,X,y):\n",
        "  loss=0\n",
        "  loss+=(y[0]-y_pred)**2\n",
        "  return loss\n",
        "def backward(w,X,y):\n",
        "      w1=[]\n",
        "      w[0]=w[0]-0.001*(-2*(y[1]-y_pred)*(1-(np.tanh(a7))**2)*np.exp(a5)*(2*a3*X[1][0]))\n",
        "      w[1]=w[1]-0.001*(-2*(y[1]-y_pred)*(1-(np.tanh(a7))**2)*np.exp(a5)*(2*a3*X[1][1]))\n",
        "      w[2]=w[2]-0.001*(-2*(y[1]-y_pred)*w[8]*(1/(1 + np.exp(-b7)))*(1-(1/(1 + np.exp(-b7))))*b5*np.cos(b1)*X[1][2])\n",
        "      w[3]=w[3]-0.001*(-2*(y[1]-y_pred)*w[8]*(1/(1 + np.exp(-b7)))*(1-(1/(1 + np.exp(-b7))))*b4*X[1][3])\n",
        "      w[4]=w[4]-0.001*(-2*(y[1]-y_pred)*w[8]*(1/(1 + np.exp(-b7)))*(1-(1/(1 + np.exp(-b7))))*b4*X[1][4])\n",
        "      w[5]=w[5]-0.001*(-2*(y[1]-y_pred)*(1-(np.tanh(a7))**2)*np.exp(a5))\n",
        "      w[6]=w[6]-0.001*(-2*(y[1]-y_pred)*(1-(np.tanh(a7))**2))\n",
        "      w[7]=w[7]-0.001*(-2*(y[1]-y_pred)*w[8]*(1/(1 + np.exp(-b7)))*(1-(1/(1 + np.exp(-b7)))))\n",
        "      w[8]=w[8]-0.001*(-2*(y[1]-y_pred)*b8)\n",
        "      for i in range(9):\n",
        "        w1.append(w[i])\n",
        "      return w1\n",
        "def gradient_check(w,x,y,eps=1e-3):\n",
        "  di=[]\n",
        "  for i in range(9):\n",
        "    w1_plus=w[i]+eps\n",
        "    w1_min=w[i]-eps\n",
        "    plus=forward(w1_plus,X,y)\n",
        "    minus=forward(w1_min,X,y)\n",
        "    grad_pro=(plus-minus)/(2*eps)\n",
        "    grad=backward(w,X,y)\n",
        "    num=np.linalg.norm(grad-grad_pro)\n",
        "    den=np.linalg.norm(grad+grad_pro)\n",
        "    dif=num/den\n",
        "    di.append(dif)\n",
        "    if(dif<1e-7):\n",
        "      print(\"correct\")\n",
        "    else:\n",
        "      print(\"wrong\")\n",
        "  return dif\n",
        "a=gradient_check(w,X,y)"
      ],
      "execution_count": null,
      "outputs": [
        {
          "output_type": "stream",
          "text": [
            "correct\n",
            "correct\n",
            "correct\n",
            "correct\n",
            "correct\n",
            "correct\n",
            "correct\n",
            "correct\n",
            "correct\n"
          ],
          "name": "stdout"
        }
      ]
    },
    {
      "cell_type": "markdown",
      "metadata": {
        "id": "I8BTDOkPeV0p"
      },
      "source": [
        "TASK-2"
      ]
    },
    {
      "cell_type": "code",
      "metadata": {
        "id": "jpoXdt7jJedJ"
      },
      "source": [
        "import numpy as np\n",
        "\n",
        "loss=0\n",
        "y_pred=[]\n",
        "for i in range(len(X)):\n",
        "  a1=w[0]*X[i][0]\n",
        "  a2=w[1]*X[i][1]\n",
        "  a3=a1+a2\n",
        "  a4=(a3)**2\n",
        "  a5=a4+w[5]\n",
        "  a6=np.exp(a5)\n",
        "  a7=a6+w[6]\n",
        "  a8=np.tanh(a7)\n",
        "  b1=X[i][2]*w[2]\n",
        "  b2=X[i][3]*w[3]\n",
        "  b3=X[i][4]*w[4]\n",
        "  b4=np.sin(b1)\n",
        "  b5=b2+b3\n",
        "  b6=b4*b5\n",
        "  b7=b6+w[7]\n",
        "  b8=(1/(1 + np.exp(-b7)))\n",
        "  b9=b8*w[8]\n",
        "  c1=b9+a8\n",
        "  y_pred.append(c1)"
      ],
      "execution_count": null,
      "outputs": []
    },
    {
      "cell_type": "markdown",
      "metadata": {
        "id": "aTEq82fYzwJc"
      },
      "source": [
        "VANILLA update"
      ]
    },
    {
      "cell_type": "code",
      "metadata": {
        "id": "2lbfBh7pZ3F5"
      },
      "source": [
        "import numpy as np\n",
        "def forward(w,X,y):\n",
        " loss=0\n",
        " y_pred=[]\n",
        " for i in range(len(X)):\n",
        "  a1=w[0]*X[i][0]\n",
        "  a2=w[1]*X[i][1]\n",
        "  a3=a1+a2\n",
        "  a4=(a3)**2\n",
        "  a5=a4+w[5]\n",
        "  a6=np.exp(a5)\n",
        "  a7=a6+w[6]\n",
        "  a8=np.tanh(a7)\n",
        "  b1=X[i][2]*w[2]\n",
        "  b2=X[i][3]*w[3]\n",
        "  b3=X[i][4]*w[4]\n",
        "  b4=np.sin(b1)\n",
        "  b5=b2+b3\n",
        "  b6=b4*b5\n",
        "  b7=b6+w[7]\n",
        "  b8=(1/(1 + np.exp(-b7)))\n",
        "  b9=b8*w[8]\n",
        "  c1=b9+a8\n",
        "  y_pred.append(c1)\n",
        "  loss+=(y[i]-y_pred[i])**2\n",
        " return loss*(1/(len(data)))\n"
      ],
      "execution_count": null,
      "outputs": []
    },
    {
      "cell_type": "code",
      "metadata": {
        "id": "dQCFWcjwVdQr"
      },
      "source": [],
      "execution_count": null,
      "outputs": []
    },
    {
      "cell_type": "code",
      "metadata": {
        "id": "h9d0j4Sng410",
        "outputId": "f08564dd-48b7-45f8-d6fd-2c82acc48c56",
        "colab": {
          "base_uri": "https://localhost:8080/",
          "height": 650
        }
      },
      "source": [
        "import numpy as np\n",
        "def forward(w,X,y):\n",
        "  loss=0\n",
        "  y_pred=[]\n",
        "  a1=w[0]*X[0]\n",
        "  a2=w[1]*X[1]\n",
        "  a3=a1+a2\n",
        "  a4=(a3)**2\n",
        "  a5=a4+w[5]\n",
        "  a6=np.exp(a5)\n",
        "  a7=a6+w[6]\n",
        "  a8=np.tanh(a7)\n",
        "  b1=X[2]*w[2]\n",
        "  b2=X[3]*w[3]\n",
        "  b3=X[4]*w[4]\n",
        "  b4=np.sin(b1)\n",
        "  b5=b2+b3\n",
        "  b6=b4*b5\n",
        "  b7=b6+w[7]\n",
        "  b8=(1/(1 + np.exp(-b7)))\n",
        "  b9=b8*w[8]\n",
        "  c1=b9+a8\n",
        "  y_pred.append(c1)\n",
        "  loss+=(y-y_pred[0])**2\n",
        "  k=[]\n",
        "  k.append([a1,a2,a3,a4,a5,a6,a7,a8,b1,b2,b3,b4,b5,b6,b7,b8,b9,c1])\n",
        "  k=k[0]\n",
        "  return loss*(1/(len(data))),k,c1\n",
        "def backward3(w,X,y,k,y_pred):\n",
        "  w1=[]\n",
        "  w[0]+=-0.001*(-2*(y-y_pred)*(1-(np.tanh(k[6]))**2)*np.exp(k[4])*(2*k[2]*X[0]))\n",
        "  w[1]+=-0.001*(-2*(y-y_pred)*(1-(np.tanh(k[6]))**2)*np.exp(k[4])*(2*k[2]*X[1]))\n",
        "  w[2]+=-0.001*(-2*(y-y_pred)*w[8]*(1/(1 + np.exp(-k[14])))*(1-(1/(1 + np.exp(-k[14]))))*k[11]*np.cos(k[8])*X[2])\n",
        "  w[3]+=-0.001*(-2*(y-y_pred)*w[8]*(1/(1 + np.exp(-k[14])))*(1-(1/(1 + np.exp(-k[14]))))*k[11]*X[3])\n",
        "  w[4]+=-0.001*(-2*(y-y_pred)*w[8]*(1/(1 + np.exp(-k[14])))*(1-(1/(1 + np.exp(-k[14]))))*k[11]*X[4])\n",
        "  w[5]+=-0.001*(-2*(y-y_pred)*(1-(np.tanh(k[6])))*np.exp(k[4]))\n",
        "  w[6]+=-0.001*(-2*(y-y_pred)*(1-(np.tanh(k[6]))))\n",
        "  w[7]+=-0.001*(-2*(y-y_pred)*w[8]*(1/(1 + np.exp(-k[14])))*(1-(1/(1 + np.exp(-k[14])))))\n",
        "  w[8]+=-0.001*(-2*(y-y_pred)*k[15])\n",
        "  for k in range(9):\n",
        "    w1.append(w[k])\n",
        "  return w1\n",
        "epoh=20\n",
        "LOSS=[]\n",
        "wa = np.random.normal(0,0.01,9)\n",
        "for j in range(epoh):\n",
        "  for m in range(len(X)):\n",
        "    a,k,y_pred=forward(wa,X[m],y[m])\n",
        "    wa=backward3(wa,X[m],y[m],k,y_pred)\n",
        "\n",
        "  print(a)\n",
        "  LOSS.append(a)\n",
        "e=[]\n",
        "for i in range(20):\n",
        "  e.append(i)\n",
        "import matplotlib.pyplot as plt\n",
        "LOSS.reverse()\n",
        "%matplotlib inline\n",
        "plt.plot(e,LOSS)\n",
        "plt.xlabel('epochs')\n",
        "plt.ylabel('loss')\n",
        "plt.title(\"epoch and train loss plot\")\n",
        "plt.show()"
      ],
      "execution_count": null,
      "outputs": [
        {
          "output_type": "stream",
          "text": [
            "0.0005114657831111476\n",
            "0.00017773013280904726\n",
            "4.095541836101171e-05\n",
            "1.7536721394306018e-06\n",
            "4.867959370067003e-06\n",
            "2.0711165002753867e-05\n",
            "3.667414123717e-05\n",
            "4.90018943503446e-05\n",
            "5.751499157781845e-05\n",
            "6.306471676882155e-05\n",
            "6.656707031621307e-05\n",
            "6.873468901613346e-05\n",
            "7.005923712485591e-05\n",
            "7.086077644338101e-05\n",
            "7.134124913701273e-05\n",
            "7.162583435771917e-05\n",
            "7.179133137803114e-05\n",
            "7.18845704826062e-05\n",
            "7.193400297056861e-05\n",
            "7.195687551701402e-05\n"
          ],
          "name": "stdout"
        },
        {
          "output_type": "display_data",
          "data": {
            "image/png": "[encoded data removed]",
            "text/plain": [
              "<Figure size 432x288 with 1 Axes>"
            ]
          },
          "metadata": {
            "tags": []
          }
        }
      ]
    },
    {
      "cell_type": "markdown",
      "metadata": {
        "id": "ApGy7omHDvSt"
      },
      "source": [
        "observations:\n",
        "\n",
        "1.the vanilla update is used to change parameters along negative gradient direction.in this update,the learning rate is kept constant so,the loss function makes non negative progress.\n",
        "\n",
        "2.at epoch 16,we got the minimized loss than all other epochs"
      ]
    },
    {
      "cell_type": "markdown",
      "metadata": {
        "id": "bgDxBFKm2uhF"
      },
      "source": [
        "MOMENTUM UPDATE\n"
      ]
    },
    {
      "cell_type": "code",
      "metadata": {
        "id": "Xd2U_JoVnIUy",
        "outputId": "b1623e27-a5d0-4b40-e6a8-db97c45f67b5",
        "colab": {
          "base_uri": "https://localhost:8080/",
          "height": 34
        }
      },
      "source": [
        "np.seterr(over='ignore')"
      ],
      "execution_count": null,
      "outputs": [
        {
          "output_type": "execute_result",
          "data": {
            "text/plain": [
              "{'divide': 'warn', 'invalid': 'warn', 'over': 'warn', 'under': 'ignore'}"
            ]
          },
          "metadata": {
            "tags": []
          },
          "execution_count": 29
        }
      ]
    },
    {
      "cell_type": "code",
      "metadata": {
        "id": "lGUMRYX8bYlO",
        "outputId": "e454be97-431e-4989-8df1-ded00d4b60b2",
        "colab": {
          "base_uri": "https://localhost:8080/",
          "height": 472
        }
      },
      "source": [
        "import numpy as np\n",
        "def forward(w,X,y):\n",
        "  loss=0\n",
        "  y_pred=[]\n",
        "  a1=w[0]*X[0]\n",
        "  a2=w[1]*X[1]\n",
        "  a3=a1+a2\n",
        "  a4=(a3)**2\n",
        "  a5=a4+w[5]\n",
        "  a6=np.exp(a5)\n",
        "  a7=a6+w[6]\n",
        "  a8=np.tanh(a7)\n",
        "  b1=X[2]*w[2]\n",
        "  b2=X[3]*w[3]\n",
        "  b3=X[4]*w[4]\n",
        "  b4=np.sin(b1)\n",
        "  b5=b2+b3\n",
        "  b6=b4*b5\n",
        "  b7=b6+w[7]\n",
        "  b8=(1/(1 + np.exp(-b7)))\n",
        "  b9=b8*w[8]\n",
        "  c1=b9+a8\n",
        "  y_pred.append(c1)\n",
        "  loss+=(y-y_pred[0])**2\n",
        "  k=[]\n",
        "  k.append([a1,a2,a3,a4,a5,a6,a7,a8,b1,b2,b3,b4,b5,b6,b7,b8,b9,c1])\n",
        "  k=k[0]\n",
        "  return loss*(1/(len(data))),k,c1\n",
        "def backward3(w,X,y,k,y_pred):\n",
        "    w1=[]\n",
        "    w[0]+=0.1*0.9-0.001*(-2*(y-y_pred)*(1-(np.tanh(k[6]))**2)*np.exp(k[4])*(2*k[2]*X[0]))\n",
        "    w[1]+=0.1*0.9-0.001*(-2*(y-y_pred)*(1-(np.tanh(k[6]))**2)*np.exp(k[4])*(2*k[2]*X[1]))\n",
        "    w[2]+=0.1*0.9-0.001*(-2*(y-y_pred)*w[8]*(1/(1 + np.exp(-k[14])))*(1-(1/(1 + np.exp(-k[14]))))*k[11]*np.cos(k[8])*X[2])\n",
        "    w[3]+=0.1*0.9-0.001*(-2*(y-y_pred)*w[8]*(1/(1 + np.exp(-k[14])))*(1-(1/(1 + np.exp(-k[14]))))*k[11]*X[3])\n",
        "    w[4]+=0.1*0.9-0.001*(-2*(y-y_pred)*w[8]*(1/(1 + np.exp(-k[14])))*(1-(1/(1 + np.exp(-k[14]))))*k[11]*X[4])\n",
        "    w[5]+=0.1*0.9-0.001*(-2*(y-y_pred)*(1-(np.tanh(k[6]))**2)*np.exp(k[4]))\n",
        "    w[6]+=0.1*0.9-0.001*(-2*(y-y_pred)*(1-(np.tanh(k[6]))**2))\n",
        "    w[7]+=0.1*0.9-0.001*(-2*(y-y_pred)*w[8]*(1/(1 + np.exp(-k[14])))*(1-(1/(1 + np.exp(-k[14])))))\n",
        "    w[8]+=0.1*0.9-0.001*(-2*(y-y_pred)*k[15])\n",
        "    for k in range(9):\n",
        "      w1.append(w[k])\n",
        "    return w1\n",
        "epoh=10\n",
        "LOSS=[]\n",
        "wa = np.random.normal(0,0.01,9)\n",
        "for j in range(epoh):\n",
        "  for m in range(len(X)):\n",
        "    a,k,y_pred=forward(wa,X[m],y[m])\n",
        "    wa=backward3(wa,X[m],y[m],k,y_pred)\n",
        "  print(a)\n",
        "  LOSS.append(a)\n",
        "e=[]\n",
        "for i in range(10):\n",
        "  e.append(i)\n",
        "import matplotlib.pyplot as plt\n",
        "LOSS.reverse()\n",
        "%matplotlib inline\n",
        "plt.plot(e,LOSS)\n",
        "plt.xlabel('epochs')\n",
        "plt.ylabel('loss')\n",
        "plt.title(\"epoch and train loss plot\")\n",
        "plt.show()"
      ],
      "execution_count": null,
      "outputs": [
        {
          "output_type": "stream",
          "text": [
            "0.00046132939398693716\n",
            "0.00015967761814050568\n",
            "3.7683856256985723e-05\n",
            "1.7666954047260038e-06\n",
            "4.3308286214076825e-06\n",
            "1.932343581092378e-05\n",
            "3.499154523380967e-05\n",
            "4.747286018873604e-05\n",
            "5.633756754020345e-05\n",
            "6.22693995034357e-05\n"
          ],
          "name": "stdout"
        },
        {
          "output_type": "display_data",
          "data": {
            "image/png": "[encoded data removed]",
            "text/plain": [
              "<Figure size 432x288 with 1 Axes>"
            ]
          },
          "metadata": {
            "tags": []
          }
        }
      ]
    },
    {
      "cell_type": "markdown",
      "metadata": {
        "id": "PG2pCo_AE-Jl"
      },
      "source": [
        "1.momentum update is used to reduce oscillations and make the convergence faster by increasing momentum term for gradients in positive direction,then for gradients changing direction\n",
        "\n",
        "2.here as,we know the momentum update is better than vannila update,because it adds a fraction of update vector of previous time stamp to present vector,it converges fast."
      ]
    },
    {
      "cell_type": "markdown",
      "metadata": {
        "id": "6Lvdpzb97vdh"
      },
      "source": [
        "ADAM UPDATE"
      ]
    },
    {
      "cell_type": "code",
      "metadata": {
        "id": "Od0sVnyQcLI6"
      },
      "source": [
        "def backward2(w,X,y,k,y_pred):\n",
        "      w1=[]\n",
        "      beta1=0.9\n",
        "      beta2=0.999\n",
        "      v=0.001\n",
        "      eps=1e-8\n",
        "      for i in range(len(X)):\n",
        "        m1 = beta1*0.001 + (1-beta1)*(-2*(y-y_pred)*(1-(np.tanh(k[6]))**2)*np.exp(k[4])*(2*k[2]*X[0]))\n",
        "        v1 = beta2*v + (1-beta2)*((-2*(y-y_pred)*(1-(np.tanh(k[6]))**2)*np.exp(k[4])*(2*k[2]*X[0]))**2)\n",
        "        w[0]+=-0.001* m1 / (np.sqrt(v1) + eps)\n",
        "\n",
        "        m2 = beta1*0.001 + (1-beta1)*(-2*(y-y_pred)*(1-(np.tanh(k[6]))**2)*np.exp(k[4])*(2*k[2]*X[1]))\n",
        "        v2 = beta2*v + (1-beta2)*(1-beta1)*(-2*(y-y_pred)*(1-(np.tanh(k[6]))**2)*np.exp(k[4])*(2*k[2]*X[1])**2)\n",
        "        w[1]+=-0.001* m2 / (np.sqrt(v2) + eps)\n",
        "\n",
        "        m3 = beta1*0.001 + (1-beta1)*(-2*(y-y_pred)*w[8]*(1/(1 + np.exp(-k[14])))*(1-(1/(1 + np.exp(-k[14]))))*k[12]*np.cos(k[8])*X[2])\n",
        "        v3 = beta2*v + (1-beta2)*((-2*(y-y_pred)*w[8]*(1/(1 + np.exp(-k[14])))*(1-(1/(1 + np.exp(-k[14]))))*k[12]*np.cos(k[8])*X[2])**2)\n",
        "        w[2]+=-0.001* m3 / (np.sqrt(v3) + eps)\n",
        "\n",
        "        m4 = beta1*0.001 + (1-beta1)*(-2*(y-y_pred)*w[8]*(1/(1 + np.exp(-k[14])))*(1-(1/(1 + np.exp(-k[14]))))*k[11]*X[3])\n",
        "        v4 = beta2*v + (1-beta2)*((-2*(y-y_pred)*w[8]*(1/(1 + np.exp(-k[14])))*(1-(1/(1 + np.exp(-k[14]))))*k[11]*X[3])**2)\n",
        "        w[3]+=-0.001* m4 / (np.sqrt(v4) + eps)\n",
        "\n",
        "        m5 = beta1*0.001 + (1-beta1)*(-2*(y-y_pred)*w[8]*(1/(1 + np.exp(-k[14])))*(1-(1/(1 + np.exp(-k[14]))))*k[11]*X[4])\n",
        "        v5 = beta2*v + (1-beta2)*((-2*(y-y_pred)*w[8]*(1/(1 + np.exp(-k[14])))*(1-(1/(1 + np.exp(-k[14]))))*k[11]*X[4])**2)\n",
        "        w[4]+=-0.001* m5 / (np.sqrt(v5) + eps)\n",
        "\n",
        "        m6 = beta1*0.001 + (1-beta1)*(-2*(y-y_pred)*(1-(np.tanh(k[6]))**2)*np.exp(k[4]))\n",
        "        v6 = beta2*v + (1-beta2)*((-2*(y-y_pred)*(1-(np.tanh(k[6]))**2)*np.exp(k[4]))**2)\n",
        "        w[5]+=-0.001* m6 / (np.sqrt(v6) + eps)\n",
        "\n",
        "        m7 = beta1*0.001 + (1-beta1)*(-2*(y-y_pred)*(1-(np.tanh(k[6]))**2))\n",
        "        v7 = beta2*v + (1-beta2)*((-2*(y-y_pred)*(1-(np.tanh(k[6]))**2))**2)\n",
        "        w[6]+=-0.001* m7 / (np.sqrt(v7) + eps)\n",
        "\n",
        "        m8 = beta1*0.001 + (1-beta1)*(-2*(y-y_pred)*w[8]*(1/(1 + np.exp(-k[14])))*(1-(1/(1 + np.exp(-k[14])))))\n",
        "        v8 = beta2*v + (1-beta2)*((-2*(y-y_pred)*w[8]*(1/(1 + np.exp(-k[14])))*(1-(1/(1 + np.exp(-k[14])))))**2)\n",
        "        w[7]+=-0.001* m8 / (np.sqrt(v8) + eps)\n",
        "\n",
        "        m9 = beta1*0.001 + (1-beta1)*(-2*(y-y_pred)*k[15])\n",
        "        v9 = beta2*v + (1-beta2)*((-2*(y-y_pred)*k[15])**2)\n",
        "        w[8]+=-0.001* m9 / (np.sqrt(v9) + eps)\n",
        "      for k in range(9):\n",
        "         w1.append(w[k])\n",
        "      return w1"
      ],
      "execution_count": null,
      "outputs": []
    },
    {
      "cell_type": "code",
      "metadata": {
        "id": "qfHVUWQovt5G"
      },
      "source": [
        "import numpy as np\n",
        "def forward(w,X,y):\n",
        "  loss=0\n",
        "  y_pred=[]\n",
        "  a1=w[0]*X[0]\n",
        "  a2=w[1]*X[1]\n",
        "  a3=a1+a2\n",
        "  a4=(a3)**2\n",
        "  a5=a4+w[5]\n",
        "  a6=np.exp(a5)\n",
        "  a7=a6+w[6]\n",
        "  a8=np.tanh(a7)\n",
        "  b1=X[2]*w[2]\n",
        "  b2=X[3]*w[3]\n",
        "  b3=X[4]*w[4]\n",
        "  b4=np.sin(b1)\n",
        "  b5=b2+b3\n",
        "  b6=b4*b5\n",
        "  b7=b6+w[7]\n",
        "  b8=(1/(1 + np.exp(-b7)))\n",
        "  b9=b8*w[8]\n",
        "  c1=b9+a8\n",
        "  y_pred.append(c1)\n",
        "  loss+=(y-y_pred[0])**2\n",
        "  k=[]\n",
        "  k.append([a1,a2,a3,a4,a5,a6,a7,a8,b1,b2,b3,b4,b5,b6,b7,b8,b9,c1])\n",
        "  k=k[0]\n",
        "  return loss*(1/(len(data))),k,c1"
      ],
      "execution_count": null,
      "outputs": []
    },
    {
      "cell_type": "code",
      "metadata": {
        "id": "csip2IMCJeQ2",
        "outputId": "0151bf91-da2b-44c2-a759-b0d4500f0672",
        "colab": {
          "base_uri": "https://localhost:8080/",
          "height": 472
        }
      },
      "source": [
        "epoh=10\n",
        "LOSS=[]\n",
        "wa = np.random.normal(0,0.01,9)\n",
        "for j in range(epoh):\n",
        "  for m in range(len(X)):\n",
        "    a,k,y_pred=forward(wa,X[m],y[m])\n",
        "    wa=backward2(wa,X[m],y[m],k,y_pred)\n",
        "  print(a)\n",
        "  LOSS.append(a)\n",
        "e=[]\n",
        "for i in range(10):\n",
        "  e.append(i)\n",
        "import matplotlib.pyplot as plt\n",
        "LOSS.reverse()\n",
        "%matplotlib inline\n",
        "plt.plot(e,LOSS)\n",
        "plt.xlabel('epochs')\n",
        "plt.ylabel('loss')\n",
        "plt.title(\"epoch and train loss plot\")\n",
        "plt.show()"
      ],
      "execution_count": null,
      "outputs": [
        {
          "output_type": "stream",
          "text": [
            "0.00012195948138687921\n",
            "6.557580255778899e-05\n",
            "1.0298416896622926e-05\n",
            "3.130591087479643e-07\n",
            "8.72649773527931e-06\n",
            "1.8981830032122997e-05\n",
            "2.646705381652999e-05\n",
            "3.127120731018398e-05\n",
            "3.406719428587539e-05\n",
            "3.530860433646324e-05\n"
          ],
          "name": "stdout"
        },
        {
          "output_type": "display_data",
          "data": {
            "image/png": "[encoded data removed]",
            "text/plain": [
              "<Figure size 432x288 with 1 Axes>"
            ]
          },
          "metadata": {
            "tags": []
          }
        }
      ]
    },
    {
      "cell_type": "markdown",
      "metadata": {
        "id": "VlmE6X-zLURR"
      },
      "source": [
        "ADAM UPDATE:\n",
        "1.it computes adaptive learning rates for each parameter and also,stores decaying average of past squared gradients.\n",
        "\n",
        "2.so,by this update we got less loss with less number of epochs.it is best compared to other two update types.\n"
      ]
    },
    {
      "cell_type": "markdown",
      "metadata": {
        "id": "Xn-c-8zUKHbM"
      },
      "source": [
        "CONCLUSION:\n",
        "\n",
        "1.we can notice a gradual improvent in finding less loss in less number of epochs in above gradient update techniques,the adam update which uses adaptive learning rates is better than momentum update which uses previous timestamp update vector,is inturn better than vannila update,which uses constant learning rate."
      ]
    }
  ]
}