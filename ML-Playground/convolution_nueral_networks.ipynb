{
  "cells": [
    {
      "cell_type": "code",
      "execution_count": null,
      "metadata": {
        "colab": {
          "base_uri": "https://localhost:8080/",
          "height": 34
        },
        "id": "glNv6sdZgJJP",
        "outputId": "a37d90da-26a6-4c61-c513-942a351a8c2c"
      },
      "outputs": [
        {
          "name": "stderr",
          "output_type": "stream",
          "text": [
            "Using TensorFlow backend.\n"
          ]
        }
      ],
      "source": [
        "from __future__ import print_function\n",
        "import keras\n",
        "from keras.datasets import mnist\n",
        "from keras.models import Sequential\n",
        "from keras.layers import Dense, Dropout, Flatten\n",
        "from keras.layers import Conv2D, MaxPooling2D\n",
        "from keras import backend as K\n",
        "\n",
        "from keras.initializers import RandomNormal,glorot_uniform,he_normal"
      ]
    },
    {
      "cell_type": "code",
      "execution_count": null,
      "metadata": {
        "id": "q0mYbbpmgNL-"
      },
      "outputs": [],
      "source": [
        "batch_size = 128\n",
        "num_classes = 10\n",
        "epochs = 20"
      ]
    },
    {
      "cell_type": "code",
      "execution_count": null,
      "metadata": {
        "id": "gkBQI4NsgNOt"
      },
      "outputs": [],
      "source": [
        "img_rows, img_cols = 28, 28"
      ]
    },
    {
      "cell_type": "code",
      "execution_count": null,
      "metadata": {
        "colab": {
          "base_uri": "https://localhost:8080/",
          "height": 105
        },
        "id": "zvGIf_bpgSG4",
        "outputId": "2834ea77-ef16-4ec6-ad11-572a365cc0e9"
      },
      "outputs": [
        {
          "name": "stdout",
          "output_type": "stream",
          "text": [
            "Downloading data from https://s3.amazonaws.com/img-datasets/mnist.npz\n",
            "11493376/11490434 [==============================] - 0s 0us/step\n",
            "x_train shape: (60000, 28, 28, 1)\n",
            "60000 train samples\n",
            "10000 test samples\n"
          ]
        }
      ],
      "source": [
        "(x_train, y_train), (x_test, y_test) = mnist.load_data()\n",
        "\n",
        "if K.image_data_format() == 'channels_first':\n",
        "    x_train = x_train.reshape(x_train.shape[0], 1, img_rows, img_cols)\n",
        "    x_test = x_test.reshape(x_test.shape[0], 1, img_rows, img_cols)\n",
        "    input_shape = (1, img_rows, img_cols)\n",
        "else:\n",
        "    x_train = x_train.reshape(x_train.shape[0], img_rows, img_cols, 1)\n",
        "    x_test = x_test.reshape(x_test.shape[0], img_rows, img_cols, 1)\n",
        "    input_shape = (img_rows, img_cols, 1)\n",
        "\n",
        "x_train = x_train.astype('float32')\n",
        "x_test = x_test.astype('float32')\n",
        "x_train /= 255\n",
        "x_test /= 255\n",
        "print('x_train shape:', x_train.shape)\n",
        "print(x_train.shape[0], 'train samples')\n",
        "print(x_test.shape[0], 'test samples')\n"
      ]
    },
    {
      "cell_type": "code",
      "execution_count": null,
      "metadata": {
        "id": "HtCcDvgRgSMY"
      },
      "outputs": [],
      "source": [
        "y_train = keras.utils.to_categorical(y_train, num_classes)\n",
        "y_test = keras.utils.to_categorical(y_test, num_classes)"
      ]
    },
    {
      "cell_type": "code",
      "execution_count": null,
      "metadata": {
        "colab": {
          "base_uri": "https://localhost:8080/",
          "height": 266
        },
        "id": "EIYQxXHzgdPo",
        "outputId": "08d5f018-2caf-4762-94ab-9d96ce597567"
      },
      "outputs": [
        {
          "name": "stdout",
          "output_type": "stream",
          "text": [
            "WARNING:tensorflow:From /usr/local/lib/python3.6/dist-packages/keras/backend/tensorflow_backend.py:66: The name tf.get_default_graph is deprecated. Please use tf.compat.v1.get_default_graph instead.\n",
            "\n",
            "WARNING:tensorflow:From /usr/local/lib/python3.6/dist-packages/keras/backend/tensorflow_backend.py:541: The name tf.placeholder is deprecated. Please use tf.compat.v1.placeholder instead.\n",
            "\n",
            "WARNING:tensorflow:From /usr/local/lib/python3.6/dist-packages/keras/backend/tensorflow_backend.py:4432: The name tf.random_uniform is deprecated. Please use tf.random.uniform instead.\n",
            "\n",
            "WARNING:tensorflow:From /usr/local/lib/python3.6/dist-packages/keras/backend/tensorflow_backend.py:4267: The name tf.nn.max_pool is deprecated. Please use tf.nn.max_pool2d instead.\n",
            "\n",
            "WARNING:tensorflow:From /usr/local/lib/python3.6/dist-packages/keras/backend/tensorflow_backend.py:148: The name tf.placeholder_with_default is deprecated. Please use tf.compat.v1.placeholder_with_default instead.\n",
            "\n",
            "WARNING:tensorflow:From /usr/local/lib/python3.6/dist-packages/keras/backend/tensorflow_backend.py:3733: calling dropout (from tensorflow.python.ops.nn_ops) with keep_prob is deprecated and will be removed in a future version.\n",
            "Instructions for updating:\n",
            "Please use `rate` instead of `keep_prob`. Rate should be set to `rate = 1 - keep_prob`.\n"
          ]
        }
      ],
      "source": [
        "model = Sequential()\n",
        "model.add(Conv2D(32, kernel_size=(3, 3),activation='relu',input_shape=input_shape))\n",
        "model.add(MaxPooling2D(pool_size=(2, 2)))\n",
        "model.add(Conv2D(64, (5, 5), activation='relu'))\n",
        "model.add(Dropout(0.4))\n",
        "model.add(Conv2D(64, (2, 2), activation='relu'))\n",
        "model.add(MaxPooling2D(pool_size=(2, 2)))\n",
        "model.add(Dropout(0.25))\n",
        "model.add(Flatten())\n",
        "model.add(Dense(128, activation='relu'))\n",
        "model.add(Dropout(0.5))\n",
        "model.add(Dense(num_classes, activation='softmax'))"
      ]
    },
    {
      "cell_type": "code",
      "execution_count": null,
      "metadata": {
        "colab": {
          "base_uri": "https://localhost:8080/",
          "height": 884
        },
        "id": "19-aQWgPgdYf",
        "outputId": "283fc482-569f-453d-d7ca-14af36c81a6d"
      },
      "outputs": [
        {
          "name": "stdout",
          "output_type": "stream",
          "text": [
            "WARNING:tensorflow:From /usr/local/lib/python3.6/dist-packages/keras/optimizers.py:793: The name tf.train.Optimizer is deprecated. Please use tf.compat.v1.train.Optimizer instead.\n",
            "\n",
            "WARNING:tensorflow:From /usr/local/lib/python3.6/dist-packages/keras/backend/tensorflow_backend.py:3576: The name tf.log is deprecated. Please use tf.math.log instead.\n",
            "\n",
            "WARNING:tensorflow:From /usr/local/lib/python3.6/dist-packages/tensorflow/python/ops/math_grad.py:1250: add_dispatch_support.<locals>.wrapper (from tensorflow.python.ops.array_ops) is deprecated and will be removed in a future version.\n",
            "Instructions for updating:\n",
            "Use tf.where in 2.0, which has the same broadcast rule as np.where\n",
            "Train on 60000 samples, validate on 10000 samples\n",
            "Epoch 1/20\n",
            "60000/60000 [==============================] - 77s 1ms/step - loss: 0.3653 - acc: 0.8839 - val_loss: 0.0733 - val_acc: 0.9776\n",
            "Epoch 2/20\n",
            "60000/60000 [==============================] - 76s 1ms/step - loss: 0.1235 - acc: 0.9626 - val_loss: 0.0465 - val_acc: 0.9851\n",
            "Epoch 3/20\n",
            "60000/60000 [==============================] - 76s 1ms/step - loss: 0.0870 - acc: 0.9747 - val_loss: 0.0340 - val_acc: 0.9894\n",
            "Epoch 4/20\n",
            "60000/60000 [==============================] - 76s 1ms/step - loss: 0.0704 - acc: 0.9790 - val_loss: 0.0318 - val_acc: 0.9889\n",
            "Epoch 5/20\n",
            "60000/60000 [==============================] - 76s 1ms/step - loss: 0.0609 - acc: 0.9816 - val_loss: 0.0280 - val_acc: 0.9900\n",
            "Epoch 6/20\n",
            "60000/60000 [==============================] - 76s 1ms/step - loss: 0.0560 - acc: 0.9831 - val_loss: 0.0240 - val_acc: 0.9929\n",
            "Epoch 7/20\n",
            "60000/60000 [==============================] - 76s 1ms/step - loss: 0.0481 - acc: 0.9858 - val_loss: 0.0227 - val_acc: 0.9924\n",
            "Epoch 8/20\n",
            "60000/60000 [==============================] - 77s 1ms/step - loss: 0.0456 - acc: 0.9865 - val_loss: 0.0236 - val_acc: 0.9916\n",
            "Epoch 9/20\n",
            "60000/60000 [==============================] - 77s 1ms/step - loss: 0.0428 - acc: 0.9874 - val_loss: 0.0225 - val_acc: 0.9929\n",
            "Epoch 10/20\n",
            "60000/60000 [==============================] - 77s 1ms/step - loss: 0.0379 - acc: 0.9881 - val_loss: 0.0231 - val_acc: 0.9921\n",
            "Epoch 11/20\n",
            "60000/60000 [==============================] - 77s 1ms/step - loss: 0.0367 - acc: 0.9886 - val_loss: 0.0185 - val_acc: 0.9943\n",
            "Epoch 12/20\n",
            "60000/60000 [==============================] - 77s 1ms/step - loss: 0.0346 - acc: 0.9896 - val_loss: 0.0202 - val_acc: 0.9938\n",
            "Epoch 13/20\n",
            "60000/60000 [==============================] - 76s 1ms/step - loss: 0.0325 - acc: 0.9903 - val_loss: 0.0173 - val_acc: 0.9949\n",
            "Epoch 14/20\n",
            "60000/60000 [==============================] - 76s 1ms/step - loss: 0.0303 - acc: 0.9909 - val_loss: 0.0181 - val_acc: 0.9944\n",
            "Epoch 15/20\n",
            "60000/60000 [==============================] - 76s 1ms/step - loss: 0.0292 - acc: 0.9912 - val_loss: 0.0173 - val_acc: 0.9939\n",
            "Epoch 16/20\n",
            "60000/60000 [==============================] - 77s 1ms/step - loss: 0.0282 - acc: 0.9912 - val_loss: 0.0162 - val_acc: 0.9957\n",
            "Epoch 17/20\n",
            "60000/60000 [==============================] - 76s 1ms/step - loss: 0.0274 - acc: 0.9922 - val_loss: 0.0172 - val_acc: 0.9936\n",
            "Epoch 18/20\n",
            "60000/60000 [==============================] - 77s 1ms/step - loss: 0.0280 - acc: 0.9919 - val_loss: 0.0153 - val_acc: 0.9948\n",
            "Epoch 19/20\n",
            "60000/60000 [==============================] - 77s 1ms/step - loss: 0.0247 - acc: 0.9928 - val_loss: 0.0218 - val_acc: 0.9930\n",
            "Epoch 20/20\n",
            "60000/60000 [==============================] - 77s 1ms/step - loss: 0.0268 - acc: 0.9918 - val_loss: 0.0149 - val_acc: 0.9950\n"
          ]
        },
        {
          "data": {
            "text/plain": [
              "<keras.callbacks.History at 0x7f3180faccc0>"
            ]
          },
          "execution_count": 8,
          "metadata": {
            "tags": []
          },
          "output_type": "execute_result"
        }
      ],
      "source": [
        "\n",
        "model.compile(loss=keras.losses.categorical_crossentropy, optimizer=keras.optimizers.Adadelta(),metrics=['accuracy'])\n",
        "\n",
        "model.fit(x_train, y_train,batch_size=batch_size,epochs=epochs,verbose=1,validation_data=(x_test, y_test))"
      ]
    },
    {
      "cell_type": "code",
      "execution_count": null,
      "metadata": {
        "id": "Qa_TRzBCNc2w"
      },
      "outputs": [],
      "source": [
        "%matplotlib notebook\n",
        "import matplotlib.pyplot as plt\n",
        "import numpy as np\n",
        "import time\n",
        "def plt_dynamic(x, vy, ty, ax, colors=['b']):\n",
        "    ax.plot(x, vy, 'b', label=\"Validation Loss\")\n",
        "    ax.plot(x, ty, 'r', label=\"Train Loss\")\n",
        "    plt.legend()\n",
        "    plt.grid()\n",
        "    fig.canvas.draw()"
      ]
    },
    {
      "cell_type": "code",
      "execution_count": null,
      "metadata": {
        "colab": {
          "base_uri": "https://localhost:8080/",
          "height": 318
        },
        "id": "7uKvrj6qInKz",
        "outputId": "95129878-217b-4409-de5f-087e3b650158"
      },
      "outputs": [
        {
          "name": "stdout",
          "output_type": "stream",
          "text": [
            "Test score: 0.014880029714351258\n",
            "Test accuracy: 0.995\n"
          ]
        },
        {
          "data": {
            "image/png": "[encoded data removed]",
            "text/plain": [
              "<Figure size 432x288 with 1 Axes>"
            ]
          },
          "metadata": {
            "tags": []
          },
          "output_type": "display_data"
        }
      ],
      "source": [
        "score = model.evaluate(x_test, y_test, verbose=0)\n",
        "print('Test score:', score[0])\n",
        "print('Test accuracy:', score[1])\n",
        "import matplotlib.pyplot as plt\n",
        "%matplotlib inline\n",
        "\n",
        "fig,ax = plt.subplots(1,1)\n",
        "ax.set_xlabel('epoch') ; ax.set_ylabel('Categorical Crossentropy Loss')\n",
        "\n",
        "\n",
        "x = list(range(1,epochs+1))\n",
        "vy = model.history.history['val_loss']\n",
        "ty = model.history.history['loss']\n",
        "plt_dynamic(x, vy, ty, ax)"
      ]
    },
    {
      "cell_type": "code",
      "execution_count": null,
      "metadata": {
        "id": "YsWugoF6jIB9"
      },
      "outputs": [],
      "source": [
        "batch_size = 100\n",
        "num_classes = 10\n",
        "epochs = 20"
      ]
    },
    {
      "cell_type": "code",
      "execution_count": null,
      "metadata": {
        "colab": {
          "base_uri": "https://localhost:8080/",
          "height": 72
        },
        "id": "RgMifonpjIFk",
        "outputId": "f25f4fcb-7738-4ad1-f4ae-2dd64cb2edd2"
      },
      "outputs": [
        {
          "name": "stdout",
          "output_type": "stream",
          "text": [
            "WARNING:tensorflow:From /usr/local/lib/python3.6/dist-packages/keras/backend/tensorflow_backend.py:2041: The name tf.nn.fused_batch_norm is deprecated. Please use tf.compat.v1.nn.fused_batch_norm instead.\n",
            "\n"
          ]
        }
      ],
      "source": [
        "from keras.layers.normalization import BatchNormalization\n",
        "\n",
        "model = Sequential()\n",
        "model.add(Conv2D(32, kernel_size=(3, 3),activation='relu',input_shape=input_shape))\n",
        "model.add(Conv2D(64, (5, 5), activation='relu'))\n",
        "model.add(Dropout(0.25))\n",
        "model.add(Conv2D(16, (2, 2), activation='relu'))\n",
        "model.add(MaxPooling2D(pool_size=(2, 2)))\n",
        "model.add(BatchNormalization())\n",
        "model.add(Conv2D(64, (3, 3), activation='relu'))\n",
        "model.add(BatchNormalization())\n",
        "model.add(Dropout(0.5))\n",
        "model.add(Conv2D(16, (2, 2), activation='relu'))\n",
        "model.add(MaxPooling2D(pool_size=(2, 2)))\n",
        "model.add(Dropout(0.25))\n",
        "model.add(Flatten())\n",
        "model.add(Dense(108, activation='relu'))\n",
        "model.add(Dropout(0.5))\n",
        "model.add(Dense(num_classes, activation='softmax'))"
      ]
    },
    {
      "cell_type": "code",
      "execution_count": null,
      "metadata": {
        "colab": {
          "base_uri": "https://localhost:8080/",
          "height": 743
        },
        "id": "pXrwYUC2jIJE",
        "outputId": "deea5692-60d6-403c-bd9a-4053a5ca28da"
      },
      "outputs": [
        {
          "name": "stdout",
          "output_type": "stream",
          "text": [
            "Train on 60000 samples, validate on 10000 samples\n",
            "Epoch 1/20\n",
            "60000/60000 [==============================] - 338s 6ms/step - loss: 0.8038 - acc: 0.7488 - val_loss: 0.0958 - val_acc: 0.9708\n",
            "Epoch 2/20\n",
            "60000/60000 [==============================] - 337s 6ms/step - loss: 0.2160 - acc: 0.9374 - val_loss: 0.0652 - val_acc: 0.9782\n",
            "Epoch 3/20\n",
            "60000/60000 [==============================] - 337s 6ms/step - loss: 0.1591 - acc: 0.9557 - val_loss: 0.0520 - val_acc: 0.9848\n",
            "Epoch 4/20\n",
            "60000/60000 [==============================] - 336s 6ms/step - loss: 0.1315 - acc: 0.9628 - val_loss: 0.0410 - val_acc: 0.9869\n",
            "Epoch 5/20\n",
            "60000/60000 [==============================] - 335s 6ms/step - loss: 0.1134 - acc: 0.9679 - val_loss: 0.0412 - val_acc: 0.9886\n",
            "Epoch 6/20\n",
            "60000/60000 [==============================] - 335s 6ms/step - loss: 0.0989 - acc: 0.9723 - val_loss: 0.0341 - val_acc: 0.9888\n",
            "Epoch 7/20\n",
            "60000/60000 [==============================] - 335s 6ms/step - loss: 0.0932 - acc: 0.9736 - val_loss: 0.0412 - val_acc: 0.9874\n",
            "Epoch 8/20\n",
            "60000/60000 [==============================] - 334s 6ms/step - loss: 0.0861 - acc: 0.9759 - val_loss: 0.0335 - val_acc: 0.9891\n",
            "Epoch 9/20\n",
            "60000/60000 [==============================] - 335s 6ms/step - loss: 0.0820 - acc: 0.9779 - val_loss: 0.0293 - val_acc: 0.9904\n",
            "Epoch 10/20\n",
            "60000/60000 [==============================] - 333s 6ms/step - loss: 0.0757 - acc: 0.9789 - val_loss: 0.0298 - val_acc: 0.9908\n",
            "Epoch 11/20\n",
            "60000/60000 [==============================] - 334s 6ms/step - loss: 0.0721 - acc: 0.9806 - val_loss: 0.0251 - val_acc: 0.9914\n",
            "Epoch 12/20\n",
            "60000/60000 [==============================] - 334s 6ms/step - loss: 0.0707 - acc: 0.9807 - val_loss: 0.0781 - val_acc: 0.9780\n",
            "Epoch 13/20\n",
            "60000/60000 [==============================] - 334s 6ms/step - loss: 0.0657 - acc: 0.9821 - val_loss: 0.0275 - val_acc: 0.9918\n",
            "Epoch 14/20\n",
            "60000/60000 [==============================] - 333s 6ms/step - loss: 0.0641 - acc: 0.9824 - val_loss: 0.0281 - val_acc: 0.9923\n",
            "Epoch 15/20\n",
            "60000/60000 [==============================] - 340s 6ms/step - loss: 0.0601 - acc: 0.9837 - val_loss: 0.0259 - val_acc: 0.9927\n",
            "Epoch 16/20\n",
            "60000/60000 [==============================] - 340s 6ms/step - loss: 0.0604 - acc: 0.9834 - val_loss: 0.0239 - val_acc: 0.9932\n",
            "Epoch 17/20\n",
            "60000/60000 [==============================] - 339s 6ms/step - loss: 0.0581 - acc: 0.9843 - val_loss: 0.0260 - val_acc: 0.9928\n",
            "Epoch 18/20\n",
            "60000/60000 [==============================] - 333s 6ms/step - loss: 0.0578 - acc: 0.9844 - val_loss: 0.0264 - val_acc: 0.9933\n",
            "Epoch 19/20\n",
            "60000/60000 [==============================] - 331s 6ms/step - loss: 0.0561 - acc: 0.9844 - val_loss: 0.0240 - val_acc: 0.9932\n",
            "Epoch 20/20\n",
            "60000/60000 [==============================] - 333s 6ms/step - loss: 0.0523 - acc: 0.9860 - val_loss: 0.0259 - val_acc: 0.9927\n"
          ]
        },
        {
          "data": {
            "text/plain": [
              "<keras.callbacks.History at 0x7f317b4106d8>"
            ]
          },
          "execution_count": 13,
          "metadata": {
            "tags": []
          },
          "output_type": "execute_result"
        }
      ],
      "source": [
        "model.compile(loss=keras.losses.categorical_crossentropy, optimizer=keras.optimizers.Adadelta(),metrics=['accuracy'])\n",
        "\n",
        "model.fit(x_train, y_train,batch_size=batch_size,epochs=epochs,verbose=1,validation_data=(x_test, y_test))"
      ]
    },
    {
      "cell_type": "code",
      "execution_count": null,
      "metadata": {
        "colab": {
          "base_uri": "https://localhost:8080/",
          "height": 318
        },
        "id": "j1Rl1OkQIuDL",
        "outputId": "b976510d-2783-42e8-c984-6b4be49f5f1b"
      },
      "outputs": [
        {
          "name": "stdout",
          "output_type": "stream",
          "text": [
            "Test score: 0.02594771668177127\n",
            "Test accuracy: 0.9927\n"
          ]
        },
        {
          "data": {
            "image/png": "[encoded data removed]",
            "text/plain": [
              "<Figure size 432x288 with 1 Axes>"
            ]
          },
          "metadata": {
            "tags": []
          },
          "output_type": "display_data"
        }
      ],
      "source": [
        "score = model.evaluate(x_test, y_test, verbose=0)\n",
        "print('Test score:', score[0])\n",
        "print('Test accuracy:', score[1])\n",
        "import matplotlib.pyplot as plt\n",
        "%matplotlib inline\n",
        "\n",
        "fig,ax = plt.subplots(1,1)\n",
        "ax.set_xlabel('epoch') ; ax.set_ylabel('Categorical Crossentropy Loss')\n",
        "\n",
        "\n",
        "x = list(range(1,epochs+1))\n",
        "vy = model.history.history['val_loss']\n",
        "ty = model.history.history['loss']\n",
        "plt_dynamic(x, vy, ty, ax)"
      ]
    },
    {
      "cell_type": "code",
      "execution_count": null,
      "metadata": {
        "id": "Cw6MXVZJkMtz"
      },
      "outputs": [],
      "source": [
        "batch_size = 120\n",
        "num_classes = 10\n",
        "epochs = 20"
      ]
    },
    {
      "cell_type": "code",
      "execution_count": null,
      "metadata": {
        "colab": {
          "base_uri": "https://localhost:8080/",
          "height": 512
        },
        "id": "h4miVGgNkMzF",
        "outputId": "d1cdbfa6-53e5-4eec-bca9-ad4d735656fd"
      },
      "outputs": [
        {
          "name": "stdout",
          "output_type": "stream",
          "text": [
            "WARNING:tensorflow:From /usr/local/lib/python3.6/dist-packages/keras/backend/tensorflow_backend.py:66: The name tf.get_default_graph is deprecated. Please use tf.compat.v1.get_default_graph instead.\n",
            "\n",
            "WARNING:tensorflow:From /usr/local/lib/python3.6/dist-packages/keras/backend/tensorflow_backend.py:541: The name tf.placeholder is deprecated. Please use tf.compat.v1.placeholder instead.\n",
            "\n",
            "WARNING:tensorflow:From /usr/local/lib/python3.6/dist-packages/keras/backend/tensorflow_backend.py:4432: The name tf.random_uniform is deprecated. Please use tf.random.uniform instead.\n",
            "\n",
            "WARNING:tensorflow:From /usr/local/lib/python3.6/dist-packages/keras/backend/tensorflow_backend.py:148: The name tf.placeholder_with_default is deprecated. Please use tf.compat.v1.placeholder_with_default instead.\n",
            "\n",
            "WARNING:tensorflow:From /usr/local/lib/python3.6/dist-packages/keras/backend/tensorflow_backend.py:3733: calling dropout (from tensorflow.python.ops.nn_ops) with keep_prob is deprecated and will be removed in a future version.\n",
            "Instructions for updating:\n",
            "Please use `rate` instead of `keep_prob`. Rate should be set to `rate = 1 - keep_prob`.\n",
            "WARNING:tensorflow:From /usr/local/lib/python3.6/dist-packages/keras/backend/tensorflow_backend.py:190: The name tf.get_default_session is deprecated. Please use tf.compat.v1.get_default_session instead.\n",
            "\n",
            "WARNING:tensorflow:From /usr/local/lib/python3.6/dist-packages/keras/backend/tensorflow_backend.py:197: The name tf.ConfigProto is deprecated. Please use tf.compat.v1.ConfigProto instead.\n",
            "\n",
            "WARNING:tensorflow:From /usr/local/lib/python3.6/dist-packages/keras/backend/tensorflow_backend.py:203: The name tf.Session is deprecated. Please use tf.compat.v1.Session instead.\n",
            "\n",
            "WARNING:tensorflow:From /usr/local/lib/python3.6/dist-packages/keras/backend/tensorflow_backend.py:207: The name tf.global_variables is deprecated. Please use tf.compat.v1.global_variables instead.\n",
            "\n",
            "WARNING:tensorflow:From /usr/local/lib/python3.6/dist-packages/keras/backend/tensorflow_backend.py:216: The name tf.is_variable_initialized is deprecated. Please use tf.compat.v1.is_variable_initialized instead.\n",
            "\n",
            "WARNING:tensorflow:From /usr/local/lib/python3.6/dist-packages/keras/backend/tensorflow_backend.py:223: The name tf.variables_initializer is deprecated. Please use tf.compat.v1.variables_initializer instead.\n",
            "\n",
            "WARNING:tensorflow:From /usr/local/lib/python3.6/dist-packages/keras/backend/tensorflow_backend.py:2041: The name tf.nn.fused_batch_norm is deprecated. Please use tf.compat.v1.nn.fused_batch_norm instead.\n",
            "\n",
            "WARNING:tensorflow:From /usr/local/lib/python3.6/dist-packages/keras/backend/tensorflow_backend.py:4267: The name tf.nn.max_pool is deprecated. Please use tf.nn.max_pool2d instead.\n",
            "\n"
          ]
        }
      ],
      "source": [
        "from keras.layers.normalization import BatchNormalization\n",
        "\n",
        "model = Sequential()\n",
        "model.add(Conv2D(32, kernel_size=(3, 3),activation='relu',input_shape=input_shape))\n",
        "model.add(Dropout(0.25))\n",
        "model.add(Conv2D(64, (2, 2), activation='relu'))\n",
        "model.add(Dropout(0.5))\n",
        "model.add(Conv2D(16, (2, 2), activation='relu'))\n",
        "model.add(BatchNormalization())\n",
        "model.add(Conv2D(64, (3, 3), activation='relu'))\n",
        "model.add(Conv2D(32, (5, 5), activation='relu'))\n",
        "model.add(MaxPooling2D(pool_size=(2, 2)))\n",
        "model.add(Conv2D(16, (2, 2), activation='relu'))\n",
        "model.add(MaxPooling2D(pool_size=(2, 2)))\n",
        "model.add(Conv2D(32, (3, 3), activation='relu'))\n",
        "model.add(Dropout(0.5))\n",
        "model.add(Flatten())\n",
        "model.add(Dense(108, activation='relu'))\n",
        "model.add(Dropout(0.25))\n",
        "model.add(Dense(num_classes, activation='softmax'))"
      ]
    },
    {
      "cell_type": "code",
      "execution_count": null,
      "metadata": {
        "colab": {
          "base_uri": "https://localhost:8080/",
          "height": 970
        },
        "id": "4ZnlkjAe2ebi",
        "outputId": "07bb1607-733f-432b-a41e-af567789dcb6"
      },
      "outputs": [
        {
          "name": "stdout",
          "output_type": "stream",
          "text": [
            "WARNING:tensorflow:From /usr/local/lib/python3.6/dist-packages/keras/optimizers.py:793: The name tf.train.Optimizer is deprecated. Please use tf.compat.v1.train.Optimizer instead.\n",
            "\n",
            "WARNING:tensorflow:From /usr/local/lib/python3.6/dist-packages/keras/backend/tensorflow_backend.py:3576: The name tf.log is deprecated. Please use tf.math.log instead.\n",
            "\n",
            "WARNING:tensorflow:From /usr/local/lib/python3.6/dist-packages/tensorflow_core/python/ops/math_grad.py:1424: where (from tensorflow.python.ops.array_ops) is deprecated and will be removed in a future version.\n",
            "Instructions for updating:\n",
            "Use tf.where in 2.0, which has the same broadcast rule as np.where\n",
            "WARNING:tensorflow:From /usr/local/lib/python3.6/dist-packages/keras/backend/tensorflow_backend.py:1033: The name tf.assign_add is deprecated. Please use tf.compat.v1.assign_add instead.\n",
            "\n",
            "WARNING:tensorflow:From /usr/local/lib/python3.6/dist-packages/keras/backend/tensorflow_backend.py:1020: The name tf.assign is deprecated. Please use tf.compat.v1.assign instead.\n",
            "\n",
            "Train on 60000 samples, validate on 10000 samples\n",
            "Epoch 1/20\n",
            "60000/60000 [==============================] - 593s 10ms/step - loss: 13.3138 - acc: 0.1292 - val_loss: 14.4918 - val_acc: 0.1009\n",
            "Epoch 2/20\n",
            "60000/60000 [==============================] - 597s 10ms/step - loss: 14.0866 - acc: 0.1260 - val_loss: 14.3282 - val_acc: 0.1108\n",
            "Epoch 3/20\n",
            "60000/60000 [==============================] - 587s 10ms/step - loss: 13.7995 - acc: 0.1438 - val_loss: 12.7897 - val_acc: 0.2065\n",
            "Epoch 4/20\n",
            "60000/60000 [==============================] - 578s 10ms/step - loss: 13.7044 - acc: 0.1496 - val_loss: 12.6945 - val_acc: 0.2124\n",
            "Epoch 5/20\n",
            "60000/60000 [==============================] - 598s 10ms/step - loss: 13.6083 - acc: 0.1557 - val_loss: 12.8623 - val_acc: 0.2020\n",
            "Epoch 6/20\n",
            "60000/60000 [==============================] - 593s 10ms/step - loss: 13.6038 - acc: 0.1560 - val_loss: 12.6694 - val_acc: 0.2139\n",
            "Epoch 7/20\n",
            "60000/60000 [==============================] - 577s 10ms/step - loss: 13.6020 - acc: 0.1561 - val_loss: 12.3965 - val_acc: 0.2308\n",
            "Epoch 8/20\n",
            "60000/60000 [==============================] - 577s 10ms/step - loss: 13.5792 - acc: 0.1575 - val_loss: 12.4638 - val_acc: 0.2267\n",
            "Epoch 9/20\n",
            "60000/60000 [==============================] - 577s 10ms/step - loss: 13.4836 - acc: 0.1634 - val_loss: 12.6892 - val_acc: 0.2127\n",
            "Epoch 10/20\n",
            "60000/60000 [==============================] - 584s 10ms/step - loss: 13.3923 - acc: 0.1691 - val_loss: 13.0782 - val_acc: 0.1886\n",
            "Epoch 11/20\n",
            "60000/60000 [==============================] - 593s 10ms/step - loss: 13.5346 - acc: 0.1603 - val_loss: 13.1362 - val_acc: 0.1850\n",
            "Epoch 12/20\n",
            "60000/60000 [==============================] - 597s 10ms/step - loss: 13.5414 - acc: 0.1599 - val_loss: 13.6820 - val_acc: 0.1511\n",
            "Epoch 13/20\n",
            "60000/60000 [==============================] - 595s 10ms/step - loss: 13.4764 - acc: 0.1639 - val_loss: 13.4074 - val_acc: 0.1681\n",
            "Epoch 14/20\n",
            "60000/60000 [==============================] - 593s 10ms/step - loss: 13.4267 - acc: 0.1670 - val_loss: 13.0625 - val_acc: 0.1895\n",
            "Epoch 15/20\n",
            "60000/60000 [==============================] - 602s 10ms/step - loss: 13.4328 - acc: 0.1666 - val_loss: 13.2555 - val_acc: 0.1776\n",
            "Epoch 16/20\n",
            "60000/60000 [==============================] - 599s 10ms/step - loss: 13.3341 - acc: 0.1727 - val_loss: 13.0537 - val_acc: 0.1900\n",
            "Epoch 17/20\n",
            "60000/60000 [==============================] - 592s 10ms/step - loss: 13.2756 - acc: 0.1763 - val_loss: 13.3377 - val_acc: 0.1725\n",
            "Epoch 18/20\n",
            "60000/60000 [==============================] - 539s 9ms/step - loss: 13.3256 - acc: 0.1733 - val_loss: 13.3045 - val_acc: 0.1745\n",
            "Epoch 19/20\n",
            "60000/60000 [==============================] - 529s 9ms/step - loss: 13.2994 - acc: 0.1749 - val_loss: 13.4409 - val_acc: 0.1661\n",
            "Epoch 20/20\n",
            "60000/60000 [==============================] - 548s 9ms/step - loss: 13.4245 - acc: 0.1671 - val_loss: 13.3603 - val_acc: 0.1711\n"
          ]
        },
        {
          "data": {
            "text/plain": [
              "<keras.callbacks.History at 0x7fe3fe9d3e10>"
            ]
          },
          "execution_count": 8,
          "metadata": {
            "tags": []
          },
          "output_type": "execute_result"
        }
      ],
      "source": [
        "model.compile(loss=keras.losses.categorical_crossentropy, optimizer=keras.optimizers.Adadelta(),metrics=['accuracy'])\n",
        "\n",
        "model.fit(x_train, y_train,batch_size=batch_size,epochs=epochs,verbose=1,validation_data=(x_test, y_test))"
      ]
    },
    {
      "cell_type": "code",
      "execution_count": null,
      "metadata": {
        "colab": {
          "base_uri": "https://localhost:8080/",
          "height": 318
        },
        "id": "tgo0irCJI-X_",
        "outputId": "32b7db5c-b53e-4fd6-a4c8-f493df7d39a4"
      },
      "outputs": [
        {
          "name": "stdout",
          "output_type": "stream",
          "text": [
            "Test score: 13.36028929901123\n",
            "Test accuracy: 0.1711\n"
          ]
        },
        {
          "data": {
            "image/png": "[encoded data removed]",
            "text/plain": [
              "<Figure size 432x288 with 1 Axes>"
            ]
          },
          "metadata": {
            "tags": []
          },
          "output_type": "display_data"
        }
      ],
      "source": [
        "score = model.evaluate(x_test, y_test, verbose=0)\n",
        "print('Test score:', score[0])\n",
        "print('Test accuracy:', score[1])\n",
        "import matplotlib.pyplot as plt\n",
        "%matplotlib inline\n",
        "\n",
        "fig,ax = plt.subplots(1,1)\n",
        "ax.set_xlabel('epoch') ; ax.set_ylabel('Categorical Crossentropy Loss')\n",
        "\n",
        "\n",
        "x = list(range(1,epochs+1))\n",
        "vy = model.history.history['val_loss']\n",
        "ty = model.history.history['loss']\n",
        "plt_dynamic(x, vy, ty, ax)"
      ]
    },
    {
      "cell_type": "code",
      "execution_count": null,
      "metadata": {
        "id": "SsIqN8y0eduC"
      },
      "outputs": [],
      "source": [
        "batch_size = 128\n",
        "num_classes = 10\n",
        "epochs = 20"
      ]
    },
    {
      "cell_type": "code",
      "execution_count": null,
      "metadata": {
        "colab": {
          "base_uri": "https://localhost:8080/",
          "height": 406
        },
        "id": "93lvCKnm5zuX",
        "outputId": "98e66b8c-94ba-4938-fdc5-6ae01fc45409"
      },
      "outputs": [
        {
          "name": "stdout",
          "output_type": "stream",
          "text": [
            "WARNING:tensorflow:From /usr/local/lib/python3.6/dist-packages/keras/backend/tensorflow_backend.py:4479: The name tf.truncated_normal is deprecated. Please use tf.random.truncated_normal instead.\n",
            "\n",
            "WARNING:tensorflow:From /usr/local/lib/python3.6/dist-packages/keras/backend/tensorflow_backend.py:190: The name tf.get_default_session is deprecated. Please use tf.compat.v1.get_default_session instead.\n",
            "\n",
            "WARNING:tensorflow:From /usr/local/lib/python3.6/dist-packages/keras/backend/tensorflow_backend.py:197: The name tf.ConfigProto is deprecated. Please use tf.compat.v1.ConfigProto instead.\n",
            "\n",
            "WARNING:tensorflow:From /usr/local/lib/python3.6/dist-packages/keras/backend/tensorflow_backend.py:203: The name tf.Session is deprecated. Please use tf.compat.v1.Session instead.\n",
            "\n",
            "WARNING:tensorflow:From /usr/local/lib/python3.6/dist-packages/keras/backend/tensorflow_backend.py:207: The name tf.global_variables is deprecated. Please use tf.compat.v1.global_variables instead.\n",
            "\n",
            "WARNING:tensorflow:From /usr/local/lib/python3.6/dist-packages/keras/backend/tensorflow_backend.py:216: The name tf.is_variable_initialized is deprecated. Please use tf.compat.v1.is_variable_initialized instead.\n",
            "\n",
            "WARNING:tensorflow:From /usr/local/lib/python3.6/dist-packages/keras/backend/tensorflow_backend.py:223: The name tf.variables_initializer is deprecated. Please use tf.compat.v1.variables_initializer instead.\n",
            "\n",
            "WARNING:tensorflow:From /usr/local/lib/python3.6/dist-packages/keras/backend/tensorflow_backend.py:2041: The name tf.nn.fused_batch_norm is deprecated. Please use tf.compat.v1.nn.fused_batch_norm instead.\n",
            "\n",
            "WARNING:tensorflow:From /usr/local/lib/python3.6/dist-packages/keras/backend/tensorflow_backend.py:148: The name tf.placeholder_with_default is deprecated. Please use tf.compat.v1.placeholder_with_default instead.\n",
            "\n",
            "WARNING:tensorflow:From /usr/local/lib/python3.6/dist-packages/keras/backend/tensorflow_backend.py:3733: calling dropout (from tensorflow.python.ops.nn_ops) with keep_prob is deprecated and will be removed in a future version.\n",
            "Instructions for updating:\n",
            "Please use `rate` instead of `keep_prob`. Rate should be set to `rate = 1 - keep_prob`.\n"
          ]
        }
      ],
      "source": [
        "from keras.layers.normalization import BatchNormalization\n",
        "\n",
        "model = Sequential()\n",
        "model.add(Conv2D(32, kernel_size=(3, 3),activation='relu',input_shape=input_shape))\n",
        "model.add(MaxPooling2D(pool_size=(2, 2)))\n",
        "model.add(Conv2D(64, (5, 5), activation='sigmoid',kernel_initializer=he_normal(seed=None)))\n",
        "model.add(BatchNormalization())\n",
        "model.add(Conv2D(64, (2, 2), activation='sigmoid',kernel_initializer=glorot_uniform(seed=None)))\n",
        "model.add(Flatten())\n",
        "model.add(Dense(128, activation='relu',kernel_initializer=he_normal(seed=None)))\n",
        "model.add(Dropout(0.5))\n",
        "model.add(Dense(num_classes, activation='softmax'))"
      ]
    },
    {
      "cell_type": "code",
      "execution_count": null,
      "metadata": {
        "colab": {
          "base_uri": "https://localhost:8080/",
          "height": 970
        },
        "id": "QzPTvwVJ8Hyc",
        "outputId": "f2c5f419-2ad6-41a8-b085-80a29883df1a"
      },
      "outputs": [
        {
          "name": "stdout",
          "output_type": "stream",
          "text": [
            "WARNING:tensorflow:From /usr/local/lib/python3.6/dist-packages/keras/optimizers.py:793: The name tf.train.Optimizer is deprecated. Please use tf.compat.v1.train.Optimizer instead.\n",
            "\n",
            "WARNING:tensorflow:From /usr/local/lib/python3.6/dist-packages/keras/backend/tensorflow_backend.py:3576: The name tf.log is deprecated. Please use tf.math.log instead.\n",
            "\n",
            "WARNING:tensorflow:From /usr/local/lib/python3.6/dist-packages/tensorflow_core/python/ops/math_grad.py:1424: where (from tensorflow.python.ops.array_ops) is deprecated and will be removed in a future version.\n",
            "Instructions for updating:\n",
            "Use tf.where in 2.0, which has the same broadcast rule as np.where\n",
            "WARNING:tensorflow:From /usr/local/lib/python3.6/dist-packages/keras/backend/tensorflow_backend.py:1033: The name tf.assign_add is deprecated. Please use tf.compat.v1.assign_add instead.\n",
            "\n",
            "WARNING:tensorflow:From /usr/local/lib/python3.6/dist-packages/keras/backend/tensorflow_backend.py:1020: The name tf.assign is deprecated. Please use tf.compat.v1.assign instead.\n",
            "\n",
            "Train on 60000 samples, validate on 10000 samples\n",
            "Epoch 1/20\n",
            "60000/60000 [==============================] - 86s 1ms/step - loss: 0.7448 - acc: 0.8641 - val_loss: 0.1046 - val_acc: 0.9673\n",
            "Epoch 2/20\n",
            "60000/60000 [==============================] - 86s 1ms/step - loss: 0.1889 - acc: 0.9462 - val_loss: 0.0663 - val_acc: 0.9802\n",
            "Epoch 3/20\n",
            "60000/60000 [==============================] - 86s 1ms/step - loss: 0.1552 - acc: 0.9570 - val_loss: 0.0557 - val_acc: 0.9827\n",
            "Epoch 4/20\n",
            "60000/60000 [==============================] - 86s 1ms/step - loss: 0.1340 - acc: 0.9637 - val_loss: 0.0528 - val_acc: 0.9837\n",
            "Epoch 5/20\n",
            "60000/60000 [==============================] - 85s 1ms/step - loss: 0.1213 - acc: 0.9658 - val_loss: 0.0446 - val_acc: 0.9858\n",
            "Epoch 6/20\n",
            "60000/60000 [==============================] - 86s 1ms/step - loss: 0.1143 - acc: 0.9681 - val_loss: 0.0428 - val_acc: 0.9865\n",
            "Epoch 7/20\n",
            "60000/60000 [==============================] - 86s 1ms/step - loss: 0.1047 - acc: 0.9716 - val_loss: 0.0425 - val_acc: 0.9864\n",
            "Epoch 8/20\n",
            "60000/60000 [==============================] - 86s 1ms/step - loss: 0.1004 - acc: 0.9726 - val_loss: 0.0389 - val_acc: 0.9874\n",
            "Epoch 9/20\n",
            "60000/60000 [==============================] - 86s 1ms/step - loss: 0.0931 - acc: 0.9739 - val_loss: 0.0379 - val_acc: 0.9870\n",
            "Epoch 10/20\n",
            "60000/60000 [==============================] - 85s 1ms/step - loss: 0.0900 - acc: 0.9747 - val_loss: 0.0382 - val_acc: 0.9881\n",
            "Epoch 11/20\n",
            "60000/60000 [==============================] - 86s 1ms/step - loss: 0.0882 - acc: 0.9759 - val_loss: 0.0426 - val_acc: 0.9855\n",
            "Epoch 12/20\n",
            "60000/60000 [==============================] - 86s 1ms/step - loss: 0.0794 - acc: 0.9775 - val_loss: 0.0326 - val_acc: 0.9896\n",
            "Epoch 13/20\n",
            "60000/60000 [==============================] - 85s 1ms/step - loss: 0.0767 - acc: 0.9791 - val_loss: 0.0321 - val_acc: 0.9895\n",
            "Epoch 14/20\n",
            "60000/60000 [==============================] - 86s 1ms/step - loss: 0.0771 - acc: 0.9781 - val_loss: 0.0318 - val_acc: 0.9889\n",
            "Epoch 15/20\n",
            "60000/60000 [==============================] - 86s 1ms/step - loss: 0.0749 - acc: 0.9796 - val_loss: 0.0312 - val_acc: 0.9894\n",
            "Epoch 16/20\n",
            "60000/60000 [==============================] - 86s 1ms/step - loss: 0.0712 - acc: 0.9796 - val_loss: 0.0317 - val_acc: 0.9889\n",
            "Epoch 17/20\n",
            "60000/60000 [==============================] - 85s 1ms/step - loss: 0.0689 - acc: 0.9815 - val_loss: 0.0308 - val_acc: 0.9903\n",
            "Epoch 18/20\n",
            "60000/60000 [==============================] - 85s 1ms/step - loss: 0.0680 - acc: 0.9807 - val_loss: 0.0304 - val_acc: 0.9907\n",
            "Epoch 19/20\n",
            "60000/60000 [==============================] - 85s 1ms/step - loss: 0.0647 - acc: 0.9822 - val_loss: 0.0309 - val_acc: 0.9896\n",
            "Epoch 20/20\n",
            "60000/60000 [==============================] - 85s 1ms/step - loss: 0.0645 - acc: 0.9819 - val_loss: 0.0296 - val_acc: 0.9899\n"
          ]
        },
        {
          "data": {
            "text/plain": [
              "<keras.callbacks.History at 0x7ff5cb819b38>"
            ]
          },
          "execution_count": 10,
          "metadata": {
            "tags": []
          },
          "output_type": "execute_result"
        }
      ],
      "source": [
        "model.compile(loss=keras.losses.categorical_crossentropy, optimizer=keras.optimizers.Adagrad(),metrics=['accuracy'])\n",
        "\n",
        "model.fit(x_train, y_train,batch_size=batch_size,epochs=epochs,verbose=1,validation_data=(x_test, y_test))"
      ]
    },
    {
      "cell_type": "code",
      "execution_count": null,
      "metadata": {
        "colab": {
          "base_uri": "https://localhost:8080/",
          "height": 318
        },
        "id": "Jxt8l9hu8H6I",
        "outputId": "05e887ab-fcaf-426a-b367-edd7b757a373"
      },
      "outputs": [
        {
          "name": "stdout",
          "output_type": "stream",
          "text": [
            "Test score: 0.029566198530299154\n",
            "Test accuracy: 0.9899\n"
          ]
        },
        {
          "data": {
            "image/png": "[encoded data removed]",
            "text/plain": [
              "<Figure size 432x288 with 1 Axes>"
            ]
          },
          "metadata": {
            "tags": []
          },
          "output_type": "display_data"
        }
      ],
      "source": [
        "score = model.evaluate(x_test, y_test, verbose=0)\n",
        "print('Test score:', score[0])\n",
        "print('Test accuracy:', score[1])\n",
        "import matplotlib.pyplot as plt\n",
        "%matplotlib inline\n",
        "\n",
        "fig,ax = plt.subplots(1,1)\n",
        "ax.set_xlabel('epoch') ; ax.set_ylabel('Categorical Crossentropy Loss')\n",
        "\n",
        "\n",
        "x = list(range(1,epochs+1))\n",
        "vy = model.history.history['val_loss']\n",
        "ty = model.history.history['loss']\n",
        "plt_dynamic(x, vy, ty, ax)"
      ]
    },
    {
      "cell_type": "code",
      "execution_count": null,
      "metadata": {
        "id": "uW5BJJevejsr"
      },
      "outputs": [],
      "source": [
        "batch_size = 100\n",
        "num_classes = 10\n",
        "epochs = 20"
      ]
    },
    {
      "cell_type": "code",
      "execution_count": null,
      "metadata": {
        "colab": {
          "base_uri": "https://localhost:8080/",
          "height": 547
        },
        "id": "kHE5N8kg8H_u",
        "outputId": "fd155552-9ff3-4593-a8a7-62018b9a6e16"
      },
      "outputs": [
        {
          "name": "stdout",
          "output_type": "stream",
          "text": [
            "WARNING:tensorflow:From /usr/local/lib/python3.6/dist-packages/keras/backend/tensorflow_backend.py:66: The name tf.get_default_graph is deprecated. Please use tf.compat.v1.get_default_graph instead.\n",
            "\n",
            "WARNING:tensorflow:From /usr/local/lib/python3.6/dist-packages/keras/backend/tensorflow_backend.py:541: The name tf.placeholder is deprecated. Please use tf.compat.v1.placeholder instead.\n",
            "\n",
            "WARNING:tensorflow:From /usr/local/lib/python3.6/dist-packages/keras/backend/tensorflow_backend.py:4432: The name tf.random_uniform is deprecated. Please use tf.random.uniform instead.\n",
            "\n",
            "WARNING:tensorflow:From /usr/local/lib/python3.6/dist-packages/keras/backend/tensorflow_backend.py:4479: The name tf.truncated_normal is deprecated. Please use tf.random.truncated_normal instead.\n",
            "\n",
            "WARNING:tensorflow:From /usr/local/lib/python3.6/dist-packages/keras/backend/tensorflow_backend.py:190: The name tf.get_default_session is deprecated. Please use tf.compat.v1.get_default_session instead.\n",
            "\n",
            "WARNING:tensorflow:From /usr/local/lib/python3.6/dist-packages/keras/backend/tensorflow_backend.py:197: The name tf.ConfigProto is deprecated. Please use tf.compat.v1.ConfigProto instead.\n",
            "\n",
            "WARNING:tensorflow:From /usr/local/lib/python3.6/dist-packages/keras/backend/tensorflow_backend.py:203: The name tf.Session is deprecated. Please use tf.compat.v1.Session instead.\n",
            "\n",
            "WARNING:tensorflow:From /usr/local/lib/python3.6/dist-packages/keras/backend/tensorflow_backend.py:207: The name tf.global_variables is deprecated. Please use tf.compat.v1.global_variables instead.\n",
            "\n",
            "WARNING:tensorflow:From /usr/local/lib/python3.6/dist-packages/keras/backend/tensorflow_backend.py:216: The name tf.is_variable_initialized is deprecated. Please use tf.compat.v1.is_variable_initialized instead.\n",
            "\n",
            "WARNING:tensorflow:From /usr/local/lib/python3.6/dist-packages/keras/backend/tensorflow_backend.py:223: The name tf.variables_initializer is deprecated. Please use tf.compat.v1.variables_initializer instead.\n",
            "\n",
            "WARNING:tensorflow:From /usr/local/lib/python3.6/dist-packages/keras/backend/tensorflow_backend.py:2041: The name tf.nn.fused_batch_norm is deprecated. Please use tf.compat.v1.nn.fused_batch_norm instead.\n",
            "\n",
            "WARNING:tensorflow:From /usr/local/lib/python3.6/dist-packages/keras/backend/tensorflow_backend.py:148: The name tf.placeholder_with_default is deprecated. Please use tf.compat.v1.placeholder_with_default instead.\n",
            "\n",
            "WARNING:tensorflow:From /usr/local/lib/python3.6/dist-packages/keras/backend/tensorflow_backend.py:4267: The name tf.nn.max_pool is deprecated. Please use tf.nn.max_pool2d instead.\n",
            "\n",
            "WARNING:tensorflow:From /usr/local/lib/python3.6/dist-packages/keras/backend/tensorflow_backend.py:3733: calling dropout (from tensorflow.python.ops.nn_ops) with keep_prob is deprecated and will be removed in a future version.\n",
            "Instructions for updating:\n",
            "Please use `rate` instead of `keep_prob`. Rate should be set to `rate = 1 - keep_prob`.\n"
          ]
        }
      ],
      "source": [
        "from keras.layers.normalization import BatchNormalization\n",
        "\n",
        "model = Sequential()\n",
        "model.add(Conv2D(32, kernel_size=(3, 3),activation='relu',input_shape=input_shape))\n",
        "model.add(Conv2D(64, (5, 5), activation='relu'))\n",
        "model.add(Conv2D(16, (2, 2), activation='softmax',kernel_initializer=he_normal(seed=None)))\n",
        "model.add(BatchNormalization())\n",
        "model.add(Conv2D(64, (3, 3), activation='relu',kernel_initializer=glorot_uniform(seed=None)))\n",
        "model.add(BatchNormalization())\n",
        "model.add(Conv2D(16, (2, 2), activation='softmax',kernel_initializer=he_normal(seed=None)))\n",
        "model.add(MaxPooling2D(pool_size=(2, 2)))\n",
        "model.add(Flatten())\n",
        "model.add(Dense(108, activation='softmax'))\n",
        "model.add(Dropout(0.5))\n",
        "model.add(Dense(num_classes, activation='softmax'))"
      ]
    },
    {
      "cell_type": "code",
      "execution_count": null,
      "metadata": {
        "colab": {
          "base_uri": "https://localhost:8080/",
          "height": 970
        },
        "id": "wa_5XS01lgqD",
        "outputId": "c9b7cbc9-85c5-416a-8cb7-8ac043bef3bd"
      },
      "outputs": [
        {
          "name": "stdout",
          "output_type": "stream",
          "text": [
            "WARNING:tensorflow:From /usr/local/lib/python3.6/dist-packages/keras/optimizers.py:793: The name tf.train.Optimizer is deprecated. Please use tf.compat.v1.train.Optimizer instead.\n",
            "\n",
            "WARNING:tensorflow:From /usr/local/lib/python3.6/dist-packages/keras/backend/tensorflow_backend.py:3576: The name tf.log is deprecated. Please use tf.math.log instead.\n",
            "\n",
            "WARNING:tensorflow:From /usr/local/lib/python3.6/dist-packages/tensorflow_core/python/ops/math_grad.py:1424: where (from tensorflow.python.ops.array_ops) is deprecated and will be removed in a future version.\n",
            "Instructions for updating:\n",
            "Use tf.where in 2.0, which has the same broadcast rule as np.where\n",
            "WARNING:tensorflow:From /usr/local/lib/python3.6/dist-packages/keras/backend/tensorflow_backend.py:1033: The name tf.assign_add is deprecated. Please use tf.compat.v1.assign_add instead.\n",
            "\n",
            "WARNING:tensorflow:From /usr/local/lib/python3.6/dist-packages/keras/backend/tensorflow_backend.py:1020: The name tf.assign is deprecated. Please use tf.compat.v1.assign instead.\n",
            "\n",
            "Train on 60000 samples, validate on 10000 samples\n",
            "Epoch 1/20\n",
            "60000/60000 [==============================] - 471s 8ms/step - loss: 1.6993 - acc: 0.5738 - val_loss: 1.1953 - val_acc: 0.9780\n",
            "Epoch 2/20\n",
            "60000/60000 [==============================] - 470s 8ms/step - loss: 1.3000 - acc: 0.5541 - val_loss: 0.8264 - val_acc: 0.9855\n",
            "Epoch 3/20\n",
            "60000/60000 [==============================] - 468s 8ms/step - loss: 1.2232 - acc: 0.5642 - val_loss: 0.6865 - val_acc: 0.9889\n",
            "Epoch 4/20\n",
            "60000/60000 [==============================] - 471s 8ms/step - loss: 1.1482 - acc: 0.6047 - val_loss: 0.5421 - val_acc: 0.9866\n",
            "Epoch 5/20\n",
            "60000/60000 [==============================] - 473s 8ms/step - loss: 1.0363 - acc: 0.6434 - val_loss: 0.4023 - val_acc: 0.9885\n",
            "Epoch 6/20\n",
            "60000/60000 [==============================] - 475s 8ms/step - loss: 0.9638 - acc: 0.6723 - val_loss: 0.3129 - val_acc: 0.9894\n",
            "Epoch 7/20\n",
            "60000/60000 [==============================] - 471s 8ms/step - loss: 0.8923 - acc: 0.7029 - val_loss: 0.2605 - val_acc: 0.9880\n",
            "Epoch 8/20\n",
            "60000/60000 [==============================] - 470s 8ms/step - loss: 0.8346 - acc: 0.7214 - val_loss: 0.1882 - val_acc: 0.9902\n",
            "Epoch 9/20\n",
            "60000/60000 [==============================] - 470s 8ms/step - loss: 0.8064 - acc: 0.7204 - val_loss: 0.1507 - val_acc: 0.9897\n",
            "Epoch 10/20\n",
            "60000/60000 [==============================] - 470s 8ms/step - loss: 0.7776 - acc: 0.7322 - val_loss: 0.1424 - val_acc: 0.9899\n",
            "Epoch 11/20\n",
            "60000/60000 [==============================] - 469s 8ms/step - loss: 0.7405 - acc: 0.7475 - val_loss: 0.1046 - val_acc: 0.9923\n",
            "Epoch 12/20\n",
            "60000/60000 [==============================] - 470s 8ms/step - loss: 0.6927 - acc: 0.7691 - val_loss: 0.0993 - val_acc: 0.9910\n",
            "Epoch 13/20\n",
            "60000/60000 [==============================] - 468s 8ms/step - loss: 0.6334 - acc: 0.7757 - val_loss: 0.0841 - val_acc: 0.9912\n",
            "Epoch 14/20\n",
            "60000/60000 [==============================] - 468s 8ms/step - loss: 0.6060 - acc: 0.7876 - val_loss: 0.0697 - val_acc: 0.9913\n",
            "Epoch 15/20\n",
            "60000/60000 [==============================] - 468s 8ms/step - loss: 0.5636 - acc: 0.8141 - val_loss: 0.0714 - val_acc: 0.9899\n",
            "Epoch 16/20\n",
            "60000/60000 [==============================] - 470s 8ms/step - loss: 0.5290 - acc: 0.8251 - val_loss: 0.0664 - val_acc: 0.9914\n",
            "Epoch 17/20\n",
            "60000/60000 [==============================] - 471s 8ms/step - loss: 0.5026 - acc: 0.8317 - val_loss: 0.0483 - val_acc: 0.9914\n",
            "Epoch 18/20\n",
            "60000/60000 [==============================] - 469s 8ms/step - loss: 0.4811 - acc: 0.8326 - val_loss: 0.0405 - val_acc: 0.9916\n",
            "Epoch 19/20\n",
            "60000/60000 [==============================] - 467s 8ms/step - loss: 0.4724 - acc: 0.8328 - val_loss: 0.0412 - val_acc: 0.9915\n",
            "Epoch 20/20\n",
            "60000/60000 [==============================] - 468s 8ms/step - loss: 0.4599 - acc: 0.8403 - val_loss: 0.0404 - val_acc: 0.9922\n"
          ]
        },
        {
          "data": {
            "text/plain": [
              "<keras.callbacks.History at 0x7f89b226d8d0>"
            ]
          },
          "execution_count": 9,
          "metadata": {
            "tags": []
          },
          "output_type": "execute_result"
        }
      ],
      "source": [
        "model.compile(loss=keras.losses.categorical_crossentropy, optimizer=keras.optimizers.Adam(),metrics=['accuracy'])\n",
        "\n",
        "model.fit(x_train, y_train,batch_size=batch_size,epochs=epochs,verbose=1,validation_data=(x_test, y_test))"
      ]
    },
    {
      "cell_type": "code",
      "execution_count": null,
      "metadata": {
        "colab": {
          "base_uri": "https://localhost:8080/",
          "height": 318
        },
        "id": "iJsp3ll_frSv",
        "outputId": "080c85a9-e557-4614-a532-923459ea0769"
      },
      "outputs": [
        {
          "name": "stdout",
          "output_type": "stream",
          "text": [
            "Test score: 0.04044302058815956\n",
            "Test accuracy: 0.9922\n"
          ]
        },
        {
          "data": {
            "image/png": "[encoded data removed]",
            "text/plain": [
              "<Figure size 432x288 with 1 Axes>"
            ]
          },
          "metadata": {
            "tags": []
          },
          "output_type": "display_data"
        }
      ],
      "source": [
        "score = model.evaluate(x_test, y_test, verbose=0)\n",
        "print('Test score:', score[0])\n",
        "print('Test accuracy:', score[1])\n",
        "import matplotlib.pyplot as plt\n",
        "%matplotlib inline\n",
        "\n",
        "fig,ax = plt.subplots(1,1)\n",
        "ax.set_xlabel('epoch') ; ax.set_ylabel('Categorical Crossentropy Loss')\n",
        "\n",
        "\n",
        "x = list(range(1,epochs+1))\n",
        "vy = model.history.history['val_loss']\n",
        "ty = model.history.history['loss']\n",
        "plt_dynamic(x, vy, ty, ax)"
      ]
    },
    {
      "cell_type": "code",
      "execution_count": null,
      "metadata": {
        "id": "rLCfJDoFLkBs"
      },
      "outputs": [],
      "source": [
        "batch_size = 128\n",
        "num_classes = 10\n",
        "epochs = 20"
      ]
    },
    {
      "cell_type": "code",
      "execution_count": null,
      "metadata": {
        "id": "edQLk7M7LkV2"
      },
      "outputs": [],
      "source": [
        "from keras.layers.normalization import BatchNormalization\n",
        "\n",
        "model = Sequential()\n",
        "model.add(Conv2D(32, kernel_size=(3, 3),activation='relu',input_shape=input_shape))\n",
        "model.add(MaxPooling2D(pool_size=(2, 2)))\n",
        "model.add(Conv2D(64, (5, 5), activation='sigmoid',kernel_initializer=he_normal(seed=None)))\n",
        "model.add(BatchNormalization())\n",
        "model.add(Conv2D(64, (2, 2), activation='sigmoid',kernel_initializer=glorot_uniform(seed=None)))\n",
        "model.add(Flatten())\n",
        "model.add(Dense(128, activation='relu',kernel_initializer=he_normal(seed=None)))\n",
        "model.add(Dense(num_classes, activation='softmax'))"
      ]
    },
    {
      "cell_type": "code",
      "execution_count": null,
      "metadata": {
        "colab": {
          "base_uri": "https://localhost:8080/",
          "height": 756
        },
        "id": "etIphAjBLx84",
        "outputId": "b3d44609-d29b-4aaa-c89a-04c4948c2bfc"
      },
      "outputs": [
        {
          "name": "stdout",
          "output_type": "stream",
          "text": [
            "Train on 60000 samples, validate on 10000 samples\n",
            "Epoch 1/20\n",
            "60000/60000 [==============================] - 93s 2ms/step - loss: 0.3719 - acc: 0.8920 - val_loss: 0.1510 - val_acc: 0.9533\n",
            "Epoch 2/20\n",
            "60000/60000 [==============================] - 92s 2ms/step - loss: 0.0696 - acc: 0.9797 - val_loss: 0.0721 - val_acc: 0.9765\n",
            "Epoch 3/20\n",
            "60000/60000 [==============================] - 92s 2ms/step - loss: 0.0511 - acc: 0.9845 - val_loss: 0.0702 - val_acc: 0.9772\n",
            "Epoch 4/20\n",
            "60000/60000 [==============================] - 91s 2ms/step - loss: 0.0409 - acc: 0.9871 - val_loss: 0.0656 - val_acc: 0.9800\n",
            "Epoch 5/20\n",
            "60000/60000 [==============================] - 91s 2ms/step - loss: 0.0354 - acc: 0.9889 - val_loss: 0.0367 - val_acc: 0.9878\n",
            "Epoch 6/20\n",
            "60000/60000 [==============================] - 91s 2ms/step - loss: 0.0319 - acc: 0.9896 - val_loss: 0.0434 - val_acc: 0.9867\n",
            "Epoch 7/20\n",
            "60000/60000 [==============================] - 91s 2ms/step - loss: 0.0288 - acc: 0.9908 - val_loss: 0.0499 - val_acc: 0.9848\n",
            "Epoch 8/20\n",
            "60000/60000 [==============================] - 91s 2ms/step - loss: 0.0237 - acc: 0.9921 - val_loss: 0.0310 - val_acc: 0.9898\n",
            "Epoch 9/20\n",
            "60000/60000 [==============================] - 91s 2ms/step - loss: 0.0204 - acc: 0.9934 - val_loss: 0.0569 - val_acc: 0.9845\n",
            "Epoch 10/20\n",
            "60000/60000 [==============================] - 92s 2ms/step - loss: 0.0183 - acc: 0.9939 - val_loss: 0.0480 - val_acc: 0.9856\n",
            "Epoch 11/20\n",
            "60000/60000 [==============================] - 92s 2ms/step - loss: 0.0141 - acc: 0.9953 - val_loss: 0.0319 - val_acc: 0.9904\n",
            "Epoch 12/20\n",
            "60000/60000 [==============================] - 91s 2ms/step - loss: 0.0135 - acc: 0.9956 - val_loss: 0.0502 - val_acc: 0.9847\n",
            "Epoch 13/20\n",
            "60000/60000 [==============================] - 91s 2ms/step - loss: 0.0130 - acc: 0.9954 - val_loss: 0.0435 - val_acc: 0.9869\n",
            "Epoch 14/20\n",
            "60000/60000 [==============================] - 91s 2ms/step - loss: 0.0123 - acc: 0.9959 - val_loss: 0.0418 - val_acc: 0.9898\n",
            "Epoch 15/20\n",
            "60000/60000 [==============================] - 91s 2ms/step - loss: 0.0085 - acc: 0.9971 - val_loss: 0.0748 - val_acc: 0.9788\n",
            "Epoch 16/20\n",
            "60000/60000 [==============================] - 91s 2ms/step - loss: 0.0098 - acc: 0.9965 - val_loss: 0.0574 - val_acc: 0.9858\n",
            "Epoch 17/20\n",
            "60000/60000 [==============================] - 92s 2ms/step - loss: 0.0075 - acc: 0.9976 - val_loss: 0.0421 - val_acc: 0.9896\n",
            "Epoch 18/20\n",
            "60000/60000 [==============================] - 92s 2ms/step - loss: 0.0047 - acc: 0.9985 - val_loss: 0.2800 - val_acc: 0.9354\n",
            "Epoch 19/20\n",
            "60000/60000 [==============================] - 92s 2ms/step - loss: 0.0093 - acc: 0.9968 - val_loss: 0.0397 - val_acc: 0.9899\n",
            "Epoch 20/20\n",
            "60000/60000 [==============================] - 92s 2ms/step - loss: 0.0078 - acc: 0.9973 - val_loss: 0.0392 - val_acc: 0.9901\n"
          ]
        },
        {
          "data": {
            "text/plain": [
              "<keras.callbacks.History at 0x7f89a9e8ac88>"
            ]
          },
          "execution_count": 14,
          "metadata": {
            "tags": []
          },
          "output_type": "execute_result"
        }
      ],
      "source": [
        "model.compile(loss=keras.losses.categorical_crossentropy, optimizer=keras.optimizers.Adam(),metrics=['accuracy'])\n",
        "\n",
        "model.fit(x_train, y_train,batch_size=batch_size,epochs=epochs,verbose=1,validation_data=(x_test, y_test))"
      ]
    },
    {
      "cell_type": "code",
      "execution_count": null,
      "metadata": {
        "colab": {
          "base_uri": "https://localhost:8080/",
          "height": 318
        },
        "id": "rLQHjPsPLyB3",
        "outputId": "c39299a4-4bde-431e-bb00-32b2719a405b"
      },
      "outputs": [
        {
          "name": "stdout",
          "output_type": "stream",
          "text": [
            "Test score: 0.03922282522960559\n",
            "Test accuracy: 0.9901\n"
          ]
        },
        {
          "data": {
            "image/png": "[encoded data removed]",
            "text/plain": [
              "<Figure size 432x288 with 1 Axes>"
            ]
          },
          "metadata": {
            "tags": []
          },
          "output_type": "display_data"
        }
      ],
      "source": [
        "score = model.evaluate(x_test, y_test, verbose=0)\n",
        "print('Test score:', score[0])\n",
        "print('Test accuracy:', score[1])\n",
        "import matplotlib.pyplot as plt\n",
        "%matplotlib inline\n",
        "\n",
        "fig,ax = plt.subplots(1,1)\n",
        "ax.set_xlabel('epoch') ; ax.set_ylabel('Categorical Crossentropy Loss')\n",
        "\n",
        "\n",
        "x = list(range(1,epochs+1))\n",
        "vy = model.history.history['val_loss']\n",
        "ty = model.history.history['loss']\n",
        "plt_dynamic(x, vy, ty, ax)"
      ]
    },
    {
      "cell_type": "markdown",
      "metadata": {
        "id": "AtskW6tHHOWa"
      },
      "source": [
        "# conclusion"
      ]
    },
    {
      "cell_type": "markdown",
      "metadata": {
        "id": "TUBW0aG3HOWb"
      },
      "source": [
        "1.CNN converge fast as compared with normal Neural Networks."
      ]
    },
    {
      "cell_type": "markdown",
      "metadata": {
        "id": "LGbsLDCiHOWc"
      },
      "source": [
        "2.For 5_layer CNN dosen't work well."
      ]
    },
    {
      "cell_type": "markdown",
      "metadata": {
        "id": "O4JCkdFqHOWc"
      },
      "source": [
        "3.It takes too long time to train than normal Neural Networks"
      ]
    },
    {
      "cell_type": "markdown",
      "metadata": {
        "id": "Orvl0GufHOWd"
      },
      "source": [
        "4.I think that for simple dataset we use appropriate no. of layers or small no. of layers if we increase,then accuracy also decrease"
      ]
    },
    {
      "cell_type": "markdown",
      "metadata": {
        "id": "q8kRYRuqHOWe"
      },
      "source": [
        "5.Because no. of convolution layers also one of the hyperparameter."
      ]
    },
    {
      "cell_type": "code",
      "execution_count": null,
      "metadata": {
        "colab": {
          "base_uri": "https://localhost:8080/",
          "height": 138
        },
        "id": "W-kWdovtHOWf",
        "outputId": "f90fd63c-0521-4354-b82c-676451a98ce4"
      },
      "outputs": [
        {
          "name": "stdout",
          "output_type": "stream",
          "text": [
            "+-------------------+----------+---------+\n",
            "|       model       | accuracy |   loss  |\n",
            "+-------------------+----------+---------+\n",
            "| 2_LAYER CNNETWORK |  0.995   |  0.0149 |\n",
            "| 3_LAYER CNNETWORK |  0.9927  |  0.0259 |\n",
            "| 5_LAYER CNNETWORK |  0.1711  | 13.3602 |\n",
            "+-------------------+----------+---------+\n"
          ]
        }
      ],
      "source": [
        "from prettytable import PrettyTable\n",
        "CNN_table = PrettyTable()\n",
        "CNN_table.field_names = ['model','accuracy','loss']\n",
        "CNN_table.add_row(['2_LAYER CNNETWORK',0.9950,0.0149])\n",
        "CNN_table.add_row(['3_LAYER CNNETWORK',0.9927,0.0259])\n",
        "CNN_table.add_row(['5_LAYER CNNETWORK',0.1711,13.3602])\n",
        "print(CNN_table)"
      ]
    },
    {
      "cell_type": "markdown",
      "metadata": {
        "id": "81Wk6mclBt9N"
      },
      "source": [
        "# CNN with DIFFERENT INTILALIZERS,BATCH NORMALIZTIONS,DROPOUTS,OPTIMIZZERS"
      ]
    },
    {
      "cell_type": "code",
      "execution_count": null,
      "metadata": {
        "id": "pQcsulnZBt9N",
        "outputId": "cb3335a4-8f67-4a80-f910-9ec6df8cbc4f"
      },
      "outputs": [
        {
          "name": "stdout",
          "output_type": "stream",
          "text": [
            "+-------------------+----------+--------+\n",
            "|       model       | accuracy |  loss  |\n",
            "+-------------------+----------+--------+\n",
            "| 2_LAYER CNNETWORK |  0.9899  | 0.0295 |\n",
            "| 3_LAYER CNNETWORK |  0.9927  | 0.0404 |\n",
            "| 2_LAYER CNNETWORK |  0.9901  | 0.0392 |\n",
            "+-------------------+----------+--------+\n"
          ]
        }
      ],
      "source": [
        "from prettytable import PrettyTable\n",
        "CNN_table = PrettyTable()\n",
        "CNN_table.field_names = ['model','accuracy','loss']\n",
        "CNN_table.add_row(['2_LAYER CNNETWORK',0.9899,0.0295])\n",
        "CNN_table.add_row(['3_LAYER CNNETWORK',0.9927,0.0404])\n",
        "CNN_table.add_row(['2_LAYER CNNETWORK',0.9901,0.0392])\n",
        "print(CNN_table)"
      ]
    }
  ],
  "metadata": {
    "colab": {
      "provenance": []
    },
    "kernelspec": {
      "display_name": "Python 3",
      "language": "python",
      "name": "python3"
    },
    "language_info": {
      "codemirror_mode": {
        "name": "ipython",
        "version": 3
      },
      "file_extension": ".py",
      "mimetype": "text/x-python",
      "name": "python",
      "nbconvert_exporter": "python",
      "pygments_lexer": "ipython3",
      "version": "3.7.3"
    }
  },
  "nbformat": 4,
  "nbformat_minor": 0
}