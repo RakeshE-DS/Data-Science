{
  "nbformat": 4,
  "nbformat_minor": 0,
  "metadata": {
    "colab": {
      "provenance": []
    },
    "language_info": {
      "codemirror_mode": {
        "name": "ipython",
        "version": 3
      },
      "file_extension": ".py",
      "mimetype": "text/x-python",
      "name": "python",
      "nbconvert_exporter": "python",
      "pygments_lexer": "ipython3",
      "version": "3.6.8"
    },
    "kernelspec": {
      "display_name": "Python 3",
      "language": "python",
      "name": "python3"
    }
  },
  "cells": [
    {
      "cell_type": "code",
      "metadata": {
        "id": "I2S-uFqwSvmg"
      },
      "source": [
        "import numpy as np\n",
        "import pandas as pd\n",
        "from sklearn.datasets import make_classification\n",
        "import warnings\n",
        "warnings.filterwarnings(\"ignore\")"
      ],
      "execution_count": null,
      "outputs": []
    },
    {
      "cell_type": "code",
      "metadata": {
        "id": "FUxLkBjISvmr"
      },
      "source": [
        "X, y= make_classification(n_samples=50000, n_features=15, n_informative=10, n_redundant=5,\n",
        "                           n_classes=2, weights=[0.7], class_sep=0.7, random_state=15)"
      ],
      "execution_count": null,
      "outputs": []
    },
    {
      "cell_type": "code",
      "metadata": {
        "id": "Zk7ahuTn5gzI",
        "outputId": "70a05954-aca6-4820-a03c-3d28da56912e",
        "colab": {
          "base_uri": "https://localhost:8080/",
          "height": 272
        }
      },
      "source": [
        "import sklearn\n",
        "sklearn.preprocessing.normalize(X, norm='l2', axis=1, copy=False, return_norm=True)"
      ],
      "execution_count": null,
      "outputs": [
        {
          "output_type": "execute_result",
          "data": {
            "text/plain": [
              "(array([[ 0.19917683, -0.17148737,  0.06925171, ..., -0.31970457,\n",
              "         -0.10489594, -0.11638156],\n",
              "        [-0.13433095, -0.19888778,  0.02192397, ..., -0.32386368,\n",
              "          0.04326174,  0.25634003],\n",
              "        [ 0.32558422, -0.02151571, -0.17981467, ..., -0.17165523,\n",
              "         -0.16128725, -0.01318716],\n",
              "        ...,\n",
              "        [-0.19088235, -0.15969476,  0.00573845, ..., -0.38586713,\n",
              "          0.11713307,  0.20015308],\n",
              "        [ 0.09071051, -0.28505176, -0.18457006, ..., -0.23432957,\n",
              "         -0.01671511,  0.13510785],\n",
              "        [-0.01180974, -0.08286806,  0.12491022, ..., -0.39947408,\n",
              "         -0.10514837,  0.61021706]]),\n",
              " array([ 5.88088161, 12.92235011, 13.6291254 , ..., 11.64712499,\n",
              "        11.76959011,  8.57476829]))"
            ]
          },
          "metadata": {
            "tags": []
          },
          "execution_count": 62
        }
      ]
    },
    {
      "cell_type": "code",
      "metadata": {
        "id": "OjNyuqzRTg_8",
        "outputId": "62be81ba-ba84-4d9c-9991-07b4870218b3",
        "colab": {
          "base_uri": "https://localhost:8080/",
          "height": 238
        }
      },
      "source": [
        "print(X)"
      ],
      "execution_count": null,
      "outputs": [
        {
          "output_type": "stream",
          "text": [
            "[[ 0.19917683 -0.17148737  0.06925171 ... -0.31970457 -0.10489594\n",
            "  -0.11638156]\n",
            " [-0.13433095 -0.19888778  0.02192397 ... -0.32386368  0.04326174\n",
            "   0.25634003]\n",
            " [ 0.32558422 -0.02151571 -0.17981467 ... -0.17165523 -0.16128725\n",
            "  -0.01318716]\n",
            " ...\n",
            " [-0.19088235 -0.15969476  0.00573845 ... -0.38586713  0.11713307\n",
            "   0.20015308]\n",
            " [ 0.09071051 -0.28505176 -0.18457006 ... -0.23432957 -0.01671511\n",
            "   0.13510785]\n",
            " [-0.01180974 -0.08286806  0.12491022 ... -0.39947408 -0.10514837\n",
            "   0.61021706]]\n"
          ],
          "name": "stdout"
        }
      ]
    },
    {
      "cell_type": "code",
      "metadata": {
        "id": "xexp5GYNSvmz",
        "outputId": "462c0d1d-9130-4366-e6ad-486ca3bf6b18",
        "colab": {
          "base_uri": "https://localhost:8080/",
          "height": 34
        }
      },
      "source": [
        "X.shape, y.shape"
      ],
      "execution_count": null,
      "outputs": [
        {
          "output_type": "execute_result",
          "data": {
            "text/plain": [
              "((50000, 15), (50000,))"
            ]
          },
          "metadata": {
            "tags": []
          },
          "execution_count": 64
        }
      ]
    },
    {
      "cell_type": "markdown",
      "metadata": {
        "id": "54vJVc_KSvm9"
      },
      "source": [
        ""
      ]
    },
    {
      "cell_type": "code",
      "metadata": {
        "id": "9pKAn1-ASvm_"
      },
      "source": [
        "from sklearn.model_selection import train_test_split"
      ],
      "execution_count": null,
      "outputs": []
    },
    {
      "cell_type": "code",
      "metadata": {
        "id": "r97pFTgrSvnE"
      },
      "source": [
        "X_train, X_test, y_train, y_test = train_test_split(X, y, test_size=0.25, random_state=15)"
      ],
      "execution_count": null,
      "outputs": []
    },
    {
      "cell_type": "code",
      "metadata": {
        "id": "9Hji9lW3Rw5R",
        "outputId": "e19a6523-31d1-47b1-8447-534d9f1e68cb",
        "colab": {
          "base_uri": "https://localhost:8080/",
          "height": 238
        }
      },
      "source": [
        "print(X_train)"
      ],
      "execution_count": null,
      "outputs": [
        {
          "output_type": "stream",
          "text": [
            "[[-0.09811375 -0.03253229 -0.01126424 ... -0.38622752 -0.33126249\n",
            "   0.2826986 ]\n",
            " [ 0.33049211 -0.08283194  0.0857184  ... -0.05808271  0.056571\n",
            "  -0.27021197]\n",
            " [ 0.48198126  0.15817593 -0.11746193 ... -0.09424722  0.32530128\n",
            "  -0.56065564]\n",
            " ...\n",
            " [-0.3511466   0.26348178 -0.18269109 ... -0.0683018   0.0020681\n",
            "  -0.1872317 ]\n",
            " [ 0.13692054 -0.03057438 -0.05723354 ... -0.09701482 -0.35657374\n",
            "   0.12387046]\n",
            " [-0.27194638  0.31103232  0.11448757 ...  0.16880169 -0.16401583\n",
            "  -0.0117882 ]]\n"
          ],
          "name": "stdout"
        }
      ]
    },
    {
      "cell_type": "code",
      "metadata": {
        "id": "jykLIXZNSvnJ",
        "outputId": "8398ef7b-46c3-45da-8bfc-44119280624b",
        "colab": {
          "base_uri": "https://localhost:8080/",
          "height": 34
        }
      },
      "source": [
        "X_train.shape, y_train.shape, X_test.shape, y_test.shape"
      ],
      "execution_count": null,
      "outputs": [
        {
          "output_type": "execute_result",
          "data": {
            "text/plain": [
              "((37500, 15), (37500,), (12500, 15), (12500,))"
            ]
          },
          "metadata": {
            "tags": []
          },
          "execution_count": 68
        }
      ]
    },
    {
      "cell_type": "markdown",
      "metadata": {
        "id": "g0-M6oXASvnO"
      },
      "source": [
        ""
      ]
    },
    {
      "cell_type": "code",
      "metadata": {
        "id": "sShoMeocSvnP"
      },
      "source": [
        "from sklearn import linear_model"
      ],
      "execution_count": null,
      "outputs": []
    },
    {
      "cell_type": "code",
      "metadata": {
        "id": "gm6wi8L2SvnU",
        "outputId": "5f08d73d-7e18-4f4d-8c9f-1f9afd7bf8bf",
        "colab": {
          "base_uri": "https://localhost:8080/",
          "height": 119
        }
      },
      "source": [
        "# alpha : float\n",
        "# Constant that multiplies the regularization term.\n",
        "\n",
        "# eta0 : double\n",
        "# The initial learning rate for the ‘constant’, ‘invscaling’ or ‘adaptive’ schedules.\n",
        "\n",
        "clf = linear_model.SGDClassifier(eta0=0.0001, alpha=0.0001, loss='log', random_state=15, penalty='l2', tol=1e-3, verbose=2, learning_rate='constant')\n",
        "clf"
      ],
      "execution_count": null,
      "outputs": [
        {
          "output_type": "execute_result",
          "data": {
            "text/plain": [
              "SGDClassifier(alpha=0.0001, average=False, class_weight=None,\n",
              "              early_stopping=False, epsilon=0.1, eta0=0.0001,\n",
              "              fit_intercept=True, l1_ratio=0.15, learning_rate='constant',\n",
              "              loss='log', max_iter=1000, n_iter_no_change=5, n_jobs=None,\n",
              "              penalty='l2', power_t=0.5, random_state=15, shuffle=True,\n",
              "              tol=0.001, validation_fraction=0.1, verbose=2, warm_start=False)"
            ]
          },
          "metadata": {
            "tags": []
          },
          "execution_count": 70
        }
      ]
    },
    {
      "cell_type": "code",
      "metadata": {
        "id": "Q4WFoxgASvnc",
        "outputId": "f21b040b-e49d-49a8-cc98-914fd6464b10",
        "colab": {
          "base_uri": "https://localhost:8080/",
          "height": 1000
        }
      },
      "source": [
        "clf.fit(X=X_train, y=y_train)"
      ],
      "execution_count": null,
      "outputs": [
        {
          "output_type": "stream",
          "text": [
            "-- Epoch 1\n",
            "Norm: 0.32, NNZs: 15, Bias: -0.477100, T: 37500, Avg. loss: 0.635994\n",
            "Total training time: 0.01 seconds.\n",
            "-- Epoch 2\n",
            "Norm: 0.59, NNZs: 15, Bias: -0.660234, T: 75000, Avg. loss: 0.583921\n",
            "Total training time: 0.02 seconds.\n",
            "-- Epoch 3\n",
            "Norm: 0.84, NNZs: 15, Bias: -0.736425, T: 112500, Avg. loss: 0.561119\n",
            "Total training time: 0.03 seconds.\n",
            "-- Epoch 4\n",
            "Norm: 1.07, NNZs: 15, Bias: -0.770770, T: 150000, Avg. loss: 0.544935\n",
            "Total training time: 0.04 seconds.\n",
            "-- Epoch 5\n",
            "Norm: 1.28, NNZs: 15, Bias: -0.789773, T: 187500, Avg. loss: 0.531584\n",
            "Total training time: 0.05 seconds.\n",
            "-- Epoch 6\n",
            "Norm: 1.48, NNZs: 15, Bias: -0.799627, T: 225000, Avg. loss: 0.520119\n",
            "Total training time: 0.07 seconds.\n",
            "-- Epoch 7\n",
            "Norm: 1.66, NNZs: 15, Bias: -0.805164, T: 262500, Avg. loss: 0.510111\n",
            "Total training time: 0.08 seconds.\n",
            "-- Epoch 8\n",
            "Norm: 1.84, NNZs: 15, Bias: -0.810115, T: 300000, Avg. loss: 0.501289\n",
            "Total training time: 0.09 seconds.\n",
            "-- Epoch 9\n",
            "Norm: 2.00, NNZs: 15, Bias: -0.814269, T: 337500, Avg. loss: 0.493452\n",
            "Total training time: 0.10 seconds.\n",
            "-- Epoch 10\n",
            "Norm: 2.15, NNZs: 15, Bias: -0.820052, T: 375000, Avg. loss: 0.486440\n",
            "Total training time: 0.11 seconds.\n",
            "-- Epoch 11\n",
            "Norm: 2.30, NNZs: 15, Bias: -0.822881, T: 412500, Avg. loss: 0.480134\n",
            "Total training time: 0.12 seconds.\n",
            "-- Epoch 12\n",
            "Norm: 2.44, NNZs: 15, Bias: -0.826602, T: 450000, Avg. loss: 0.474424\n",
            "Total training time: 0.13 seconds.\n",
            "-- Epoch 13\n",
            "Norm: 2.57, NNZs: 15, Bias: -0.830403, T: 487500, Avg. loss: 0.469229\n",
            "Total training time: 0.14 seconds.\n",
            "-- Epoch 14\n",
            "Norm: 2.70, NNZs: 15, Bias: -0.833569, T: 525000, Avg. loss: 0.464482\n",
            "Total training time: 0.15 seconds.\n",
            "-- Epoch 15\n",
            "Norm: 2.82, NNZs: 15, Bias: -0.835769, T: 562500, Avg. loss: 0.460127\n",
            "Total training time: 0.16 seconds.\n",
            "-- Epoch 16\n",
            "Norm: 2.94, NNZs: 15, Bias: -0.839477, T: 600000, Avg. loss: 0.456113\n",
            "Total training time: 0.17 seconds.\n",
            "-- Epoch 17\n",
            "Norm: 3.05, NNZs: 15, Bias: -0.842366, T: 637500, Avg. loss: 0.452404\n",
            "Total training time: 0.18 seconds.\n",
            "-- Epoch 18\n",
            "Norm: 3.16, NNZs: 15, Bias: -0.844424, T: 675000, Avg. loss: 0.448964\n",
            "Total training time: 0.19 seconds.\n",
            "-- Epoch 19\n",
            "Norm: 3.26, NNZs: 15, Bias: -0.844368, T: 712500, Avg. loss: 0.445764\n",
            "Total training time: 0.21 seconds.\n",
            "-- Epoch 20\n",
            "Norm: 3.36, NNZs: 15, Bias: -0.846376, T: 750000, Avg. loss: 0.442783\n",
            "Total training time: 0.22 seconds.\n",
            "-- Epoch 21\n",
            "Norm: 3.46, NNZs: 15, Bias: -0.847661, T: 787500, Avg. loss: 0.439995\n",
            "Total training time: 0.23 seconds.\n",
            "-- Epoch 22\n",
            "Norm: 3.55, NNZs: 15, Bias: -0.849717, T: 825000, Avg. loss: 0.437385\n",
            "Total training time: 0.24 seconds.\n",
            "-- Epoch 23\n",
            "Norm: 3.64, NNZs: 15, Bias: -0.853964, T: 862500, Avg. loss: 0.434935\n",
            "Total training time: 0.25 seconds.\n",
            "-- Epoch 24\n",
            "Norm: 3.73, NNZs: 15, Bias: -0.855295, T: 900000, Avg. loss: 0.432632\n",
            "Total training time: 0.26 seconds.\n",
            "-- Epoch 25\n",
            "Norm: 3.81, NNZs: 15, Bias: -0.856448, T: 937500, Avg. loss: 0.430461\n",
            "Total training time: 0.27 seconds.\n",
            "-- Epoch 26\n",
            "Norm: 3.89, NNZs: 15, Bias: -0.858897, T: 975000, Avg. loss: 0.428413\n",
            "Total training time: 0.28 seconds.\n",
            "-- Epoch 27\n",
            "Norm: 3.97, NNZs: 15, Bias: -0.861565, T: 1012500, Avg. loss: 0.426479\n",
            "Total training time: 0.29 seconds.\n",
            "-- Epoch 28\n",
            "Norm: 4.05, NNZs: 15, Bias: -0.860218, T: 1050000, Avg. loss: 0.424647\n",
            "Total training time: 0.30 seconds.\n",
            "-- Epoch 29\n",
            "Norm: 4.12, NNZs: 15, Bias: -0.861981, T: 1087500, Avg. loss: 0.422914\n",
            "Total training time: 0.31 seconds.\n",
            "-- Epoch 30\n",
            "Norm: 4.20, NNZs: 15, Bias: -0.861856, T: 1125000, Avg. loss: 0.421268\n",
            "Total training time: 0.32 seconds.\n",
            "-- Epoch 31\n",
            "Norm: 4.27, NNZs: 15, Bias: -0.864577, T: 1162500, Avg. loss: 0.419705\n",
            "Total training time: 0.33 seconds.\n",
            "-- Epoch 32\n",
            "Norm: 4.34, NNZs: 15, Bias: -0.866036, T: 1200000, Avg. loss: 0.418219\n",
            "Total training time: 0.35 seconds.\n",
            "-- Epoch 33\n",
            "Norm: 4.40, NNZs: 15, Bias: -0.865978, T: 1237500, Avg. loss: 0.416805\n",
            "Total training time: 0.36 seconds.\n",
            "-- Epoch 34\n",
            "Norm: 4.47, NNZs: 15, Bias: -0.867570, T: 1275000, Avg. loss: 0.415458\n",
            "Total training time: 0.37 seconds.\n",
            "-- Epoch 35\n",
            "Norm: 4.53, NNZs: 15, Bias: -0.867695, T: 1312500, Avg. loss: 0.414173\n",
            "Total training time: 0.38 seconds.\n",
            "-- Epoch 36\n",
            "Norm: 4.60, NNZs: 15, Bias: -0.867665, T: 1350000, Avg. loss: 0.412947\n",
            "Total training time: 0.39 seconds.\n",
            "-- Epoch 37\n",
            "Norm: 4.66, NNZs: 15, Bias: -0.867360, T: 1387500, Avg. loss: 0.411775\n",
            "Total training time: 0.40 seconds.\n",
            "-- Epoch 38\n",
            "Norm: 4.72, NNZs: 15, Bias: -0.869401, T: 1425000, Avg. loss: 0.410655\n",
            "Total training time: 0.41 seconds.\n",
            "-- Epoch 39\n",
            "Norm: 4.78, NNZs: 15, Bias: -0.870012, T: 1462500, Avg. loss: 0.409584\n",
            "Total training time: 0.43 seconds.\n",
            "-- Epoch 40\n",
            "Norm: 4.83, NNZs: 15, Bias: -0.870352, T: 1500000, Avg. loss: 0.408557\n",
            "Total training time: 0.44 seconds.\n",
            "-- Epoch 41\n",
            "Norm: 4.89, NNZs: 15, Bias: -0.871628, T: 1537500, Avg. loss: 0.407575\n",
            "Total training time: 0.45 seconds.\n",
            "-- Epoch 42\n",
            "Norm: 4.94, NNZs: 15, Bias: -0.872472, T: 1575000, Avg. loss: 0.406633\n",
            "Total training time: 0.46 seconds.\n",
            "-- Epoch 43\n",
            "Norm: 5.00, NNZs: 15, Bias: -0.872993, T: 1612500, Avg. loss: 0.405728\n",
            "Total training time: 0.47 seconds.\n",
            "-- Epoch 44\n",
            "Norm: 5.05, NNZs: 15, Bias: -0.874342, T: 1650000, Avg. loss: 0.404860\n",
            "Total training time: 0.48 seconds.\n",
            "-- Epoch 45\n",
            "Norm: 5.10, NNZs: 15, Bias: -0.874006, T: 1687500, Avg. loss: 0.404028\n",
            "Total training time: 0.49 seconds.\n",
            "Convergence after 45 epochs took 0.49 seconds\n"
          ],
          "name": "stdout"
        },
        {
          "output_type": "execute_result",
          "data": {
            "text/plain": [
              "SGDClassifier(alpha=0.0001, average=False, class_weight=None,\n",
              "              early_stopping=False, epsilon=0.1, eta0=0.0001,\n",
              "              fit_intercept=True, l1_ratio=0.15, learning_rate='constant',\n",
              "              loss='log', max_iter=1000, n_iter_no_change=5, n_jobs=None,\n",
              "              penalty='l2', power_t=0.5, random_state=15, shuffle=True,\n",
              "              tol=0.001, validation_fraction=0.1, verbose=2, warm_start=False)"
            ]
          },
          "metadata": {
            "tags": []
          },
          "execution_count": 71
        }
      ]
    },
    {
      "cell_type": "code",
      "metadata": {
        "id": "7WaVxhGpSvnj",
        "outputId": "c8fd944a-f8c5-4b0f-c1f9-a0c79c2d4c81",
        "colab": {
          "base_uri": "https://localhost:8080/",
          "height": 102
        }
      },
      "source": [
        "clf.coef_, clf.coef_.shape, clf.intercept_"
      ],
      "execution_count": null,
      "outputs": [
        {
          "output_type": "execute_result",
          "data": {
            "text/plain": [
              "(array([[-2.02492781,  1.00579238,  0.11339269,  1.37251278, -0.40212214,\n",
              "          2.37919685, -2.67496857, -0.29989002,  1.43081003,  0.4520751 ,\n",
              "          0.9396812 , -0.26636841, -0.14244103,  1.58422877,  0.46727601]]),\n",
              " (1, 15),\n",
              " array([-0.87400631]))"
            ]
          },
          "metadata": {
            "tags": []
          },
          "execution_count": 72
        }
      ]
    },
    {
      "cell_type": "markdown",
      "metadata": {
        "id": "Su9e8fRLSvno"
      },
      "source": [
        ""
      ]
    },
    {
      "cell_type": "markdown",
      "metadata": {
        "id": "gcz5_UqCSvnq"
      },
      "source": [
        ""
      ]
    },
    {
      "cell_type": "markdown",
      "metadata": {
        "id": "UOBvEchCSvnr"
      },
      "source": [
        "## Implement Logistc Regression with L2 regularization Using SGD: without using sklearn"
      ]
    },
    {
      "cell_type": "markdown",
      "metadata": {
        "id": "Xbn61rrXSvnt"
      },
      "source": [
        "### Instructions"
      ]
    },
    {
      "cell_type": "markdown",
      "metadata": {
        "id": "14bA5yR3Svnv"
      },
      "source": [
        "- Load the datasets(train and test) into the respective arrays"
      ]
    },
    {
      "cell_type": "markdown",
      "metadata": {
        "id": "c7183hFBSvnv"
      },
      "source": [
        "- Initialize the weight_vector and intercept term randomly"
      ]
    },
    {
      "cell_type": "markdown",
      "metadata": {
        "id": "hdLeFU0USvnx"
      },
      "source": [
        "- Calculate the initlal log loss for the train and test data with the current weight and intercept and store it in a list"
      ]
    },
    {
      "cell_type": "markdown",
      "metadata": {
        "id": "pEVtAlO1Svny"
      },
      "source": [
        "- for each epoch:\n",
        "    - for each batch of data points in train: (keep batch size=1)\n",
        "        - calculate the gradient of loss function w.r.t each weight in weight vector\n",
        "        - Calculate the gradient of the intercept <a href='https://drive.google.com/file/d/1nQ08-XY4zvOLzRX-lGf8EYB5arb7-m1H/view?usp=sharing'>check this</a>\n",
        "        - Update weights and intercept (check the equation number 32 in the above mentioned <a href='https://drive.google.com/file/d/1nQ08-XY4zvOLzRX-lGf8EYB5arb7-m1H/view?usp=sharing'>pdf</a>): <br>\n",
        "        $w^{(t+1)} ← (1 − \\frac{αλ}{N} )w^{(t)} + αx_n(y_n − σ((w^{(t)})^{T} x_n+b^{t}))$ <br>\n",
        "        $b^{(t+1)} ← (b^t +  α(y_n - σ((w^{(t)})^{T} x_n+b^{t}))$\n",
        "        - calculate the log loss for train and test with the updated weights (you can check the python assignment 10th question)\n",
        "        - And if you wish, you can compare the previous loss and the current loss, if it is not updating, then\n",
        "        you can stop the training\n",
        "        - append this loss in the list ( this will be used to see how loss is changing for each epoch after the training is over )\n"
      ]
    },
    {
      "cell_type": "markdown",
      "metadata": {
        "id": "2qmRH4UpSvny"
      },
      "source": [
        "- Plot the train and test loss i.e on x-axis the epoch number, and on y-axis the loss"
      ]
    },
    {
      "cell_type": "markdown",
      "metadata": {
        "id": "lbZf9p5gSvn1"
      },
      "source": [
        "- <strong>GOAL</strong>: compare your implementation and SGDClassifier's the weights and intercept, make sure they are as close as possible i.e difference should be in terms of 10^-3"
      ]
    },
    {
      "cell_type": "code",
      "metadata": {
        "id": "fyw8HLzZRZ0c"
      },
      "source": [
        "print(X_train)"
      ],
      "execution_count": null,
      "outputs": []
    },
    {
      "cell_type": "code",
      "metadata": {
        "id": "cjjNm1-mwMuY",
        "outputId": "da9d4ee8-46fa-4b91-9673-d3b0cde0c800",
        "colab": {
          "base_uri": "https://localhost:8080/",
          "height": 34
        }
      },
      "source": [
        "from tqdm import tqdm\n",
        "lenw= X_train.shape[0]\n",
        "w= np.zeros_like(X_train[0])\n",
        "b = 0\n",
        "eta0  = 0.0001\n",
        "alpha = 0.0001\n",
        "N = len(X_train)\n",
        "def sigmoid(w,X,b):\n",
        "\n",
        "  value= 1/(1+np.exp(-(np.dot(w,X)+ b))) # -----> 1xm\n",
        "  return value\n",
        "def compute_loss(X,y,w,b):\n",
        "  n=len(X)\n",
        "  loss1=0\n",
        "  for i in range(len(X)):\n",
        "    loss1 +=((y[i]*np.log10(sigmoid(w,X[i],b)) )+((1-y[i])*np.log10(1-sigmoid(w,X[i],b))))\n",
        "  loss=-(1/n)*loss1\n",
        "  return loss\n",
        "epochs=20\n",
        "train_loss=[]\n",
        "test_loss=[]\n",
        "train_loss.append(compute_loss(X_train,y_train,w,b))\n",
        "test_loss.append(compute_loss(X_test,y_test,w,b))\n",
        "train_loss_computed=[]\n",
        "test_loss_computed=[]\n",
        "for epoch in tqdm(range(epochs)):\n",
        "  for i in range(len(X_train)):\n",
        "    w_1=w\n",
        "    b_1=b\n",
        "    w_2=(1-((eta0*alpha)/N)) * w_1 + (((alpha * X_train[i])*(y_train[i]-sigmoid(w_1,X[i],b_1))))\n",
        "    b_2=((1-((eta0*alpha)/N)) * b_1)+ (((alpha)*(y_train[i]-sigmoid(w_1,X[i],b_1))))\n",
        "    w=w_2\n",
        "    b=b_2\n",
        "  train_loss_computed.append(compute_loss(X_train,y_train,w,b))\n",
        "  test_loss_computed.append(compute_loss(X_test,y_test,w,b))"
      ],
      "execution_count": null,
      "outputs": [
        {
          "output_type": "stream",
          "text": [
            "100%|██████████| 20/20 [00:32<00:00,  1.63s/it]\n"
          ],
          "name": "stderr"
        }
      ]
    },
    {
      "cell_type": "code",
      "metadata": {
        "id": "Z3COgzZw629v",
        "outputId": "c7389918-60bd-4c9a-9610-b4298b76a397",
        "colab": {
          "base_uri": "https://localhost:8080/",
          "height": 85
        }
      },
      "source": [
        "abs(w-clf.coef_)*0.01, abs(b-clf.intercept_)*0.01"
      ],
      "execution_count": null,
      "outputs": [
        {
          "output_type": "execute_result",
          "data": {
            "text/plain": [
              "(array([[0.00368776, 0.00313078, 0.01205674, 0.00219289, 0.00506066,\n",
              "         0.00092596, 0.00016019, 0.00268008, 0.01775066, 0.00378542,\n",
              "         0.00211915, 0.00228175, 0.00722637, 0.00295033, 0.00917945]]),\n",
              " array([0.00302394]))"
            ]
          },
          "metadata": {
            "tags": []
          },
          "execution_count": 76
        }
      ]
    },
    {
      "cell_type": "code",
      "metadata": {
        "id": "kPgVl6kKY2Ul",
        "outputId": "28656dee-6d82-4841-e79d-4a0d478ac67e",
        "colab": {
          "base_uri": "https://localhost:8080/",
          "height": 295
        }
      },
      "source": [
        "import matplotlib.pyplot as plt\n",
        "%matplotlib inline\n",
        "e=[1,2,3,4,5,6,7,8,9,10,11,12,13,14,15,16,17,18,19,20]\n",
        "plt.plot(e,train_loss_computed,label=\"trainloss\")\n",
        "plt.plot(e,test_loss_computed,label=\"test loss\")\n",
        "plt.legend()\n",
        "plt.xlabel('epochs')\n",
        "plt.ylabel('loss')\n",
        "plt.title(\"train and test loss plot\")\n",
        "plt.show()"
      ],
      "execution_count": null,
      "outputs": [
        {
          "output_type": "display_data",
          "data": {
            "image/png": "[encoded data removed]",
            "text/plain": [
              "<Figure size 432x288 with 1 Axes>"
            ]
          },
          "metadata": {
            "tags": []
          }
        }
      ]
    },
    {
      "cell_type": "code",
      "metadata": {
        "id": "47SULwRLSw8f",
        "outputId": "09be85b5-39f2-481e-e96e-ccc7be42b5db",
        "colab": {
          "base_uri": "https://localhost:8080/",
          "height": 51
        }
      },
      "source": [
        "def pred(w,b, X):\n",
        " N = len(X)\n",
        " predict = []\n",
        " for i in range(N):\n",
        "  if (sigmoid(w, X[i], b) >=0.5):\n",
        "    predict.append(1)\n",
        "  else:\n",
        "    predict.append(0)\n",
        " return np.array(predict)\n",
        "print(1-np.sum(y_train - pred(w,b,X_train))/len(X_train))\n",
        "print(1-np.sum(y_test - pred(w,b,X_test))/len(X_test))"
      ],
      "execution_count": null,
      "outputs": [
        {
          "output_type": "stream",
          "text": [
            "0.9899733333333334\n",
            "0.98504\n"
          ],
          "name": "stdout"
        }
      ]
    }
  ]
}