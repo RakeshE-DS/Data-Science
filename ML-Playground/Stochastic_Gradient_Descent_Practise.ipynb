{
  "nbformat": 4,
  "nbformat_minor": 0,
  "metadata": {
    "colab": {
      "provenance": []
    },
    "kernelspec": {
      "display_name": "Python 3",
      "language": "python",
      "name": "python3"
    },
    "language_info": {
      "codemirror_mode": {
        "name": "ipython",
        "version": 3
      },
      "file_extension": ".py",
      "mimetype": "text/x-python",
      "name": "python",
      "nbconvert_exporter": "python",
      "pygments_lexer": "ipython3",
      "version": "3.5.3"
    }
  },
  "cells": [
    {
      "cell_type": "code",
      "metadata": {
        "id": "REYPoTJ1Af7u"
      },
      "source": [
        "import warnings\n",
        "warnings.filterwarnings(\"ignore\")\n",
        "from sklearn.datasets import load_boston\n",
        "from random import seed\n",
        "from random import randrange\n",
        "from csv import reader\n",
        "\n",
        "from math import sqrt\n",
        "from sklearn import preprocessing\n",
        "import pandas as pd\n",
        "import numpy as np\n",
        "import matplotlib.pyplot as plt\n",
        "from prettytable import PrettyTable\n",
        "from sklearn.linear_model import SGDRegressor\n",
        "from sklearn import preprocessing\n",
        "from sklearn.metrics import mean_squared_error\n",
        "from sklearn.datasets import make_classification"
      ],
      "execution_count": null,
      "outputs": []
    },
    {
      "cell_type": "code",
      "metadata": {
        "id": "TgXE_UXjvpn8"
      },
      "source": [
        "x, y= make_classification(n_samples=50000, n_features=15, n_informative=10, n_redundant=5,\n",
        "                           n_classes=2, weights=[0.7], class_sep=0.7, random_state=15)"
      ],
      "execution_count": null,
      "outputs": []
    },
    {
      "cell_type": "code",
      "metadata": {
        "id": "lMDGy2tlv-Ds",
        "colab": {
          "base_uri": "https://localhost:8080/",
          "height": 283
        },
        "outputId": "113130ea-d828-488b-b1f2-397d6f258dbc"
      },
      "source": [
        "import sklearn\n",
        "sklearn.preprocessing.normalize(X, norm='l2', axis=1, copy=False, return_norm=True)"
      ],
      "execution_count": null,
      "outputs": [
        {
          "output_type": "execute_result",
          "data": {
            "text/plain": [
              "(array([[ 0.19917683, -0.17148737,  0.06925171, ..., -0.31970457,\n",
              "         -0.10489594, -0.11638156],\n",
              "        [-0.13433095, -0.19888778,  0.02192397, ..., -0.32386368,\n",
              "          0.04326174,  0.25634003],\n",
              "        [ 0.32558422, -0.02151571, -0.17981467, ..., -0.17165523,\n",
              "         -0.16128725, -0.01318716],\n",
              "        ...,\n",
              "        [-0.19088235, -0.15969476,  0.00573845, ..., -0.38586713,\n",
              "          0.11713307,  0.20015308],\n",
              "        [ 0.09071051, -0.28505176, -0.18457006, ..., -0.23432957,\n",
              "         -0.01671511,  0.13510785],\n",
              "        [-0.01180974, -0.08286806,  0.12491022, ..., -0.39947408,\n",
              "         -0.10514837,  0.61021706]]),\n",
              " array([ 5.88088161, 12.92235011, 13.6291254 , ..., 11.64712499,\n",
              "        11.76959011,  8.57476829]))"
            ]
          },
          "metadata": {
            "tags": []
          },
          "execution_count": 5
        }
      ]
    },
    {
      "cell_type": "code",
      "metadata": {
        "id": "29KbnQCYwEr4"
      },
      "source": [
        "from sklearn.model_selection import train_test_split"
      ],
      "execution_count": null,
      "outputs": []
    },
    {
      "cell_type": "code",
      "metadata": {
        "id": "306bdLdqwHL4"
      },
      "source": [
        "X, X_test, Y, y_test = train_test_split(X, y, test_size=0.25, random_state=15)"
      ],
      "execution_count": null,
      "outputs": []
    },
    {
      "cell_type": "code",
      "metadata": {
        "id": "h-TnN6ZpwJZR",
        "colab": {
          "base_uri": "https://localhost:8080/",
          "height": 34
        },
        "outputId": "8d12db1e-8197-4556-9776-985798eefece"
      },
      "source": [
        "X.shape, Y.shape, X_test.shape, y_test.shape"
      ],
      "execution_count": null,
      "outputs": [
        {
          "output_type": "execute_result",
          "data": {
            "text/plain": [
              "((37500, 15), (37500,), (12500, 15), (12500,))"
            ]
          },
          "metadata": {
            "tags": []
          },
          "execution_count": 8
        }
      ]
    },
    {
      "cell_type": "code",
      "metadata": {
        "id": "_-zpzzE5vdyp",
        "colab": {
          "base_uri": "https://localhost:8080/",
          "height": 34
        },
        "outputId": "9f11cceb-a64e-4fbd-bbf8-156f84217c12"
      },
      "source": [
        "X.shape"
      ],
      "execution_count": null,
      "outputs": [
        {
          "output_type": "execute_result",
          "data": {
            "text/plain": [
              "(37500, 15)"
            ]
          },
          "metadata": {
            "tags": []
          },
          "execution_count": 9
        }
      ]
    },
    {
      "cell_type": "code",
      "metadata": {
        "id": "YAlGK_bzvdyy"
      },
      "source": [
        "w=np.random.randn(1,15)"
      ],
      "execution_count": null,
      "outputs": []
    },
    {
      "cell_type": "code",
      "metadata": {
        "id": "3_l1hOH7vdy3"
      },
      "source": [
        "w=w[0]\n",
        "b=0"
      ],
      "execution_count": null,
      "outputs": []
    },
    {
      "cell_type": "code",
      "metadata": {
        "id": "5OumHBCovdy9",
        "colab": {
          "base_uri": "https://localhost:8080/",
          "height": 34
        },
        "outputId": "6f6848dc-2190-4b16-cae9-770c31d0baa5"
      },
      "source": [
        "r=0.01\n",
        "loss=0\n",
        "for i in range(len(X)):\n",
        "    loss+=(Y[i]-(np.dot(w,X[i])+b))**2\n",
        "print(loss/len(X))\n",
        ""
      ],
      "execution_count": null,
      "outputs": [
        {
          "output_type": "stream",
          "text": [
            "1.8154191169425407\n"
          ],
          "name": "stdout"
        }
      ]
    },
    {
      "cell_type": "code",
      "metadata": {
        "id": "DUHLzTtjvdzD"
      },
      "source": [
        "mse=[]\n",
        "for i in range(10):\n",
        "    b_g=0\n",
        "    m=[0]*15\n",
        "    for j in range(len(X)):\n",
        "        b_g+=(-2/len(X))*(Y[j]-(np.dot(w,X[j])+b))\n",
        "        for p in range(15):\n",
        "            m[p]+=(-2/len(X))*(Y[j]-(np.dot(w,X[j])+b))*X[j][p]\n",
        "    b=b-b_g*0.01\n",
        "    for q in range(15):\n",
        "        w[q]-=m[q]*0.01\n",
        "    loss=0\n",
        "    for m in range(len(X)):\n",
        "        loss+=(Y[m]-(np.dot(X[m],w)+b))**2\n",
        "    mse.append(loss/len(X))"
      ],
      "execution_count": null,
      "outputs": []
    },
    {
      "cell_type": "code",
      "metadata": {
        "id": "FcEyIOo6vdzJ",
        "colab": {
          "base_uri": "https://localhost:8080/",
          "height": 34
        },
        "outputId": "d5ec3996-51ba-4dc5-ae49-53eeca6e8a5a"
      },
      "source": [
        "loss=0\n",
        "for i in range(len(X)):\n",
        "    loss+=(Y[i]-(np.dot(X[i],w)+b))**2\n",
        "print(loss/len(X))"
      ],
      "execution_count": null,
      "outputs": [
        {
          "output_type": "stream",
          "text": [
            "1.6009818827161815\n"
          ],
          "name": "stdout"
        }
      ]
    },
    {
      "cell_type": "code",
      "metadata": {
        "id": "JZxnz_0_vdzQ"
      },
      "source": [
        "plt.plot(range(1000),mse)\n",
        "plt.xlabel('iterations')\n",
        "plt.ylabel('mean squared_error')\n",
        "plt.show"
      ],
      "execution_count": null,
      "outputs": []
    },
    {
      "cell_type": "code",
      "metadata": {
        "id": "Wct68r0XvdzX"
      },
      "source": [
        "l=[]\n",
        "for i in range(len(X)):\n",
        "    #print('actual_value:{} :predicted_value:{}'.format(Y[i],(np.dot(X[i],w))+b))\n",
        "    l.append([Y[i],np.dot(X[i],w)+b])"
      ],
      "execution_count": null,
      "outputs": []
    },
    {
      "cell_type": "code",
      "metadata": {
        "id": "4mqNP8oovdzd",
        "colab": {
          "base_uri": "https://localhost:8080/",
          "height": 406
        },
        "outputId": "acce9738-5663-4167-ad3e-4a774fac7433"
      },
      "source": [
        "df=pd.DataFrame(l,columns=['actual','predicted'])\n",
        "df"
      ],
      "execution_count": null,
      "outputs": [
        {
          "output_type": "execute_result",
          "data": {
            "text/html": [
              "<div>\n",
              "<style scoped>\n",
              "    .dataframe tbody tr th:only-of-type {\n",
              "        vertical-align: middle;\n",
              "    }\n",
              "\n",
              "    .dataframe tbody tr th {\n",
              "        vertical-align: top;\n",
              "    }\n",
              "\n",
              "    .dataframe thead th {\n",
              "        text-align: right;\n",
              "    }\n",
              "</style>\n",
              "<table border=\"1\" class=\"dataframe\">\n",
              "  <thead>\n",
              "    <tr style=\"text-align: right;\">\n",
              "      <th></th>\n",
              "      <th>actual</th>\n",
              "      <th>predicted</th>\n",
              "    </tr>\n",
              "  </thead>\n",
              "  <tbody>\n",
              "    <tr>\n",
              "      <th>0</th>\n",
              "      <td>0</td>\n",
              "      <td>-1.095499</td>\n",
              "    </tr>\n",
              "    <tr>\n",
              "      <th>1</th>\n",
              "      <td>0</td>\n",
              "      <td>-1.255179</td>\n",
              "    </tr>\n",
              "    <tr>\n",
              "      <th>2</th>\n",
              "      <td>0</td>\n",
              "      <td>-1.665058</td>\n",
              "    </tr>\n",
              "    <tr>\n",
              "      <th>3</th>\n",
              "      <td>1</td>\n",
              "      <td>0.563463</td>\n",
              "    </tr>\n",
              "    <tr>\n",
              "      <th>4</th>\n",
              "      <td>0</td>\n",
              "      <td>0.686348</td>\n",
              "    </tr>\n",
              "    <tr>\n",
              "      <th>...</th>\n",
              "      <td>...</td>\n",
              "      <td>...</td>\n",
              "    </tr>\n",
              "    <tr>\n",
              "      <th>37495</th>\n",
              "      <td>0</td>\n",
              "      <td>-0.803866</td>\n",
              "    </tr>\n",
              "    <tr>\n",
              "      <th>37496</th>\n",
              "      <td>0</td>\n",
              "      <td>-1.069808</td>\n",
              "    </tr>\n",
              "    <tr>\n",
              "      <th>37497</th>\n",
              "      <td>1</td>\n",
              "      <td>-0.267738</td>\n",
              "    </tr>\n",
              "    <tr>\n",
              "      <th>37498</th>\n",
              "      <td>0</td>\n",
              "      <td>-1.230016</td>\n",
              "    </tr>\n",
              "    <tr>\n",
              "      <th>37499</th>\n",
              "      <td>0</td>\n",
              "      <td>1.929059</td>\n",
              "    </tr>\n",
              "  </tbody>\n",
              "</table>\n",
              "<p>37500 rows × 2 columns</p>\n",
              "</div>"
            ],
            "text/plain": [
              "       actual  predicted\n",
              "0           0  -1.095499\n",
              "1           0  -1.255179\n",
              "2           0  -1.665058\n",
              "3           1   0.563463\n",
              "4           0   0.686348\n",
              "...       ...        ...\n",
              "37495       0  -0.803866\n",
              "37496       0  -1.069808\n",
              "37497       1  -0.267738\n",
              "37498       0  -1.230016\n",
              "37499       0   1.929059\n",
              "\n",
              "[37500 rows x 2 columns]"
            ]
          },
          "metadata": {
            "tags": []
          },
          "execution_count": 19
        }
      ]
    },
    {
      "cell_type": "code",
      "metadata": {
        "id": "bGeNm7NAvdzi"
      },
      "source": [
        "predicted=[]\n",
        "for i in range(len(X)):\n",
        "    predicted.append(np.dot(X[i],w)+b)"
      ],
      "execution_count": null,
      "outputs": []
    },
    {
      "cell_type": "code",
      "metadata": {
        "id": "6063OoWSvdzo",
        "outputId": "4747f5dd-a745-4d77-89f6-5e02faa19847"
      },
      "source": [
        "plt.plot(Y,range(506),'rs',label='^actual')\n",
        "plt.plot(predicted,range(506),'g^',label='^predicted')\n",
        "plt.ylabel('points')\n",
        "plt.xlabel('value')\n",
        "plt.grid()\n",
        "plt.legend()\n"
      ],
      "execution_count": null,
      "outputs": [
        {
          "output_type": "execute_result",
          "data": {
            "text/plain": [
              "<matplotlib.legend.Legend at 0x7f90ed02bcf8>"
            ]
          },
          "metadata": {
            "tags": []
          },
          "execution_count": 23
        },
        {
          "output_type": "display_data",
          "data": {
            "image/png": "[encoded data removed]",
            "text/plain": [
              "<Figure size 432x288 with 1 Axes>"
            ]
          },
          "metadata": {
            "tags": [],
            "needs_background": "light"
          }
        }
      ]
    },
    {
      "cell_type": "code",
      "metadata": {
        "id": "nZLuyXn0vdzu",
        "colab": {
          "base_uri": "https://localhost:8080/",
          "height": 123
        },
        "outputId": "3f5ec268-1e6d-4db3-e038-043c9fbd5e13"
      },
      "source": [
        "clf = SGDRegressor()\n",
        "clf.fit(X, Y)"
      ],
      "execution_count": null,
      "outputs": [
        {
          "output_type": "execute_result",
          "data": {
            "text/plain": [
              "SGDRegressor(alpha=0.0001, average=False, early_stopping=False, epsilon=0.1,\n",
              "             eta0=0.01, fit_intercept=True, l1_ratio=0.15,\n",
              "             learning_rate='invscaling', loss='squared_loss', max_iter=1000,\n",
              "             n_iter_no_change=5, penalty='l2', power_t=0.25, random_state=None,\n",
              "             shuffle=True, tol=0.001, validation_fraction=0.1, verbose=0,\n",
              "             warm_start=False)"
            ]
          },
          "metadata": {
            "tags": []
          },
          "execution_count": 21
        }
      ]
    },
    {
      "cell_type": "code",
      "metadata": {
        "id": "MKmOz-NZvdz5",
        "colab": {
          "base_uri": "https://localhost:8080/",
          "height": 34
        },
        "outputId": "471eab93-4249-4faf-8a89-a5dd808fc0a9"
      },
      "source": [
        "print(mean_squared_error(Y,clf.predict(X)))"
      ],
      "execution_count": null,
      "outputs": [
        {
          "output_type": "stream",
          "text": [
            "0.12887947093914473\n"
          ],
          "name": "stdout"
        }
      ]
    },
    {
      "cell_type": "code",
      "metadata": {
        "id": "HB01qRHbvd0A"
      },
      "source": [
        "k=clf.predict(X)"
      ],
      "execution_count": null,
      "outputs": []
    },
    {
      "cell_type": "code",
      "metadata": {
        "id": "EjNfAYV4vd0F"
      },
      "source": [
        "l=[]\n",
        "for i in range(len(X)):\n",
        "    l.append([Y[i],k[i]])"
      ],
      "execution_count": null,
      "outputs": []
    },
    {
      "cell_type": "code",
      "metadata": {
        "id": "mssXh7FUxiTK"
      },
      "source": [],
      "execution_count": null,
      "outputs": []
    },
    {
      "cell_type": "code",
      "metadata": {
        "id": "8q4u5tl2vd0L",
        "colab": {
          "base_uri": "https://localhost:8080/",
          "height": 406
        },
        "outputId": "1ad7fd7d-1ae0-4112-a55b-a9a917e2ea4f"
      },
      "source": [
        "df1=pd.DataFrame(l,columns=['actual','predicted'])\n",
        "df1"
      ],
      "execution_count": null,
      "outputs": [
        {
          "output_type": "execute_result",
          "data": {
            "text/html": [
              "<div>\n",
              "<style scoped>\n",
              "    .dataframe tbody tr th:only-of-type {\n",
              "        vertical-align: middle;\n",
              "    }\n",
              "\n",
              "    .dataframe tbody tr th {\n",
              "        vertical-align: top;\n",
              "    }\n",
              "\n",
              "    .dataframe thead th {\n",
              "        text-align: right;\n",
              "    }\n",
              "</style>\n",
              "<table border=\"1\" class=\"dataframe\">\n",
              "  <thead>\n",
              "    <tr style=\"text-align: right;\">\n",
              "      <th></th>\n",
              "      <th>actual</th>\n",
              "      <th>predicted</th>\n",
              "    </tr>\n",
              "  </thead>\n",
              "  <tbody>\n",
              "    <tr>\n",
              "      <th>0</th>\n",
              "      <td>0</td>\n",
              "      <td>0.133987</td>\n",
              "    </tr>\n",
              "    <tr>\n",
              "      <th>1</th>\n",
              "      <td>0</td>\n",
              "      <td>-0.400991</td>\n",
              "    </tr>\n",
              "    <tr>\n",
              "      <th>2</th>\n",
              "      <td>0</td>\n",
              "      <td>-0.016423</td>\n",
              "    </tr>\n",
              "    <tr>\n",
              "      <th>3</th>\n",
              "      <td>1</td>\n",
              "      <td>0.216528</td>\n",
              "    </tr>\n",
              "    <tr>\n",
              "      <th>4</th>\n",
              "      <td>0</td>\n",
              "      <td>0.269124</td>\n",
              "    </tr>\n",
              "    <tr>\n",
              "      <th>...</th>\n",
              "      <td>...</td>\n",
              "      <td>...</td>\n",
              "    </tr>\n",
              "    <tr>\n",
              "      <th>37495</th>\n",
              "      <td>0</td>\n",
              "      <td>0.025412</td>\n",
              "    </tr>\n",
              "    <tr>\n",
              "      <th>37496</th>\n",
              "      <td>0</td>\n",
              "      <td>0.145504</td>\n",
              "    </tr>\n",
              "    <tr>\n",
              "      <th>37497</th>\n",
              "      <td>1</td>\n",
              "      <td>1.013559</td>\n",
              "    </tr>\n",
              "    <tr>\n",
              "      <th>37498</th>\n",
              "      <td>0</td>\n",
              "      <td>0.143679</td>\n",
              "    </tr>\n",
              "    <tr>\n",
              "      <th>37499</th>\n",
              "      <td>0</td>\n",
              "      <td>0.486713</td>\n",
              "    </tr>\n",
              "  </tbody>\n",
              "</table>\n",
              "<p>37500 rows × 2 columns</p>\n",
              "</div>"
            ],
            "text/plain": [
              "       actual  predicted\n",
              "0           0   0.133987\n",
              "1           0  -0.400991\n",
              "2           0  -0.016423\n",
              "3           1   0.216528\n",
              "4           0   0.269124\n",
              "...       ...        ...\n",
              "37495       0   0.025412\n",
              "37496       0   0.145504\n",
              "37497       1   1.013559\n",
              "37498       0   0.143679\n",
              "37499       0   0.486713\n",
              "\n",
              "[37500 rows x 2 columns]"
            ]
          },
          "metadata": {
            "tags": []
          },
          "execution_count": 25
        }
      ]
    },
    {
      "cell_type": "code",
      "metadata": {
        "id": "sY78A5MJvd0R",
        "outputId": "00baf210-8c0c-47d6-9ebe-a970d447945f"
      },
      "source": [
        "plt.plot(Y,range(506),'rs',label='^actual')\n",
        "plt.plot(clf.predict(X),range(506),'g^',label='^predicted')\n",
        "plt.ylabel('points')\n",
        "plt.xlabel('value')\n",
        "plt.grid()\n",
        "plt.legend()"
      ],
      "execution_count": null,
      "outputs": [
        {
          "output_type": "execute_result",
          "data": {
            "text/plain": [
              "<matplotlib.legend.Legend at 0x7f90ecfafd30>"
            ]
          },
          "metadata": {
            "tags": []
          },
          "execution_count": 32
        },
        {
          "output_type": "display_data",
          "data": {
            "image/png": "[encoded data removed]",
            "text/plain": [
              "<Figure size 432x288 with 1 Axes>"
            ]
          },
          "metadata": {
            "tags": [],
            "needs_background": "light"
          }
        }
      ]
    },
    {
      "cell_type": "code",
      "metadata": {
        "id": "z71Af6bRvd0X"
      },
      "source": [
        "w1=clf.coef_"
      ],
      "execution_count": null,
      "outputs": []
    },
    {
      "cell_type": "code",
      "metadata": {
        "id": "v8dSnUWYvd0e"
      },
      "source": [
        "l=[]\n",
        "for i in range(13):\n",
        "    l.append([w[i],w1[i]])"
      ],
      "execution_count": null,
      "outputs": []
    },
    {
      "cell_type": "code",
      "metadata": {
        "id": "eWivwoI4vd0m",
        "outputId": "d6a20980-8b5d-4c43-ae64-31a7e5c38c6d"
      },
      "source": [
        "df=pd.DataFrame(l,columns=['weights of actual implementation','weights of sgdregressor'])\n",
        "df"
      ],
      "execution_count": null,
      "outputs": [
        {
          "output_type": "execute_result",
          "data": {
            "text/html": [
              "<div>\n",
              "<style scoped>\n",
              "    .dataframe tbody tr th:only-of-type {\n",
              "        vertical-align: middle;\n",
              "    }\n",
              "\n",
              "    .dataframe tbody tr th {\n",
              "        vertical-align: top;\n",
              "    }\n",
              "\n",
              "    .dataframe thead th {\n",
              "        text-align: right;\n",
              "    }\n",
              "</style>\n",
              "<table border=\"1\" class=\"dataframe\">\n",
              "  <thead>\n",
              "    <tr style=\"text-align: right;\">\n",
              "      <th></th>\n",
              "      <th>weights of actual implementation</th>\n",
              "      <th>weights of sgdregressor</th>\n",
              "    </tr>\n",
              "  </thead>\n",
              "  <tbody>\n",
              "    <tr>\n",
              "      <th>0</th>\n",
              "      <td>-0.876210</td>\n",
              "      <td>-0.900982</td>\n",
              "    </tr>\n",
              "    <tr>\n",
              "      <th>1</th>\n",
              "      <td>0.996047</td>\n",
              "      <td>1.001871</td>\n",
              "    </tr>\n",
              "    <tr>\n",
              "      <th>2</th>\n",
              "      <td>-0.118030</td>\n",
              "      <td>-0.151602</td>\n",
              "    </tr>\n",
              "    <tr>\n",
              "      <th>3</th>\n",
              "      <td>0.716848</td>\n",
              "      <td>0.691633</td>\n",
              "    </tr>\n",
              "    <tr>\n",
              "      <th>4</th>\n",
              "      <td>-1.939348</td>\n",
              "      <td>-1.998964</td>\n",
              "    </tr>\n",
              "    <tr>\n",
              "      <th>5</th>\n",
              "      <td>2.735584</td>\n",
              "      <td>2.769887</td>\n",
              "    </tr>\n",
              "    <tr>\n",
              "      <th>6</th>\n",
              "      <td>-0.043350</td>\n",
              "      <td>-0.065345</td>\n",
              "    </tr>\n",
              "    <tr>\n",
              "      <th>7</th>\n",
              "      <td>-3.090592</td>\n",
              "      <td>-2.997300</td>\n",
              "    </tr>\n",
              "    <tr>\n",
              "      <th>8</th>\n",
              "      <td>2.030208</td>\n",
              "      <td>1.970073</td>\n",
              "    </tr>\n",
              "    <tr>\n",
              "      <th>9</th>\n",
              "      <td>-1.389225</td>\n",
              "      <td>-1.419642</td>\n",
              "    </tr>\n",
              "    <tr>\n",
              "      <th>10</th>\n",
              "      <td>-2.017631</td>\n",
              "      <td>-2.034176</td>\n",
              "    </tr>\n",
              "    <tr>\n",
              "      <th>11</th>\n",
              "      <td>0.849393</td>\n",
              "      <td>0.861934</td>\n",
              "    </tr>\n",
              "    <tr>\n",
              "      <th>12</th>\n",
              "      <td>-3.709262</td>\n",
              "      <td>-3.744615</td>\n",
              "    </tr>\n",
              "  </tbody>\n",
              "</table>\n",
              "</div>"
            ],
            "text/plain": [
              "    weights of actual implementation  weights of sgdregressor\n",
              "0                          -0.876210                -0.900982\n",
              "1                           0.996047                 1.001871\n",
              "2                          -0.118030                -0.151602\n",
              "3                           0.716848                 0.691633\n",
              "4                          -1.939348                -1.998964\n",
              "5                           2.735584                 2.769887\n",
              "6                          -0.043350                -0.065345\n",
              "7                          -3.090592                -2.997300\n",
              "8                           2.030208                 1.970073\n",
              "9                          -1.389225                -1.419642\n",
              "10                         -2.017631                -2.034176\n",
              "11                          0.849393                 0.861934\n",
              "12                         -3.709262                -3.744615"
            ]
          },
          "metadata": {
            "tags": []
          },
          "execution_count": 142
        }
      ]
    },
    {
      "cell_type": "code",
      "metadata": {
        "id": "_pZOdm0qvd0s",
        "outputId": "a13c297f-89c5-4df2-cf0c-75bc2d71159d"
      },
      "source": [
        "df=pd.DataFrame([[21.968159849683104,21.957684088851625]],columns=['mse of sgdregressor','mse of actual implementation'])\n",
        "df"
      ],
      "execution_count": null,
      "outputs": [
        {
          "output_type": "execute_result",
          "data": {
            "text/html": [
              "<div>\n",
              "<style scoped>\n",
              "    .dataframe tbody tr th:only-of-type {\n",
              "        vertical-align: middle;\n",
              "    }\n",
              "\n",
              "    .dataframe tbody tr th {\n",
              "        vertical-align: top;\n",
              "    }\n",
              "\n",
              "    .dataframe thead th {\n",
              "        text-align: right;\n",
              "    }\n",
              "</style>\n",
              "<table border=\"1\" class=\"dataframe\">\n",
              "  <thead>\n",
              "    <tr style=\"text-align: right;\">\n",
              "      <th></th>\n",
              "      <th>mse of sgdregressor</th>\n",
              "      <th>mse of actual implementation</th>\n",
              "    </tr>\n",
              "  </thead>\n",
              "  <tbody>\n",
              "    <tr>\n",
              "      <th>0</th>\n",
              "      <td>21.96816</td>\n",
              "      <td>21.957684</td>\n",
              "    </tr>\n",
              "  </tbody>\n",
              "</table>\n",
              "</div>"
            ],
            "text/plain": [
              "   mse of sgdregressor  mse of actual implementation\n",
              "0             21.96816                     21.957684"
            ]
          },
          "metadata": {
            "tags": []
          },
          "execution_count": 143
        }
      ]
    },
    {
      "cell_type": "markdown",
      "metadata": {
        "id": "1c8kI2Rxvd0y"
      },
      "source": [
        "# Conclusion"
      ]
    },
    {
      "cell_type": "markdown",
      "metadata": {
        "id": "bj8UkN6Yvd00"
      },
      "source": [
        "1.mean squared error is very similar"
      ]
    },
    {
      "cell_type": "markdown",
      "metadata": {
        "id": "i3swImbPvd02"
      },
      "source": [
        "2.weights are also approximately equal in both."
      ]
    },
    {
      "cell_type": "markdown",
      "metadata": {
        "id": "ixsPCDUSvd04"
      },
      "source": [
        "3.by actual implementation, it takes less no. of  itertions to converge."
      ]
    }
  ]
}